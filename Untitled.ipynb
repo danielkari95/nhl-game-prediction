{
 "cells": [
  {
   "cell_type": "code",
   "execution_count": 26,
   "metadata": {},
   "outputs": [],
   "source": [
    "import numpy as np\n",
    "import pandas as pd\n",
    "import tensorflow as tf\n",
    "\n",
    "from sklearn.model_selection import train_test_split"
   ]
  },
  {
   "cell_type": "code",
   "execution_count": 11,
   "metadata": {},
   "outputs": [],
   "source": [
    "np.random.seed(13)"
   ]
  },
  {
   "cell_type": "code",
   "execution_count": 16,
   "metadata": {},
   "outputs": [],
   "source": [
    "hed = [\"Banaani\", \"Ananas\"]\n",
    "maar = [3, 2]\n",
    "ostokset = dict(zip(hed, maar))"
   ]
  },
  {
   "cell_type": "code",
   "execution_count": 38,
   "metadata": {},
   "outputs": [],
   "source": [
    "games = pd.read_csv('data/csv/game.csv')"
   ]
  },
  {
   "cell_type": "code",
   "execution_count": 39,
   "metadata": {},
   "outputs": [
    {
     "data": {
      "text/html": [
       "<div>\n",
       "<style scoped>\n",
       "    .dataframe tbody tr th:only-of-type {\n",
       "        vertical-align: middle;\n",
       "    }\n",
       "\n",
       "    .dataframe tbody tr th {\n",
       "        vertical-align: top;\n",
       "    }\n",
       "\n",
       "    .dataframe thead th {\n",
       "        text-align: right;\n",
       "    }\n",
       "</style>\n",
       "<table border=\"1\" class=\"dataframe\">\n",
       "  <thead>\n",
       "    <tr style=\"text-align: right;\">\n",
       "      <th></th>\n",
       "      <th>game_id</th>\n",
       "      <th>season</th>\n",
       "      <th>type</th>\n",
       "      <th>date_time</th>\n",
       "      <th>date_time_GMT</th>\n",
       "      <th>away_team_id</th>\n",
       "      <th>home_team_id</th>\n",
       "      <th>away_goals</th>\n",
       "      <th>home_goals</th>\n",
       "      <th>outcome</th>\n",
       "      <th>home_rink_side_start</th>\n",
       "      <th>venue</th>\n",
       "      <th>venue_link</th>\n",
       "      <th>venue_time_zone_id</th>\n",
       "      <th>venue_time_zone_offset</th>\n",
       "      <th>venue_time_zone_tz</th>\n",
       "    </tr>\n",
       "    <tr>\n",
       "      <th>game_id</th>\n",
       "      <th></th>\n",
       "      <th></th>\n",
       "      <th></th>\n",
       "      <th></th>\n",
       "      <th></th>\n",
       "      <th></th>\n",
       "      <th></th>\n",
       "      <th></th>\n",
       "      <th></th>\n",
       "      <th></th>\n",
       "      <th></th>\n",
       "      <th></th>\n",
       "      <th></th>\n",
       "      <th></th>\n",
       "      <th></th>\n",
       "      <th></th>\n",
       "    </tr>\n",
       "  </thead>\n",
       "  <tbody>\n",
       "    <tr>\n",
       "      <td>2011030221</td>\n",
       "      <td>2011030221</td>\n",
       "      <td>20112012</td>\n",
       "      <td>P</td>\n",
       "      <td>2012-04-29</td>\n",
       "      <td>2012-04-29T19:00:00Z</td>\n",
       "      <td>1</td>\n",
       "      <td>4</td>\n",
       "      <td>3</td>\n",
       "      <td>4</td>\n",
       "      <td>home win OT</td>\n",
       "      <td>right</td>\n",
       "      <td>Wells Fargo Center</td>\n",
       "      <td>/api/v1/venues/null</td>\n",
       "      <td>America/New_York</td>\n",
       "      <td>-4</td>\n",
       "      <td>EDT</td>\n",
       "    </tr>\n",
       "    <tr>\n",
       "      <td>2011030222</td>\n",
       "      <td>2011030222</td>\n",
       "      <td>20112012</td>\n",
       "      <td>P</td>\n",
       "      <td>2012-05-01</td>\n",
       "      <td>2012-05-01T23:30:00Z</td>\n",
       "      <td>1</td>\n",
       "      <td>4</td>\n",
       "      <td>4</td>\n",
       "      <td>1</td>\n",
       "      <td>away win REG</td>\n",
       "      <td>right</td>\n",
       "      <td>Wells Fargo Center</td>\n",
       "      <td>/api/v1/venues/null</td>\n",
       "      <td>America/New_York</td>\n",
       "      <td>-4</td>\n",
       "      <td>EDT</td>\n",
       "    </tr>\n",
       "    <tr>\n",
       "      <td>2011030223</td>\n",
       "      <td>2011030223</td>\n",
       "      <td>20112012</td>\n",
       "      <td>P</td>\n",
       "      <td>2012-05-03</td>\n",
       "      <td>2012-05-03T23:30:00Z</td>\n",
       "      <td>4</td>\n",
       "      <td>1</td>\n",
       "      <td>3</td>\n",
       "      <td>4</td>\n",
       "      <td>home win OT</td>\n",
       "      <td>left</td>\n",
       "      <td>Prudential Center</td>\n",
       "      <td>/api/v1/venues/null</td>\n",
       "      <td>America/New_York</td>\n",
       "      <td>-4</td>\n",
       "      <td>EDT</td>\n",
       "    </tr>\n",
       "    <tr>\n",
       "      <td>2011030224</td>\n",
       "      <td>2011030224</td>\n",
       "      <td>20112012</td>\n",
       "      <td>P</td>\n",
       "      <td>2012-05-06</td>\n",
       "      <td>2012-05-06T23:30:00Z</td>\n",
       "      <td>4</td>\n",
       "      <td>1</td>\n",
       "      <td>2</td>\n",
       "      <td>4</td>\n",
       "      <td>home win REG</td>\n",
       "      <td>left</td>\n",
       "      <td>Prudential Center</td>\n",
       "      <td>/api/v1/venues/null</td>\n",
       "      <td>America/New_York</td>\n",
       "      <td>-4</td>\n",
       "      <td>EDT</td>\n",
       "    </tr>\n",
       "    <tr>\n",
       "      <td>2011030225</td>\n",
       "      <td>2011030225</td>\n",
       "      <td>20112012</td>\n",
       "      <td>P</td>\n",
       "      <td>2012-05-08</td>\n",
       "      <td>2012-05-08T23:30:00Z</td>\n",
       "      <td>1</td>\n",
       "      <td>4</td>\n",
       "      <td>3</td>\n",
       "      <td>1</td>\n",
       "      <td>away win REG</td>\n",
       "      <td>right</td>\n",
       "      <td>Wells Fargo Center</td>\n",
       "      <td>/api/v1/venues/null</td>\n",
       "      <td>America/New_York</td>\n",
       "      <td>-4</td>\n",
       "      <td>EDT</td>\n",
       "    </tr>\n",
       "    <tr>\n",
       "      <td>...</td>\n",
       "      <td>...</td>\n",
       "      <td>...</td>\n",
       "      <td>...</td>\n",
       "      <td>...</td>\n",
       "      <td>...</td>\n",
       "      <td>...</td>\n",
       "      <td>...</td>\n",
       "      <td>...</td>\n",
       "      <td>...</td>\n",
       "      <td>...</td>\n",
       "      <td>...</td>\n",
       "      <td>...</td>\n",
       "      <td>...</td>\n",
       "      <td>...</td>\n",
       "      <td>...</td>\n",
       "      <td>...</td>\n",
       "    </tr>\n",
       "    <tr>\n",
       "      <td>2018030413</td>\n",
       "      <td>2018030413</td>\n",
       "      <td>20182019</td>\n",
       "      <td>P</td>\n",
       "      <td>2019-06-02</td>\n",
       "      <td>2019-06-02T00:00:00Z</td>\n",
       "      <td>6</td>\n",
       "      <td>19</td>\n",
       "      <td>7</td>\n",
       "      <td>2</td>\n",
       "      <td>away win REG</td>\n",
       "      <td>left</td>\n",
       "      <td>Enterprise Center</td>\n",
       "      <td>/api/v1/venues/5076</td>\n",
       "      <td>America/Chicago</td>\n",
       "      <td>-5</td>\n",
       "      <td>CDT</td>\n",
       "    </tr>\n",
       "    <tr>\n",
       "      <td>2018030414</td>\n",
       "      <td>2018030414</td>\n",
       "      <td>20182019</td>\n",
       "      <td>P</td>\n",
       "      <td>2019-06-04</td>\n",
       "      <td>2019-06-04T00:00:00Z</td>\n",
       "      <td>6</td>\n",
       "      <td>19</td>\n",
       "      <td>2</td>\n",
       "      <td>4</td>\n",
       "      <td>home win REG</td>\n",
       "      <td>left</td>\n",
       "      <td>Enterprise Center</td>\n",
       "      <td>/api/v1/venues/5076</td>\n",
       "      <td>America/Chicago</td>\n",
       "      <td>-5</td>\n",
       "      <td>CDT</td>\n",
       "    </tr>\n",
       "    <tr>\n",
       "      <td>2018030415</td>\n",
       "      <td>2018030415</td>\n",
       "      <td>20182019</td>\n",
       "      <td>P</td>\n",
       "      <td>2019-06-07</td>\n",
       "      <td>2019-06-07T00:00:00Z</td>\n",
       "      <td>19</td>\n",
       "      <td>6</td>\n",
       "      <td>2</td>\n",
       "      <td>1</td>\n",
       "      <td>away win REG</td>\n",
       "      <td>left</td>\n",
       "      <td>TD Garden</td>\n",
       "      <td>/api/v1/venues/5085</td>\n",
       "      <td>America/New_York</td>\n",
       "      <td>-4</td>\n",
       "      <td>EDT</td>\n",
       "    </tr>\n",
       "    <tr>\n",
       "      <td>2018030416</td>\n",
       "      <td>2018030416</td>\n",
       "      <td>20182019</td>\n",
       "      <td>P</td>\n",
       "      <td>2019-06-10</td>\n",
       "      <td>2019-06-10T00:00:00Z</td>\n",
       "      <td>6</td>\n",
       "      <td>19</td>\n",
       "      <td>5</td>\n",
       "      <td>1</td>\n",
       "      <td>away win REG</td>\n",
       "      <td>left</td>\n",
       "      <td>Enterprise Center</td>\n",
       "      <td>/api/v1/venues/5076</td>\n",
       "      <td>America/Chicago</td>\n",
       "      <td>-5</td>\n",
       "      <td>CDT</td>\n",
       "    </tr>\n",
       "    <tr>\n",
       "      <td>2018030417</td>\n",
       "      <td>2018030417</td>\n",
       "      <td>20182019</td>\n",
       "      <td>P</td>\n",
       "      <td>2019-06-13</td>\n",
       "      <td>2019-06-13T00:00:00Z</td>\n",
       "      <td>19</td>\n",
       "      <td>6</td>\n",
       "      <td>4</td>\n",
       "      <td>1</td>\n",
       "      <td>away win REG</td>\n",
       "      <td>left</td>\n",
       "      <td>TD Garden</td>\n",
       "      <td>/api/v1/venues/5085</td>\n",
       "      <td>America/New_York</td>\n",
       "      <td>-4</td>\n",
       "      <td>EDT</td>\n",
       "    </tr>\n",
       "  </tbody>\n",
       "</table>\n",
       "<p>11434 rows × 16 columns</p>\n",
       "</div>"
      ],
      "text/plain": [
       "               game_id    season type   date_time         date_time_GMT  \\\n",
       "game_id                                                                   \n",
       "2011030221  2011030221  20112012    P  2012-04-29  2012-04-29T19:00:00Z   \n",
       "2011030222  2011030222  20112012    P  2012-05-01  2012-05-01T23:30:00Z   \n",
       "2011030223  2011030223  20112012    P  2012-05-03  2012-05-03T23:30:00Z   \n",
       "2011030224  2011030224  20112012    P  2012-05-06  2012-05-06T23:30:00Z   \n",
       "2011030225  2011030225  20112012    P  2012-05-08  2012-05-08T23:30:00Z   \n",
       "...                ...       ...  ...         ...                   ...   \n",
       "2018030413  2018030413  20182019    P  2019-06-02  2019-06-02T00:00:00Z   \n",
       "2018030414  2018030414  20182019    P  2019-06-04  2019-06-04T00:00:00Z   \n",
       "2018030415  2018030415  20182019    P  2019-06-07  2019-06-07T00:00:00Z   \n",
       "2018030416  2018030416  20182019    P  2019-06-10  2019-06-10T00:00:00Z   \n",
       "2018030417  2018030417  20182019    P  2019-06-13  2019-06-13T00:00:00Z   \n",
       "\n",
       "            away_team_id  home_team_id  away_goals  home_goals       outcome  \\\n",
       "game_id                                                                        \n",
       "2011030221             1             4           3           4   home win OT   \n",
       "2011030222             1             4           4           1  away win REG   \n",
       "2011030223             4             1           3           4   home win OT   \n",
       "2011030224             4             1           2           4  home win REG   \n",
       "2011030225             1             4           3           1  away win REG   \n",
       "...                  ...           ...         ...         ...           ...   \n",
       "2018030413             6            19           7           2  away win REG   \n",
       "2018030414             6            19           2           4  home win REG   \n",
       "2018030415            19             6           2           1  away win REG   \n",
       "2018030416             6            19           5           1  away win REG   \n",
       "2018030417            19             6           4           1  away win REG   \n",
       "\n",
       "           home_rink_side_start               venue           venue_link  \\\n",
       "game_id                                                                    \n",
       "2011030221                right  Wells Fargo Center  /api/v1/venues/null   \n",
       "2011030222                right  Wells Fargo Center  /api/v1/venues/null   \n",
       "2011030223                 left   Prudential Center  /api/v1/venues/null   \n",
       "2011030224                 left   Prudential Center  /api/v1/venues/null   \n",
       "2011030225                right  Wells Fargo Center  /api/v1/venues/null   \n",
       "...                         ...                 ...                  ...   \n",
       "2018030413                 left   Enterprise Center  /api/v1/venues/5076   \n",
       "2018030414                 left   Enterprise Center  /api/v1/venues/5076   \n",
       "2018030415                 left           TD Garden  /api/v1/venues/5085   \n",
       "2018030416                 left   Enterprise Center  /api/v1/venues/5076   \n",
       "2018030417                 left           TD Garden  /api/v1/venues/5085   \n",
       "\n",
       "           venue_time_zone_id  venue_time_zone_offset venue_time_zone_tz  \n",
       "game_id                                                                   \n",
       "2011030221   America/New_York                      -4                EDT  \n",
       "2011030222   America/New_York                      -4                EDT  \n",
       "2011030223   America/New_York                      -4                EDT  \n",
       "2011030224   America/New_York                      -4                EDT  \n",
       "2011030225   America/New_York                      -4                EDT  \n",
       "...                       ...                     ...                ...  \n",
       "2018030413    America/Chicago                      -5                CDT  \n",
       "2018030414    America/Chicago                      -5                CDT  \n",
       "2018030415   America/New_York                      -4                EDT  \n",
       "2018030416    America/Chicago                      -5                CDT  \n",
       "2018030417   America/New_York                      -4                EDT  \n",
       "\n",
       "[11434 rows x 16 columns]"
      ]
     },
     "execution_count": 39,
     "metadata": {},
     "output_type": "execute_result"
    }
   ],
   "source": [
    "games.set_index(games['game_id'])"
   ]
  },
  {
   "cell_type": "code",
   "execution_count": 44,
   "metadata": {},
   "outputs": [
    {
     "data": {
      "text/plain": [
       "array([[0, 0, 0, ..., 0, 0, 0],\n",
       "       [0, 0, 1, ..., 0, 0, 0],\n",
       "       [0, 0, 0, ..., 0, 0, 0],\n",
       "       ...,\n",
       "       [0, 1, 0, ..., 0, 0, 0],\n",
       "       [0, 1, 0, ..., 0, 0, 0],\n",
       "       [0, 1, 0, ..., 0, 0, 0]], dtype=uint8)"
      ]
     },
     "execution_count": 44,
     "metadata": {},
     "output_type": "execute_result"
    }
   ],
   "source": [
    "pd.get_dummies(games['home_goals']).set_index(games['game_id']).sort_index().to_numpy()"
   ]
  },
  {
   "cell_type": "code",
   "execution_count": 32,
   "metadata": {},
   "outputs": [],
   "source": [
    "games_columns = dict(zip(games.columns, np.arange(len(games.columns))))"
   ]
  },
  {
   "cell_type": "code",
   "execution_count": 33,
   "metadata": {},
   "outputs": [
    {
     "data": {
      "text/plain": [
       "{'game_id': 0,\n",
       " 'season': 1,\n",
       " 'type': 2,\n",
       " 'date_time': 3,\n",
       " 'date_time_GMT': 4,\n",
       " 'away_team_id': 5,\n",
       " 'home_team_id': 6,\n",
       " 'away_goals': 7,\n",
       " 'home_goals': 8,\n",
       " 'outcome': 9,\n",
       " 'home_rink_side_start': 10,\n",
       " 'venue': 11,\n",
       " 'venue_link': 12,\n",
       " 'venue_time_zone_id': 13,\n",
       " 'venue_time_zone_offset': 14,\n",
       " 'venue_time_zone_tz': 15}"
      ]
     },
     "execution_count": 33,
     "metadata": {},
     "output_type": "execute_result"
    }
   ],
   "source": [
    "games_columns"
   ]
  },
  {
   "cell_type": "code",
   "execution_count": 24,
   "metadata": {},
   "outputs": [],
   "source": [
    "import json\n",
    "with open('data/json/testi.json', 'w') as outfile:\n",
    "    json.dump(ostokset, outfile)"
   ]
  },
  {
   "cell_type": "code",
   "execution_count": 23,
   "metadata": {},
   "outputs": [
    {
     "name": "stdout",
     "output_type": "stream",
     "text": [
      "{'Banaani': 3, 'Ananas': 2}\n"
     ]
    }
   ],
   "source": [
    "print(data)"
   ]
  },
  {
   "cell_type": "code",
   "execution_count": 3,
   "metadata": {},
   "outputs": [],
   "source": [
    "X = np.random.randint(low=0, high=2, size=(1000, 25))"
   ]
  },
  {
   "cell_type": "code",
   "execution_count": 4,
   "metadata": {},
   "outputs": [],
   "source": [
    "y = np.greater(np.sum(X, axis=1), 12).astype(np.int8)"
   ]
  },
  {
   "cell_type": "code",
   "execution_count": 5,
   "metadata": {},
   "outputs": [],
   "source": [
    "X_train, X_test, y_train, y_test = train_test_split(X, y, test_size=0.25, random_state=1313)"
   ]
  },
  {
   "cell_type": "code",
   "execution_count": 6,
   "metadata": {},
   "outputs": [],
   "source": [
    "model = tf.keras.models.Sequential([\n",
    "  tf.keras.layers.Dense(128, activation='relu'),\n",
    "  # tf.keras.layers.Flatten(),  \n",
    "  tf.keras.layers.Dense(64, activation='relu'),\n",
    "  tf.keras.layers.Dense(1, activation='sigmoid')\n",
    "])\n",
    "model.compile(optimizer='adam',\n",
    "              loss='binary_crossentropy',\n",
    "              metrics=['accuracy'])"
   ]
  },
  {
   "cell_type": "code",
   "execution_count": 8,
   "metadata": {},
   "outputs": [
    {
     "name": "stdout",
     "output_type": "stream",
     "text": [
      "Train on 562 samples, validate on 188 samples\n",
      "Epoch 1/10\n",
      "562/562 [==============================] - 0s 160us/sample - loss: 0.1130 - accuracy: 0.9929 - val_loss: 0.1262 - val_accuracy: 0.9894\n",
      "Epoch 2/10\n",
      "562/562 [==============================] - 0s 160us/sample - loss: 0.1000 - accuracy: 0.9947 - val_loss: 0.1339 - val_accuracy: 0.9468\n",
      "Epoch 3/10\n",
      "562/562 [==============================] - 0s 169us/sample - loss: 0.0872 - accuracy: 0.9929 - val_loss: 0.1464 - val_accuracy: 0.9309\n",
      "Epoch 4/10\n",
      "562/562 [==============================] - 0s 169us/sample - loss: 0.0704 - accuracy: 1.0000 - val_loss: 0.1336 - val_accuracy: 0.9521\n",
      "Epoch 5/10\n",
      "562/562 [==============================] - 0s 164us/sample - loss: 0.0609 - accuracy: 1.0000 - val_loss: 0.1236 - val_accuracy: 0.9521\n",
      "Epoch 6/10\n",
      "562/562 [==============================] - 0s 194us/sample - loss: 0.0533 - accuracy: 0.9982 - val_loss: 0.1242 - val_accuracy: 0.9468\n",
      "Epoch 7/10\n",
      "562/562 [==============================] - 0s 185us/sample - loss: 0.0458 - accuracy: 0.9982 - val_loss: 0.1055 - val_accuracy: 0.9840\n",
      "Epoch 8/10\n",
      "562/562 [==============================] - 0s 162us/sample - loss: 0.0393 - accuracy: 1.0000 - val_loss: 0.1035 - val_accuracy: 0.9734\n",
      "Epoch 9/10\n",
      "562/562 [==============================] - 0s 185us/sample - loss: 0.0323 - accuracy: 1.0000 - val_loss: 0.1092 - val_accuracy: 0.9628\n",
      "Epoch 10/10\n",
      "562/562 [==============================] - 0s 184us/sample - loss: 0.0294 - accuracy: 1.0000 - val_loss: 0.1070 - val_accuracy: 0.9681\n"
     ]
    },
    {
     "data": {
      "text/plain": [
       "[0.23414966389536856, 0.888]"
      ]
     },
     "execution_count": 8,
     "metadata": {},
     "output_type": "execute_result"
    }
   ],
   "source": [
    "model.fit(X_train, y_train, epochs=10, validation_split=0.25)"
   ]
  },
  {
   "cell_type": "code",
   "execution_count": 9,
   "metadata": {},
   "outputs": [
    {
     "data": {
      "text/plain": [
       "[0.23414966389536856, 0.888]"
      ]
     },
     "execution_count": 9,
     "metadata": {},
     "output_type": "execute_result"
    }
   ],
   "source": [
    "model.evaluate(X_test, y_test, verbose=0)"
   ]
  },
  {
   "cell_type": "code",
   "execution_count": null,
   "metadata": {},
   "outputs": [],
   "source": []
  }
 ],
 "metadata": {
  "kernelspec": {
   "display_name": "Python 3",
   "language": "python",
   "name": "python3"
  },
  "language_info": {
   "codemirror_mode": {
    "name": "ipython",
    "version": 3
   },
   "file_extension": ".py",
   "mimetype": "text/x-python",
   "name": "python",
   "nbconvert_exporter": "python",
   "pygments_lexer": "ipython3",
   "version": "3.7.5rc1"
  }
 },
 "nbformat": 4,
 "nbformat_minor": 4
}
