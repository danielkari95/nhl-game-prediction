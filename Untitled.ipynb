{
 "cells": [
  {
   "cell_type": "code",
   "execution_count": 10,
   "metadata": {},
   "outputs": [],
   "source": [
    "import numpy as np\n",
    "import pandas as pd\n",
    "import tensorflow as tf\n",
    "\n",
    "from sklearn.model_selection import train_test_split"
   ]
  },
  {
   "cell_type": "code",
   "execution_count": 11,
   "metadata": {},
   "outputs": [],
   "source": [
    "np.random.seed(13)"
   ]
  },
  {
   "cell_type": "code",
   "execution_count": 3,
   "metadata": {},
   "outputs": [],
   "source": [
    "X = np.random.randint(low=0, high=2, size=(1000, 25))"
   ]
  },
  {
   "cell_type": "code",
   "execution_count": 4,
   "metadata": {},
   "outputs": [],
   "source": [
    "y = np.greater(np.sum(X, axis=1), 12).astype(np.int8)"
   ]
  },
  {
   "cell_type": "code",
   "execution_count": 5,
   "metadata": {},
   "outputs": [],
   "source": [
    "X_train, X_test, y_train, y_test = train_test_split(X, y, test_size=0.25, random_state=1313)"
   ]
  },
  {
   "cell_type": "code",
   "execution_count": 6,
   "metadata": {},
   "outputs": [],
   "source": [
    "model = tf.keras.models.Sequential([\n",
    "  tf.keras.layers.Dense(128, activation='relu'),\n",
    "  # tf.keras.layers.Flatten(),  \n",
    "  tf.keras.layers.Dense(64, activation='relu'),\n",
    "  tf.keras.layers.Dense(1, activation='sigmoid')\n",
    "])\n",
    "model.compile(optimizer='adam',\n",
    "              loss='binary_crossentropy',\n",
    "              metrics=['accuracy'])"
   ]
  },
  {
   "cell_type": "code",
   "execution_count": 8,
   "metadata": {},
   "outputs": [
    {
     "name": "stdout",
     "output_type": "stream",
     "text": [
      "Train on 562 samples, validate on 188 samples\n",
      "Epoch 1/10\n",
      "562/562 [==============================] - 0s 160us/sample - loss: 0.1130 - accuracy: 0.9929 - val_loss: 0.1262 - val_accuracy: 0.9894\n",
      "Epoch 2/10\n",
      "562/562 [==============================] - 0s 160us/sample - loss: 0.1000 - accuracy: 0.9947 - val_loss: 0.1339 - val_accuracy: 0.9468\n",
      "Epoch 3/10\n",
      "562/562 [==============================] - 0s 169us/sample - loss: 0.0872 - accuracy: 0.9929 - val_loss: 0.1464 - val_accuracy: 0.9309\n",
      "Epoch 4/10\n",
      "562/562 [==============================] - 0s 169us/sample - loss: 0.0704 - accuracy: 1.0000 - val_loss: 0.1336 - val_accuracy: 0.9521\n",
      "Epoch 5/10\n",
      "562/562 [==============================] - 0s 164us/sample - loss: 0.0609 - accuracy: 1.0000 - val_loss: 0.1236 - val_accuracy: 0.9521\n",
      "Epoch 6/10\n",
      "562/562 [==============================] - 0s 194us/sample - loss: 0.0533 - accuracy: 0.9982 - val_loss: 0.1242 - val_accuracy: 0.9468\n",
      "Epoch 7/10\n",
      "562/562 [==============================] - 0s 185us/sample - loss: 0.0458 - accuracy: 0.9982 - val_loss: 0.1055 - val_accuracy: 0.9840\n",
      "Epoch 8/10\n",
      "562/562 [==============================] - 0s 162us/sample - loss: 0.0393 - accuracy: 1.0000 - val_loss: 0.1035 - val_accuracy: 0.9734\n",
      "Epoch 9/10\n",
      "562/562 [==============================] - 0s 185us/sample - loss: 0.0323 - accuracy: 1.0000 - val_loss: 0.1092 - val_accuracy: 0.9628\n",
      "Epoch 10/10\n",
      "562/562 [==============================] - 0s 184us/sample - loss: 0.0294 - accuracy: 1.0000 - val_loss: 0.1070 - val_accuracy: 0.9681\n"
     ]
    },
    {
     "data": {
      "text/plain": [
       "[0.23414966389536856, 0.888]"
      ]
     },
     "execution_count": 8,
     "metadata": {},
     "output_type": "execute_result"
    }
   ],
   "source": [
    "model.fit(X_train, y_train, epochs=10, validation_split=0.25)"
   ]
  },
  {
   "cell_type": "code",
   "execution_count": 9,
   "metadata": {},
   "outputs": [
    {
     "data": {
      "text/plain": [
       "[0.23414966389536856, 0.888]"
      ]
     },
     "execution_count": 9,
     "metadata": {},
     "output_type": "execute_result"
    }
   ],
   "source": [
    "model.evaluate(X_test, y_test, verbose=0)"
   ]
  },
  {
   "cell_type": "code",
   "execution_count": null,
   "metadata": {},
   "outputs": [],
   "source": []
  }
 ],
 "metadata": {
  "kernelspec": {
   "display_name": "Python 3",
   "language": "python",
   "name": "python3"
  },
  "language_info": {
   "codemirror_mode": {
    "name": "ipython",
    "version": 3
   },
   "file_extension": ".py",
   "mimetype": "text/x-python",
   "name": "python",
   "nbconvert_exporter": "python",
   "pygments_lexer": "ipython3",
   "version": "3.7.3"
  }
 },
 "nbformat": 4,
 "nbformat_minor": 4
}
