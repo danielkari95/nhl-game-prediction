{
 "cells": [
  {
   "cell_type": "code",
   "execution_count": 1,
   "metadata": {},
   "outputs": [],
   "source": [
    "import numpy as np\n",
    "import pandas as pd\n",
    "import matplotlib.pyplot as plt\n",
    "import seaborn as sns\n",
    "\n",
    "# from sklearn.model_selection import train_test_split"
   ]
  },
  {
   "cell_type": "code",
   "execution_count": 4,
   "metadata": {},
   "outputs": [],
   "source": [
    "games = pd.read_csv(\"data/csv/game.csv\")"
   ]
  },
  {
   "cell_type": "code",
   "execution_count": 5,
   "metadata": {},
   "outputs": [
    {
     "data": {
      "text/html": [
       "<div>\n",
       "<style scoped>\n",
       "    .dataframe tbody tr th:only-of-type {\n",
       "        vertical-align: middle;\n",
       "    }\n",
       "\n",
       "    .dataframe tbody tr th {\n",
       "        vertical-align: top;\n",
       "    }\n",
       "\n",
       "    .dataframe thead th {\n",
       "        text-align: right;\n",
       "    }\n",
       "</style>\n",
       "<table border=\"1\" class=\"dataframe\">\n",
       "  <thead>\n",
       "    <tr style=\"text-align: right;\">\n",
       "      <th></th>\n",
       "      <th>game_id</th>\n",
       "      <th>season</th>\n",
       "      <th>type</th>\n",
       "      <th>date_time</th>\n",
       "      <th>date_time_GMT</th>\n",
       "      <th>away_team_id</th>\n",
       "      <th>home_team_id</th>\n",
       "      <th>away_goals</th>\n",
       "      <th>home_goals</th>\n",
       "      <th>outcome</th>\n",
       "      <th>home_rink_side_start</th>\n",
       "      <th>venue</th>\n",
       "      <th>venue_link</th>\n",
       "      <th>venue_time_zone_id</th>\n",
       "      <th>venue_time_zone_offset</th>\n",
       "      <th>venue_time_zone_tz</th>\n",
       "    </tr>\n",
       "  </thead>\n",
       "  <tbody>\n",
       "    <tr>\n",
       "      <td>0</td>\n",
       "      <td>2011030221</td>\n",
       "      <td>20112012</td>\n",
       "      <td>P</td>\n",
       "      <td>2012-04-29</td>\n",
       "      <td>2012-04-29T19:00:00Z</td>\n",
       "      <td>1</td>\n",
       "      <td>4</td>\n",
       "      <td>3</td>\n",
       "      <td>4</td>\n",
       "      <td>home win OT</td>\n",
       "      <td>right</td>\n",
       "      <td>Wells Fargo Center</td>\n",
       "      <td>/api/v1/venues/null</td>\n",
       "      <td>America/New_York</td>\n",
       "      <td>-4</td>\n",
       "      <td>EDT</td>\n",
       "    </tr>\n",
       "    <tr>\n",
       "      <td>1</td>\n",
       "      <td>2011030222</td>\n",
       "      <td>20112012</td>\n",
       "      <td>P</td>\n",
       "      <td>2012-05-01</td>\n",
       "      <td>2012-05-01T23:30:00Z</td>\n",
       "      <td>1</td>\n",
       "      <td>4</td>\n",
       "      <td>4</td>\n",
       "      <td>1</td>\n",
       "      <td>away win REG</td>\n",
       "      <td>right</td>\n",
       "      <td>Wells Fargo Center</td>\n",
       "      <td>/api/v1/venues/null</td>\n",
       "      <td>America/New_York</td>\n",
       "      <td>-4</td>\n",
       "      <td>EDT</td>\n",
       "    </tr>\n",
       "    <tr>\n",
       "      <td>2</td>\n",
       "      <td>2011030223</td>\n",
       "      <td>20112012</td>\n",
       "      <td>P</td>\n",
       "      <td>2012-05-03</td>\n",
       "      <td>2012-05-03T23:30:00Z</td>\n",
       "      <td>4</td>\n",
       "      <td>1</td>\n",
       "      <td>3</td>\n",
       "      <td>4</td>\n",
       "      <td>home win OT</td>\n",
       "      <td>left</td>\n",
       "      <td>Prudential Center</td>\n",
       "      <td>/api/v1/venues/null</td>\n",
       "      <td>America/New_York</td>\n",
       "      <td>-4</td>\n",
       "      <td>EDT</td>\n",
       "    </tr>\n",
       "    <tr>\n",
       "      <td>3</td>\n",
       "      <td>2011030224</td>\n",
       "      <td>20112012</td>\n",
       "      <td>P</td>\n",
       "      <td>2012-05-06</td>\n",
       "      <td>2012-05-06T23:30:00Z</td>\n",
       "      <td>4</td>\n",
       "      <td>1</td>\n",
       "      <td>2</td>\n",
       "      <td>4</td>\n",
       "      <td>home win REG</td>\n",
       "      <td>left</td>\n",
       "      <td>Prudential Center</td>\n",
       "      <td>/api/v1/venues/null</td>\n",
       "      <td>America/New_York</td>\n",
       "      <td>-4</td>\n",
       "      <td>EDT</td>\n",
       "    </tr>\n",
       "    <tr>\n",
       "      <td>4</td>\n",
       "      <td>2011030225</td>\n",
       "      <td>20112012</td>\n",
       "      <td>P</td>\n",
       "      <td>2012-05-08</td>\n",
       "      <td>2012-05-08T23:30:00Z</td>\n",
       "      <td>1</td>\n",
       "      <td>4</td>\n",
       "      <td>3</td>\n",
       "      <td>1</td>\n",
       "      <td>away win REG</td>\n",
       "      <td>right</td>\n",
       "      <td>Wells Fargo Center</td>\n",
       "      <td>/api/v1/venues/null</td>\n",
       "      <td>America/New_York</td>\n",
       "      <td>-4</td>\n",
       "      <td>EDT</td>\n",
       "    </tr>\n",
       "  </tbody>\n",
       "</table>\n",
       "</div>"
      ],
      "text/plain": [
       "      game_id    season type   date_time         date_time_GMT  away_team_id  \\\n",
       "0  2011030221  20112012    P  2012-04-29  2012-04-29T19:00:00Z             1   \n",
       "1  2011030222  20112012    P  2012-05-01  2012-05-01T23:30:00Z             1   \n",
       "2  2011030223  20112012    P  2012-05-03  2012-05-03T23:30:00Z             4   \n",
       "3  2011030224  20112012    P  2012-05-06  2012-05-06T23:30:00Z             4   \n",
       "4  2011030225  20112012    P  2012-05-08  2012-05-08T23:30:00Z             1   \n",
       "\n",
       "   home_team_id  away_goals  home_goals       outcome home_rink_side_start  \\\n",
       "0             4           3           4   home win OT                right   \n",
       "1             4           4           1  away win REG                right   \n",
       "2             1           3           4   home win OT                 left   \n",
       "3             1           2           4  home win REG                 left   \n",
       "4             4           3           1  away win REG                right   \n",
       "\n",
       "                venue           venue_link venue_time_zone_id  \\\n",
       "0  Wells Fargo Center  /api/v1/venues/null   America/New_York   \n",
       "1  Wells Fargo Center  /api/v1/venues/null   America/New_York   \n",
       "2   Prudential Center  /api/v1/venues/null   America/New_York   \n",
       "3   Prudential Center  /api/v1/venues/null   America/New_York   \n",
       "4  Wells Fargo Center  /api/v1/venues/null   America/New_York   \n",
       "\n",
       "   venue_time_zone_offset venue_time_zone_tz  \n",
       "0                      -4                EDT  \n",
       "1                      -4                EDT  \n",
       "2                      -4                EDT  \n",
       "3                      -4                EDT  \n",
       "4                      -4                EDT  "
      ]
     },
     "execution_count": 5,
     "metadata": {},
     "output_type": "execute_result"
    }
   ],
   "source": [
    "games.head()"
   ]
  },
  {
   "cell_type": "code",
   "execution_count": 75,
   "metadata": {},
   "outputs": [],
   "source": [
    "plays = pd.read_csv(\"data/game_plays.csv\")"
   ]
  },
  {
   "cell_type": "code",
   "execution_count": 76,
   "metadata": {},
   "outputs": [
    {
     "data": {
      "text/html": [
       "<div>\n",
       "<style scoped>\n",
       "    .dataframe tbody tr th:only-of-type {\n",
       "        vertical-align: middle;\n",
       "    }\n",
       "\n",
       "    .dataframe tbody tr th {\n",
       "        vertical-align: top;\n",
       "    }\n",
       "\n",
       "    .dataframe thead th {\n",
       "        text-align: right;\n",
       "    }\n",
       "</style>\n",
       "<table border=\"1\" class=\"dataframe\">\n",
       "  <thead>\n",
       "    <tr style=\"text-align: right;\">\n",
       "      <th></th>\n",
       "      <th>play_id</th>\n",
       "      <th>game_id</th>\n",
       "      <th>play_num</th>\n",
       "      <th>team_id_for</th>\n",
       "      <th>team_id_against</th>\n",
       "      <th>event</th>\n",
       "      <th>secondaryType</th>\n",
       "      <th>x</th>\n",
       "      <th>y</th>\n",
       "      <th>period</th>\n",
       "      <th>periodType</th>\n",
       "      <th>periodTime</th>\n",
       "      <th>periodTimeRemaining</th>\n",
       "      <th>dateTime</th>\n",
       "      <th>goals_away</th>\n",
       "      <th>goals_home</th>\n",
       "      <th>description</th>\n",
       "      <th>st_x</th>\n",
       "      <th>st_y</th>\n",
       "      <th>rink_side</th>\n",
       "    </tr>\n",
       "  </thead>\n",
       "  <tbody>\n",
       "    <tr>\n",
       "      <td>0</td>\n",
       "      <td>2011030221_1</td>\n",
       "      <td>2011030221</td>\n",
       "      <td>1</td>\n",
       "      <td>NaN</td>\n",
       "      <td>NaN</td>\n",
       "      <td>Game Scheduled</td>\n",
       "      <td>NaN</td>\n",
       "      <td>NaN</td>\n",
       "      <td>NaN</td>\n",
       "      <td>1</td>\n",
       "      <td>REGULAR</td>\n",
       "      <td>0</td>\n",
       "      <td>1200</td>\n",
       "      <td>2012-04-29 18:16:06</td>\n",
       "      <td>0</td>\n",
       "      <td>0</td>\n",
       "      <td>Game Scheduled</td>\n",
       "      <td>NaN</td>\n",
       "      <td>NaN</td>\n",
       "      <td>NaN</td>\n",
       "    </tr>\n",
       "    <tr>\n",
       "      <td>1</td>\n",
       "      <td>2011030221_2</td>\n",
       "      <td>2011030221</td>\n",
       "      <td>2</td>\n",
       "      <td>NaN</td>\n",
       "      <td>NaN</td>\n",
       "      <td>Period Ready</td>\n",
       "      <td>NaN</td>\n",
       "      <td>NaN</td>\n",
       "      <td>NaN</td>\n",
       "      <td>1</td>\n",
       "      <td>REGULAR</td>\n",
       "      <td>0</td>\n",
       "      <td>1200</td>\n",
       "      <td>2012-04-29 19:19:49</td>\n",
       "      <td>0</td>\n",
       "      <td>0</td>\n",
       "      <td>Period Ready</td>\n",
       "      <td>NaN</td>\n",
       "      <td>NaN</td>\n",
       "      <td>NaN</td>\n",
       "    </tr>\n",
       "    <tr>\n",
       "      <td>2</td>\n",
       "      <td>2011030221_3</td>\n",
       "      <td>2011030221</td>\n",
       "      <td>3</td>\n",
       "      <td>NaN</td>\n",
       "      <td>NaN</td>\n",
       "      <td>Period Start</td>\n",
       "      <td>NaN</td>\n",
       "      <td>NaN</td>\n",
       "      <td>NaN</td>\n",
       "      <td>1</td>\n",
       "      <td>REGULAR</td>\n",
       "      <td>0</td>\n",
       "      <td>1200</td>\n",
       "      <td>2012-04-29 19:20:13</td>\n",
       "      <td>0</td>\n",
       "      <td>0</td>\n",
       "      <td>Period Start</td>\n",
       "      <td>NaN</td>\n",
       "      <td>NaN</td>\n",
       "      <td>NaN</td>\n",
       "    </tr>\n",
       "    <tr>\n",
       "      <td>3</td>\n",
       "      <td>2011030221_4</td>\n",
       "      <td>2011030221</td>\n",
       "      <td>4</td>\n",
       "      <td>4.0</td>\n",
       "      <td>1.0</td>\n",
       "      <td>Faceoff</td>\n",
       "      <td>NaN</td>\n",
       "      <td>0.0</td>\n",
       "      <td>0.0</td>\n",
       "      <td>1</td>\n",
       "      <td>REGULAR</td>\n",
       "      <td>0</td>\n",
       "      <td>1200</td>\n",
       "      <td>2012-04-29 19:20:13</td>\n",
       "      <td>0</td>\n",
       "      <td>0</td>\n",
       "      <td>Sean Couturier faceoff won against Patrik Elias</td>\n",
       "      <td>0.0</td>\n",
       "      <td>0.0</td>\n",
       "      <td>right</td>\n",
       "    </tr>\n",
       "    <tr>\n",
       "      <td>4</td>\n",
       "      <td>2011030221_5</td>\n",
       "      <td>2011030221</td>\n",
       "      <td>5</td>\n",
       "      <td>4.0</td>\n",
       "      <td>1.0</td>\n",
       "      <td>Giveaway</td>\n",
       "      <td>NaN</td>\n",
       "      <td>28.0</td>\n",
       "      <td>24.0</td>\n",
       "      <td>1</td>\n",
       "      <td>REGULAR</td>\n",
       "      <td>21</td>\n",
       "      <td>1179</td>\n",
       "      <td>2012-04-29 19:21:02</td>\n",
       "      <td>0</td>\n",
       "      <td>0</td>\n",
       "      <td>Giveaway by Kimmo Timonen</td>\n",
       "      <td>-28.0</td>\n",
       "      <td>-24.0</td>\n",
       "      <td>right</td>\n",
       "    </tr>\n",
       "  </tbody>\n",
       "</table>\n",
       "</div>"
      ],
      "text/plain": [
       "        play_id     game_id  play_num  team_id_for  team_id_against  \\\n",
       "0  2011030221_1  2011030221         1          NaN              NaN   \n",
       "1  2011030221_2  2011030221         2          NaN              NaN   \n",
       "2  2011030221_3  2011030221         3          NaN              NaN   \n",
       "3  2011030221_4  2011030221         4          4.0              1.0   \n",
       "4  2011030221_5  2011030221         5          4.0              1.0   \n",
       "\n",
       "            event secondaryType     x     y  period periodType  periodTime  \\\n",
       "0  Game Scheduled           NaN   NaN   NaN       1    REGULAR           0   \n",
       "1    Period Ready           NaN   NaN   NaN       1    REGULAR           0   \n",
       "2    Period Start           NaN   NaN   NaN       1    REGULAR           0   \n",
       "3         Faceoff           NaN   0.0   0.0       1    REGULAR           0   \n",
       "4        Giveaway           NaN  28.0  24.0       1    REGULAR          21   \n",
       "\n",
       "   periodTimeRemaining             dateTime  goals_away  goals_home  \\\n",
       "0                 1200  2012-04-29 18:16:06           0           0   \n",
       "1                 1200  2012-04-29 19:19:49           0           0   \n",
       "2                 1200  2012-04-29 19:20:13           0           0   \n",
       "3                 1200  2012-04-29 19:20:13           0           0   \n",
       "4                 1179  2012-04-29 19:21:02           0           0   \n",
       "\n",
       "                                       description  st_x  st_y rink_side  \n",
       "0                                   Game Scheduled   NaN   NaN       NaN  \n",
       "1                                     Period Ready   NaN   NaN       NaN  \n",
       "2                                     Period Start   NaN   NaN       NaN  \n",
       "3  Sean Couturier faceoff won against Patrik Elias   0.0   0.0     right  \n",
       "4                        Giveaway by Kimmo Timonen -28.0 -24.0     right  "
      ]
     },
     "execution_count": 76,
     "metadata": {},
     "output_type": "execute_result"
    }
   ],
   "source": [
    "plays.head()"
   ]
  },
  {
   "cell_type": "code",
   "execution_count": 4,
   "metadata": {},
   "outputs": [],
   "source": [
    "# plays[((plays['event'] == 'Goal') & (plays['st_x'] == 55))].head()"
   ]
  },
  {
   "cell_type": "code",
   "execution_count": 5,
   "metadata": {},
   "outputs": [],
   "source": [
    "# plays.groupby(['game_id']).size().describe()"
   ]
  },
  {
   "cell_type": "code",
   "execution_count": 77,
   "metadata": {},
   "outputs": [
    {
     "name": "stdout",
     "output_type": "stream",
     "text": [
      "['Game Scheduled' 'Period Ready' 'Period Start' 'Faceoff' 'Giveaway'\n",
      " 'Blocked Shot' 'Shot' 'Hit' 'Stoppage' 'Goal' 'Penalty' 'Takeaway'\n",
      " 'Missed Shot' 'Period End' 'Period Official' 'Game End' 'Game Official'\n",
      " 'Official Challenge' 'Shootout Complete' 'Early Intermission Start'\n",
      " 'Early Intermission End' 'Emergency Goaltender']\n",
      "22\n"
     ]
    }
   ],
   "source": [
    "print(plays['event'].unique())\n",
    "print(len(plays['event'].unique()))"
   ]
  },
  {
   "cell_type": "code",
   "execution_count": 78,
   "metadata": {},
   "outputs": [],
   "source": [
    "relevant_events = ['Goal']\n",
    "plays = plays.loc[plays['event'].isin(relevant_events),:]"
   ]
  },
  {
   "cell_type": "code",
   "execution_count": 79,
   "metadata": {},
   "outputs": [],
   "source": [
    "plays['game_time'] = (plays['period']-1)*1200+plays['periodTime']\n",
    "# plays = plays.loc[plays['game_time'] <= 3000, :]"
   ]
  },
  {
   "cell_type": "code",
   "execution_count": 80,
   "metadata": {},
   "outputs": [],
   "source": [
    "plays = plays.loc[~((plays['x']==0) & (plays['y']==0) & (plays['event']=='Faceoff'))]"
   ]
  },
  {
   "cell_type": "code",
   "execution_count": 149,
   "metadata": {},
   "outputs": [],
   "source": [
    "# plays = plays.dropna()"
   ]
  },
  {
   "cell_type": "code",
   "execution_count": 79,
   "metadata": {},
   "outputs": [],
   "source": [
    "# plays.groupby(['game_id']).size()"
   ]
  },
  {
   "cell_type": "code",
   "execution_count": 9,
   "metadata": {},
   "outputs": [
    {
     "data": {
      "image/png": "[encoded data removed]",
      "text/plain": [
       "<Figure size 432x288 with 1 Axes>"
      ]
     },
     "metadata": {},
     "output_type": "display_data"
    }
   ],
   "source": [
    "sns.set()\n",
    "\n",
    "sns.distplot(plays.loc[plays['event']=='Goal','st_x'].dropna())\n",
    "plt.show()"
   ]
  },
  {
   "cell_type": "code",
   "execution_count": 10,
   "metadata": {},
   "outputs": [
    {
     "data": {
      "image/png": "[encoded data removed]",
      "text/plain": [
       "<Figure size 432x288 with 1 Axes>"
      ]
     },
     "metadata": {},
     "output_type": "display_data"
    }
   ],
   "source": [
    "sns.distplot(plays.loc[plays['event']=='Goal','st_y'].dropna())\n",
    "plt.show()"
   ]
  },
  {
   "cell_type": "code",
   "execution_count": 11,
   "metadata": {},
   "outputs": [],
   "source": [
    "def distance(x):\n",
    "    return np.sqrt((x[0]-90.0)**2+x[1]**2)\n",
    "\n",
    "def angle(x):\n",
    "    if 90.0-x[0] == x[1]:\n",
    "        return 0\n",
    "    else:\n",
    "        return np.degrees(np.arccos((90.0-x[0])/x[1]))\n",
    "    \n",
    "def danger(distance):\n",
    "    if distance <= 15:\n",
    "        return 'a_high'\n",
    "    elif distance <= 30:\n",
    "        return 'b_med'\n",
    "    else:\n",
    "        return 'c_low'"
   ]
  },
  {
   "cell_type": "code",
   "execution_count": 51,
   "metadata": {},
   "outputs": [],
   "source": [
    "plays['distance'] = plays.loc[:,['st_x', 'st_y']].apply(distance, axis=1)"
   ]
  },
  {
   "cell_type": "code",
   "execution_count": 10,
   "metadata": {},
   "outputs": [],
   "source": [
    "plays['angle'] = plays.loc[:,['st_x', 'distance']].apply(angle, axis=1)"
   ]
  },
  {
   "cell_type": "code",
   "execution_count": 52,
   "metadata": {},
   "outputs": [],
   "source": [
    "plays['danger'] = 'd_not_a_shot'\n",
    "shots = ['Shot', 'Missed Shot', 'Goal']\n",
    "plays.loc[plays['event'].isin(shots), 'danger'] = plays.loc[plays['event'].isin(shots), 'distance'].apply(danger)"
   ]
  },
  {
   "cell_type": "code",
   "execution_count": 10,
   "metadata": {},
   "outputs": [
    {
     "data": {
      "text/html": [
       "<div>\n",
       "<style scoped>\n",
       "    .dataframe tbody tr th:only-of-type {\n",
       "        vertical-align: middle;\n",
       "    }\n",
       "\n",
       "    .dataframe tbody tr th {\n",
       "        vertical-align: top;\n",
       "    }\n",
       "\n",
       "    .dataframe thead th {\n",
       "        text-align: right;\n",
       "    }\n",
       "</style>\n",
       "<table border=\"1\" class=\"dataframe\">\n",
       "  <thead>\n",
       "    <tr style=\"text-align: right;\">\n",
       "      <th></th>\n",
       "      <th>play_id</th>\n",
       "      <th>game_id</th>\n",
       "      <th>play_num</th>\n",
       "      <th>team_id_for</th>\n",
       "      <th>team_id_against</th>\n",
       "      <th>event</th>\n",
       "      <th>secondaryType</th>\n",
       "      <th>x</th>\n",
       "      <th>y</th>\n",
       "      <th>period</th>\n",
       "      <th>...</th>\n",
       "      <th>periodTime</th>\n",
       "      <th>periodTimeRemaining</th>\n",
       "      <th>dateTime</th>\n",
       "      <th>goals_away</th>\n",
       "      <th>goals_home</th>\n",
       "      <th>description</th>\n",
       "      <th>st_x</th>\n",
       "      <th>st_y</th>\n",
       "      <th>rink_side</th>\n",
       "      <th>game_time</th>\n",
       "    </tr>\n",
       "  </thead>\n",
       "  <tbody>\n",
       "    <tr>\n",
       "      <td>15</td>\n",
       "      <td>2011030221_16</td>\n",
       "      <td>2011030221</td>\n",
       "      <td>16</td>\n",
       "      <td>1.0</td>\n",
       "      <td>4.0</td>\n",
       "      <td>Goal</td>\n",
       "      <td>Wrist Shot</td>\n",
       "      <td>73.0</td>\n",
       "      <td>11.0</td>\n",
       "      <td>1</td>\n",
       "      <td>...</td>\n",
       "      <td>196</td>\n",
       "      <td>1004</td>\n",
       "      <td>2012-04-29 19:24:26</td>\n",
       "      <td>1</td>\n",
       "      <td>0</td>\n",
       "      <td>Zach Parise (3) Wrist Shot, assists: Patrik El...</td>\n",
       "      <td>73.0</td>\n",
       "      <td>11.0</td>\n",
       "      <td>left</td>\n",
       "      <td>196</td>\n",
       "    </tr>\n",
       "    <tr>\n",
       "      <td>133</td>\n",
       "      <td>2011030221_134</td>\n",
       "      <td>2011030221</td>\n",
       "      <td>134</td>\n",
       "      <td>4.0</td>\n",
       "      <td>1.0</td>\n",
       "      <td>Goal</td>\n",
       "      <td>Wrist Shot</td>\n",
       "      <td>79.0</td>\n",
       "      <td>-1.0</td>\n",
       "      <td>2</td>\n",
       "      <td>...</td>\n",
       "      <td>487</td>\n",
       "      <td>713</td>\n",
       "      <td>2012-04-29 20:24:10</td>\n",
       "      <td>1</td>\n",
       "      <td>1</td>\n",
       "      <td>Daniel Briere (6) Wrist Shot, assists: Jakub V...</td>\n",
       "      <td>79.0</td>\n",
       "      <td>-1.0</td>\n",
       "      <td>left</td>\n",
       "      <td>1687</td>\n",
       "    </tr>\n",
       "    <tr>\n",
       "      <td>141</td>\n",
       "      <td>2011030221_142</td>\n",
       "      <td>2011030221</td>\n",
       "      <td>142</td>\n",
       "      <td>4.0</td>\n",
       "      <td>1.0</td>\n",
       "      <td>Goal</td>\n",
       "      <td>Snap Shot</td>\n",
       "      <td>67.0</td>\n",
       "      <td>10.0</td>\n",
       "      <td>2</td>\n",
       "      <td>...</td>\n",
       "      <td>524</td>\n",
       "      <td>676</td>\n",
       "      <td>2012-04-29 20:28:48</td>\n",
       "      <td>1</td>\n",
       "      <td>2</td>\n",
       "      <td>James van Riemsdyk (1) Snap Shot, assists: Eri...</td>\n",
       "      <td>67.0</td>\n",
       "      <td>10.0</td>\n",
       "      <td>left</td>\n",
       "      <td>1724</td>\n",
       "    </tr>\n",
       "    <tr>\n",
       "      <td>161</td>\n",
       "      <td>2011030221_162</td>\n",
       "      <td>2011030221</td>\n",
       "      <td>162</td>\n",
       "      <td>1.0</td>\n",
       "      <td>4.0</td>\n",
       "      <td>Goal</td>\n",
       "      <td>Tip-In</td>\n",
       "      <td>-80.0</td>\n",
       "      <td>1.0</td>\n",
       "      <td>2</td>\n",
       "      <td>...</td>\n",
       "      <td>833</td>\n",
       "      <td>367</td>\n",
       "      <td>2012-04-29 20:38:47</td>\n",
       "      <td>2</td>\n",
       "      <td>2</td>\n",
       "      <td>Travis Zajac (4) Tip-In, assists: Zach Parise ...</td>\n",
       "      <td>80.0</td>\n",
       "      <td>-1.0</td>\n",
       "      <td>right</td>\n",
       "      <td>2033</td>\n",
       "    </tr>\n",
       "    <tr>\n",
       "      <td>235</td>\n",
       "      <td>2011030221_236</td>\n",
       "      <td>2011030221</td>\n",
       "      <td>236</td>\n",
       "      <td>4.0</td>\n",
       "      <td>1.0</td>\n",
       "      <td>Goal</td>\n",
       "      <td>Slap Shot</td>\n",
       "      <td>-69.0</td>\n",
       "      <td>-28.0</td>\n",
       "      <td>3</td>\n",
       "      <td>...</td>\n",
       "      <td>259</td>\n",
       "      <td>941</td>\n",
       "      <td>2012-04-29 21:19:57</td>\n",
       "      <td>2</td>\n",
       "      <td>3</td>\n",
       "      <td>Claude Giroux (7) Slap Shot, assists: Kimmo Ti...</td>\n",
       "      <td>69.0</td>\n",
       "      <td>28.0</td>\n",
       "      <td>right</td>\n",
       "      <td>2659</td>\n",
       "    </tr>\n",
       "  </tbody>\n",
       "</table>\n",
       "<p>5 rows × 21 columns</p>\n",
       "</div>"
      ],
      "text/plain": [
       "            play_id     game_id  play_num  team_id_for  team_id_against event  \\\n",
       "15    2011030221_16  2011030221        16          1.0              4.0  Goal   \n",
       "133  2011030221_134  2011030221       134          4.0              1.0  Goal   \n",
       "141  2011030221_142  2011030221       142          4.0              1.0  Goal   \n",
       "161  2011030221_162  2011030221       162          1.0              4.0  Goal   \n",
       "235  2011030221_236  2011030221       236          4.0              1.0  Goal   \n",
       "\n",
       "    secondaryType     x     y  period  ... periodTime  periodTimeRemaining  \\\n",
       "15     Wrist Shot  73.0  11.0       1  ...        196                 1004   \n",
       "133    Wrist Shot  79.0  -1.0       2  ...        487                  713   \n",
       "141     Snap Shot  67.0  10.0       2  ...        524                  676   \n",
       "161        Tip-In -80.0   1.0       2  ...        833                  367   \n",
       "235     Slap Shot -69.0 -28.0       3  ...        259                  941   \n",
       "\n",
       "                dateTime goals_away  goals_home  \\\n",
       "15   2012-04-29 19:24:26          1           0   \n",
       "133  2012-04-29 20:24:10          1           1   \n",
       "141  2012-04-29 20:28:48          1           2   \n",
       "161  2012-04-29 20:38:47          2           2   \n",
       "235  2012-04-29 21:19:57          2           3   \n",
       "\n",
       "                                           description  st_x  st_y  rink_side  \\\n",
       "15   Zach Parise (3) Wrist Shot, assists: Patrik El...  73.0  11.0       left   \n",
       "133  Daniel Briere (6) Wrist Shot, assists: Jakub V...  79.0  -1.0       left   \n",
       "141  James van Riemsdyk (1) Snap Shot, assists: Eri...  67.0  10.0       left   \n",
       "161  Travis Zajac (4) Tip-In, assists: Zach Parise ...  80.0  -1.0      right   \n",
       "235  Claude Giroux (7) Slap Shot, assists: Kimmo Ti...  69.0  28.0      right   \n",
       "\n",
       "    game_time  \n",
       "15        196  \n",
       "133      1687  \n",
       "141      1724  \n",
       "161      2033  \n",
       "235      2659  \n",
       "\n",
       "[5 rows x 21 columns]"
      ]
     },
     "execution_count": 10,
     "metadata": {},
     "output_type": "execute_result"
    }
   ],
   "source": [
    "plays.head()"
   ]
  },
  {
   "cell_type": "code",
   "execution_count": null,
   "metadata": {},
   "outputs": [],
   "source": [
    "# plays.to_csv(\"data/plays_improved.csv\")"
   ]
  },
  {
   "cell_type": "code",
   "execution_count": null,
   "metadata": {},
   "outputs": [],
   "source": [
    "# goals = plays[plays['event']=='Goal']"
   ]
  },
  {
   "cell_type": "code",
   "execution_count": null,
   "metadata": {},
   "outputs": [],
   "source": [
    "plays[((plays['event']=='Goal') & (plays['distance'] > 30))].shape[0]"
   ]
  },
  {
   "cell_type": "code",
   "execution_count": 26,
   "metadata": {},
   "outputs": [
    {
     "name": "stdout",
     "output_type": "stream",
     "text": [
      "0.17609798430748033\n"
     ]
    }
   ],
   "source": [
    "n_goals_high = plays[((plays['event']=='Goal') & (plays['distance'] <= 15))].shape[0]\n",
    "n_shots_high = n_goals_high + plays[(((plays['event']=='Shot') | (plays['event']==' Missed Shot')) & (plays['distance'] <= 15))].shape[0]\n",
    "\n",
    "print(n_goals_high / n_shots_high)"
   ]
  },
  {
   "cell_type": "code",
   "execution_count": 28,
   "metadata": {},
   "outputs": [
    {
     "name": "stdout",
     "output_type": "stream",
     "text": [
      "0.040507909030469524\n"
     ]
    }
   ],
   "source": [
    "n_goals_low = plays[((plays['event']=='Goal') & (plays['distance'] > 30))].shape[0]\n",
    "n_shots_low = n_goals_low + plays[(((plays['event']=='Shot') | (plays['event']==' Missed Shot')) & (plays['distance'] > 30))].shape[0]\n",
    "\n",
    "print(n_goals_low / n_shots_low)"
   ]
  },
  {
   "cell_type": "code",
   "execution_count": 29,
   "metadata": {},
   "outputs": [
    {
     "name": "stdout",
     "output_type": "stream",
     "text": [
      "0.11988529750015132\n"
     ]
    }
   ],
   "source": [
    "n_goals_med = plays[((plays['event']=='Goal') & (plays['distance'] <= 30) & (plays['distance'] > 15))].shape[0]\n",
    "n_shots_med = n_goals_med + plays[(((plays['event']=='Shot') | (plays['event']==' Missed Shot')) & (plays['distance'] <= 30) & \n",
    "                                   (plays['distance'] > 15))].shape[0]\n",
    "\n",
    "print(n_goals_med / n_shots_med)"
   ]
  },
  {
   "cell_type": "code",
   "execution_count": 17,
   "metadata": {},
   "outputs": [
    {
     "data": {
      "text/plain": [
       "(14732, 23)"
      ]
     },
     "execution_count": 17,
     "metadata": {},
     "output_type": "execute_result"
    }
   ],
   "source": [
    "plays[((plays['event']=='Goal') & ((plays['distance'] > 45) | (plays['angle'] > 40)))].shape[0]"
   ]
  },
  {
   "cell_type": "code",
   "execution_count": 13,
   "metadata": {},
   "outputs": [
    {
     "data": {
      "text/plain": [
       "(48454, 23)"
      ]
     },
     "execution_count": 13,
     "metadata": {},
     "output_type": "execute_result"
    }
   ],
   "source": [
    "plays[plays['event']=='Goal'].shape"
   ]
  },
  {
   "cell_type": "code",
   "execution_count": 19,
   "metadata": {},
   "outputs": [
    {
     "data": {
      "image/png": "[encoded data removed]",
      "text/plain": [
       "<Figure size 432x288 with 1 Axes>"
      ]
     },
     "metadata": {},
     "output_type": "display_data"
    }
   ],
   "source": [
    "sns.set()\n",
    "\n",
    "sns.distplot(plays.groupby(['game_id']).size())\n",
    "plt.show()"
   ]
  },
  {
   "cell_type": "code",
   "execution_count": 20,
   "metadata": {},
   "outputs": [
    {
     "data": {
      "image/png": "[encoded data removed]",
      "text/plain": [
       "<Figure size 432x288 with 1 Axes>"
      ]
     },
     "metadata": {},
     "output_type": "display_data"
    }
   ],
   "source": [
    "sns.distplot(plays.loc[plays['event']=='Goal', 'distance'].dropna())\n",
    "\n",
    "plt.show()"
   ]
  },
  {
   "cell_type": "code",
   "execution_count": 20,
   "metadata": {},
   "outputs": [
    {
     "data": {
      "image/png": "[encoded data removed]",
      "text/plain": [
       "<Figure size 432x288 with 1 Axes>"
      ]
     },
     "metadata": {},
     "output_type": "display_data"
    }
   ],
   "source": [
    "sns.distplot(plays.loc[plays['event']=='Goal', 'angle'].dropna())\n",
    "\n",
    "plt.show()"
   ]
  },
  {
   "cell_type": "code",
   "execution_count": 11,
   "metadata": {},
   "outputs": [
    {
     "data": {
      "text/plain": [
       "count    11244.000000\n",
       "mean         5.710601\n",
       "std          2.314895\n",
       "min          1.000000\n",
       "25%          4.000000\n",
       "50%          5.000000\n",
       "75%          7.000000\n",
       "max         17.000000\n",
       "dtype: float64"
      ]
     },
     "execution_count": 11,
     "metadata": {},
     "output_type": "execute_result"
    }
   ],
   "source": [
    "plays.groupby(['game_id']).size().describe()"
   ]
  },
  {
   "cell_type": "code",
   "execution_count": 12,
   "metadata": {},
   "outputs": [
    {
     "data": {
      "text/plain": [
       "1"
      ]
     },
     "execution_count": 12,
     "metadata": {},
     "output_type": "execute_result"
    }
   ],
   "source": [
    "plays.groupby(['game_id']).size().min()"
   ]
  },
  {
   "cell_type": "code",
   "execution_count": 13,
   "metadata": {},
   "outputs": [],
   "source": [
    "index_min = plays.groupby(['game_id']).size().idxmin()"
   ]
  },
  {
   "cell_type": "code",
   "execution_count": 14,
   "metadata": {},
   "outputs": [
    {
     "data": {
      "text/html": [
       "<div>\n",
       "<style scoped>\n",
       "    .dataframe tbody tr th:only-of-type {\n",
       "        vertical-align: middle;\n",
       "    }\n",
       "\n",
       "    .dataframe tbody tr th {\n",
       "        vertical-align: top;\n",
       "    }\n",
       "\n",
       "    .dataframe thead th {\n",
       "        text-align: right;\n",
       "    }\n",
       "</style>\n",
       "<table border=\"1\" class=\"dataframe\">\n",
       "  <thead>\n",
       "    <tr style=\"text-align: right;\">\n",
       "      <th></th>\n",
       "      <th>play_id</th>\n",
       "      <th>game_id</th>\n",
       "      <th>play_num</th>\n",
       "      <th>team_id_for</th>\n",
       "      <th>team_id_against</th>\n",
       "      <th>event</th>\n",
       "      <th>secondaryType</th>\n",
       "      <th>x</th>\n",
       "      <th>y</th>\n",
       "      <th>period</th>\n",
       "      <th>...</th>\n",
       "      <th>periodTime</th>\n",
       "      <th>periodTimeRemaining</th>\n",
       "      <th>dateTime</th>\n",
       "      <th>goals_away</th>\n",
       "      <th>goals_home</th>\n",
       "      <th>description</th>\n",
       "      <th>st_x</th>\n",
       "      <th>st_y</th>\n",
       "      <th>rink_side</th>\n",
       "      <th>game_time</th>\n",
       "    </tr>\n",
       "  </thead>\n",
       "  <tbody>\n",
       "    <tr>\n",
       "      <td>3387883</td>\n",
       "      <td>2010020036_273</td>\n",
       "      <td>2010020036</td>\n",
       "      <td>273</td>\n",
       "      <td>1.0</td>\n",
       "      <td>7.0</td>\n",
       "      <td>Goal</td>\n",
       "      <td>Slap Shot</td>\n",
       "      <td>-63.0</td>\n",
       "      <td>11.0</td>\n",
       "      <td>4</td>\n",
       "      <td>...</td>\n",
       "      <td>53</td>\n",
       "      <td>247</td>\n",
       "      <td>2010-10-14 01:23:23</td>\n",
       "      <td>1</td>\n",
       "      <td>0</td>\n",
       "      <td>Ilya Kovalchuk (1) Slap Shot, assists: Matt Ta...</td>\n",
       "      <td>63.0</td>\n",
       "      <td>-11.0</td>\n",
       "      <td>left</td>\n",
       "      <td>3653</td>\n",
       "    </tr>\n",
       "  </tbody>\n",
       "</table>\n",
       "<p>1 rows × 21 columns</p>\n",
       "</div>"
      ],
      "text/plain": [
       "                play_id     game_id  play_num  team_id_for  team_id_against  \\\n",
       "3387883  2010020036_273  2010020036       273          1.0              7.0   \n",
       "\n",
       "        event secondaryType     x     y  period  ... periodTime  \\\n",
       "3387883  Goal     Slap Shot -63.0  11.0       4  ...         53   \n",
       "\n",
       "         periodTimeRemaining             dateTime goals_away  goals_home  \\\n",
       "3387883                  247  2010-10-14 01:23:23          1           0   \n",
       "\n",
       "                                               description  st_x  st_y  \\\n",
       "3387883  Ilya Kovalchuk (1) Slap Shot, assists: Matt Ta...  63.0 -11.0   \n",
       "\n",
       "         rink_side game_time  \n",
       "3387883       left      3653  \n",
       "\n",
       "[1 rows x 21 columns]"
      ]
     },
     "execution_count": 14,
     "metadata": {},
     "output_type": "execute_result"
    }
   ],
   "source": [
    "plays.loc[plays['game_id']==index_min].tail()"
   ]
  },
  {
   "cell_type": "code",
   "execution_count": 16,
   "metadata": {},
   "outputs": [],
   "source": [
    "# plays.loc[plays['game_id']==index_min]['game_time'].values[118]"
   ]
  },
  {
   "cell_type": "code",
   "execution_count": 81,
   "metadata": {},
   "outputs": [
    {
     "name": "stdout",
     "output_type": "stream",
     "text": [
      "4 7\n"
     ]
    }
   ],
   "source": [
    "lower = plays.groupby(['game_id']).size().describe()['25%'].astype(np.int64)\n",
    "upper = plays.groupby(['game_id']).size().describe()['75%'].astype(np.int64)\n",
    "\n",
    "print(lower, upper)"
   ]
  },
  {
   "cell_type": "code",
   "execution_count": 13,
   "metadata": {},
   "outputs": [],
   "source": [
    "# min_events = int(plays.groupby(['game_id']).size().min())\n",
    "\n",
    "times = []\n",
    "\n",
    "for game_id in plays['game_id'].unique():\n",
    "    n_events = len(plays.loc[plays['game_id']==game_id])\n",
    "    if n_events >= lower and n_events <= upper:\n",
    "        times.append(plays.loc[plays['game_id']==game_id]['game_time'].values[-1])"
   ]
  },
  {
   "cell_type": "code",
   "execution_count": 14,
   "metadata": {},
   "outputs": [
    {
     "name": "stdout",
     "output_type": "stream",
     "text": [
      "3467\n"
     ]
    }
   ],
   "source": [
    "print(np.amin(times))"
   ]
  },
  {
   "cell_type": "code",
   "execution_count": 82,
   "metadata": {},
   "outputs": [],
   "source": [
    "ids = []\n",
    "\n",
    "for game_id in plays['game_id'].unique():\n",
    "    n_events = len(plays.loc[plays['game_id']==game_id])\n",
    "    if n_events >= lower and n_events <= upper:\n",
    "        ids.append(game_id)"
   ]
  },
  {
   "cell_type": "code",
   "execution_count": 83,
   "metadata": {},
   "outputs": [],
   "source": [
    "plays = plays.loc[plays['game_id'].isin(ids)]"
   ]
  },
  {
   "cell_type": "code",
   "execution_count": 84,
   "metadata": {},
   "outputs": [],
   "source": [
    "relevant_columns = ['game_id', 'team_id_for', 'team_id_against', 'event',\n",
    "                   'st_x', 'st_y', 'game_time', 'danger']\n",
    "plays = plays.loc[:, plays.columns.isin(relevant_columns)]"
   ]
  },
  {
   "cell_type": "code",
   "execution_count": 85,
   "metadata": {},
   "outputs": [
    {
     "data": {
      "text/html": [
       "<div>\n",
       "<style scoped>\n",
       "    .dataframe tbody tr th:only-of-type {\n",
       "        vertical-align: middle;\n",
       "    }\n",
       "\n",
       "    .dataframe tbody tr th {\n",
       "        vertical-align: top;\n",
       "    }\n",
       "\n",
       "    .dataframe thead th {\n",
       "        text-align: right;\n",
       "    }\n",
       "</style>\n",
       "<table border=\"1\" class=\"dataframe\">\n",
       "  <thead>\n",
       "    <tr style=\"text-align: right;\">\n",
       "      <th></th>\n",
       "      <th>game_id</th>\n",
       "      <th>team_id_for</th>\n",
       "      <th>team_id_against</th>\n",
       "      <th>event</th>\n",
       "      <th>st_x</th>\n",
       "      <th>st_y</th>\n",
       "      <th>game_time</th>\n",
       "    </tr>\n",
       "  </thead>\n",
       "  <tbody>\n",
       "    <tr>\n",
       "      <td>15</td>\n",
       "      <td>2011030221</td>\n",
       "      <td>1.0</td>\n",
       "      <td>4.0</td>\n",
       "      <td>Goal</td>\n",
       "      <td>73.0</td>\n",
       "      <td>11.0</td>\n",
       "      <td>196</td>\n",
       "    </tr>\n",
       "    <tr>\n",
       "      <td>133</td>\n",
       "      <td>2011030221</td>\n",
       "      <td>4.0</td>\n",
       "      <td>1.0</td>\n",
       "      <td>Goal</td>\n",
       "      <td>79.0</td>\n",
       "      <td>-1.0</td>\n",
       "      <td>1687</td>\n",
       "    </tr>\n",
       "    <tr>\n",
       "      <td>141</td>\n",
       "      <td>2011030221</td>\n",
       "      <td>4.0</td>\n",
       "      <td>1.0</td>\n",
       "      <td>Goal</td>\n",
       "      <td>67.0</td>\n",
       "      <td>10.0</td>\n",
       "      <td>1724</td>\n",
       "    </tr>\n",
       "    <tr>\n",
       "      <td>161</td>\n",
       "      <td>2011030221</td>\n",
       "      <td>1.0</td>\n",
       "      <td>4.0</td>\n",
       "      <td>Goal</td>\n",
       "      <td>80.0</td>\n",
       "      <td>-1.0</td>\n",
       "      <td>2033</td>\n",
       "    </tr>\n",
       "    <tr>\n",
       "      <td>235</td>\n",
       "      <td>2011030221</td>\n",
       "      <td>4.0</td>\n",
       "      <td>1.0</td>\n",
       "      <td>Goal</td>\n",
       "      <td>69.0</td>\n",
       "      <td>28.0</td>\n",
       "      <td>2659</td>\n",
       "    </tr>\n",
       "  </tbody>\n",
       "</table>\n",
       "</div>"
      ],
      "text/plain": [
       "        game_id  team_id_for  team_id_against event  st_x  st_y  game_time\n",
       "15   2011030221          1.0              4.0  Goal  73.0  11.0        196\n",
       "133  2011030221          4.0              1.0  Goal  79.0  -1.0       1687\n",
       "141  2011030221          4.0              1.0  Goal  67.0  10.0       1724\n",
       "161  2011030221          1.0              4.0  Goal  80.0  -1.0       2033\n",
       "235  2011030221          4.0              1.0  Goal  69.0  28.0       2659"
      ]
     },
     "execution_count": 85,
     "metadata": {},
     "output_type": "execute_result"
    }
   ],
   "source": [
    "plays.head()"
   ]
  },
  {
   "cell_type": "code",
   "execution_count": 27,
   "metadata": {},
   "outputs": [],
   "source": [
    "# plays = plays.set_index('game_id')"
   ]
  },
  {
   "cell_type": "code",
   "execution_count": 86,
   "metadata": {},
   "outputs": [],
   "source": [
    "plays = pd.get_dummies(plays, columns=['event'])"
   ]
  },
  {
   "cell_type": "code",
   "execution_count": 87,
   "metadata": {},
   "outputs": [
    {
     "data": {
      "text/html": [
       "<div>\n",
       "<style scoped>\n",
       "    .dataframe tbody tr th:only-of-type {\n",
       "        vertical-align: middle;\n",
       "    }\n",
       "\n",
       "    .dataframe tbody tr th {\n",
       "        vertical-align: top;\n",
       "    }\n",
       "\n",
       "    .dataframe thead th {\n",
       "        text-align: right;\n",
       "    }\n",
       "</style>\n",
       "<table border=\"1\" class=\"dataframe\">\n",
       "  <thead>\n",
       "    <tr style=\"text-align: right;\">\n",
       "      <th></th>\n",
       "      <th>game_id</th>\n",
       "      <th>team_id_for</th>\n",
       "      <th>team_id_against</th>\n",
       "      <th>st_x</th>\n",
       "      <th>st_y</th>\n",
       "      <th>game_time</th>\n",
       "      <th>event_Goal</th>\n",
       "    </tr>\n",
       "  </thead>\n",
       "  <tbody>\n",
       "    <tr>\n",
       "      <td>15</td>\n",
       "      <td>2011030221</td>\n",
       "      <td>1.0</td>\n",
       "      <td>4.0</td>\n",
       "      <td>73.0</td>\n",
       "      <td>11.0</td>\n",
       "      <td>196</td>\n",
       "      <td>1</td>\n",
       "    </tr>\n",
       "    <tr>\n",
       "      <td>133</td>\n",
       "      <td>2011030221</td>\n",
       "      <td>4.0</td>\n",
       "      <td>1.0</td>\n",
       "      <td>79.0</td>\n",
       "      <td>-1.0</td>\n",
       "      <td>1687</td>\n",
       "      <td>1</td>\n",
       "    </tr>\n",
       "    <tr>\n",
       "      <td>141</td>\n",
       "      <td>2011030221</td>\n",
       "      <td>4.0</td>\n",
       "      <td>1.0</td>\n",
       "      <td>67.0</td>\n",
       "      <td>10.0</td>\n",
       "      <td>1724</td>\n",
       "      <td>1</td>\n",
       "    </tr>\n",
       "    <tr>\n",
       "      <td>161</td>\n",
       "      <td>2011030221</td>\n",
       "      <td>1.0</td>\n",
       "      <td>4.0</td>\n",
       "      <td>80.0</td>\n",
       "      <td>-1.0</td>\n",
       "      <td>2033</td>\n",
       "      <td>1</td>\n",
       "    </tr>\n",
       "    <tr>\n",
       "      <td>235</td>\n",
       "      <td>2011030221</td>\n",
       "      <td>4.0</td>\n",
       "      <td>1.0</td>\n",
       "      <td>69.0</td>\n",
       "      <td>28.0</td>\n",
       "      <td>2659</td>\n",
       "      <td>1</td>\n",
       "    </tr>\n",
       "  </tbody>\n",
       "</table>\n",
       "</div>"
      ],
      "text/plain": [
       "        game_id  team_id_for  team_id_against  st_x  st_y  game_time  \\\n",
       "15   2011030221          1.0              4.0  73.0  11.0        196   \n",
       "133  2011030221          4.0              1.0  79.0  -1.0       1687   \n",
       "141  2011030221          4.0              1.0  67.0  10.0       1724   \n",
       "161  2011030221          1.0              4.0  80.0  -1.0       2033   \n",
       "235  2011030221          4.0              1.0  69.0  28.0       2659   \n",
       "\n",
       "     event_Goal  \n",
       "15            1  \n",
       "133           1  \n",
       "141           1  \n",
       "161           1  \n",
       "235           1  "
      ]
     },
     "execution_count": 87,
     "metadata": {},
     "output_type": "execute_result"
    }
   ],
   "source": [
    "plays.head()"
   ]
  },
  {
   "cell_type": "code",
   "execution_count": 30,
   "metadata": {},
   "outputs": [],
   "source": [
    "# teams = pd.read_csv('data/team_info.csv')"
   ]
  },
  {
   "cell_type": "code",
   "execution_count": 31,
   "metadata": {},
   "outputs": [],
   "source": [
    "# teams.head()"
   ]
  },
  {
   "cell_type": "code",
   "execution_count": 88,
   "metadata": {},
   "outputs": [],
   "source": [
    "plays.rename(columns=lambda x: x.replace(' ', '_').lower(), inplace=True)"
   ]
  },
  {
   "cell_type": "code",
   "execution_count": 89,
   "metadata": {},
   "outputs": [
    {
     "data": {
      "text/html": [
       "<div>\n",
       "<style scoped>\n",
       "    .dataframe tbody tr th:only-of-type {\n",
       "        vertical-align: middle;\n",
       "    }\n",
       "\n",
       "    .dataframe tbody tr th {\n",
       "        vertical-align: top;\n",
       "    }\n",
       "\n",
       "    .dataframe thead th {\n",
       "        text-align: right;\n",
       "    }\n",
       "</style>\n",
       "<table border=\"1\" class=\"dataframe\">\n",
       "  <thead>\n",
       "    <tr style=\"text-align: right;\">\n",
       "      <th></th>\n",
       "      <th>game_id</th>\n",
       "      <th>team_id_for</th>\n",
       "      <th>team_id_against</th>\n",
       "      <th>st_x</th>\n",
       "      <th>st_y</th>\n",
       "      <th>game_time</th>\n",
       "      <th>event_goal</th>\n",
       "    </tr>\n",
       "  </thead>\n",
       "  <tbody>\n",
       "    <tr>\n",
       "      <td>15</td>\n",
       "      <td>2011030221</td>\n",
       "      <td>1.0</td>\n",
       "      <td>4.0</td>\n",
       "      <td>73.0</td>\n",
       "      <td>11.0</td>\n",
       "      <td>196</td>\n",
       "      <td>1</td>\n",
       "    </tr>\n",
       "    <tr>\n",
       "      <td>133</td>\n",
       "      <td>2011030221</td>\n",
       "      <td>4.0</td>\n",
       "      <td>1.0</td>\n",
       "      <td>79.0</td>\n",
       "      <td>-1.0</td>\n",
       "      <td>1687</td>\n",
       "      <td>1</td>\n",
       "    </tr>\n",
       "    <tr>\n",
       "      <td>141</td>\n",
       "      <td>2011030221</td>\n",
       "      <td>4.0</td>\n",
       "      <td>1.0</td>\n",
       "      <td>67.0</td>\n",
       "      <td>10.0</td>\n",
       "      <td>1724</td>\n",
       "      <td>1</td>\n",
       "    </tr>\n",
       "    <tr>\n",
       "      <td>161</td>\n",
       "      <td>2011030221</td>\n",
       "      <td>1.0</td>\n",
       "      <td>4.0</td>\n",
       "      <td>80.0</td>\n",
       "      <td>-1.0</td>\n",
       "      <td>2033</td>\n",
       "      <td>1</td>\n",
       "    </tr>\n",
       "    <tr>\n",
       "      <td>235</td>\n",
       "      <td>2011030221</td>\n",
       "      <td>4.0</td>\n",
       "      <td>1.0</td>\n",
       "      <td>69.0</td>\n",
       "      <td>28.0</td>\n",
       "      <td>2659</td>\n",
       "      <td>1</td>\n",
       "    </tr>\n",
       "  </tbody>\n",
       "</table>\n",
       "</div>"
      ],
      "text/plain": [
       "        game_id  team_id_for  team_id_against  st_x  st_y  game_time  \\\n",
       "15   2011030221          1.0              4.0  73.0  11.0        196   \n",
       "133  2011030221          4.0              1.0  79.0  -1.0       1687   \n",
       "141  2011030221          4.0              1.0  67.0  10.0       1724   \n",
       "161  2011030221          1.0              4.0  80.0  -1.0       2033   \n",
       "235  2011030221          4.0              1.0  69.0  28.0       2659   \n",
       "\n",
       "     event_goal  \n",
       "15            1  \n",
       "133           1  \n",
       "141           1  \n",
       "161           1  \n",
       "235           1  "
      ]
     },
     "execution_count": 89,
     "metadata": {},
     "output_type": "execute_result"
    }
   ],
   "source": [
    "plays.head()"
   ]
  },
  {
   "cell_type": "code",
   "execution_count": 24,
   "metadata": {},
   "outputs": [
    {
     "data": {
      "text/plain": [
       "Index(['game_id', 'team_id_for', 'team_id_against', 'st_x', 'st_y',\n",
       "       'game_time', 'event_goal'],\n",
       "      dtype='object')"
      ]
     },
     "execution_count": 24,
     "metadata": {},
     "output_type": "execute_result"
    }
   ],
   "source": [
    "plays.columns"
   ]
  },
  {
   "cell_type": "code",
   "execution_count": 25,
   "metadata": {},
   "outputs": [
    {
     "data": {
      "text/plain": [
       "count    6959.000000\n",
       "mean        5.607271\n",
       "std         1.069292\n",
       "min         4.000000\n",
       "25%         5.000000\n",
       "50%         5.000000\n",
       "75%         7.000000\n",
       "max         7.000000\n",
       "dtype: float64"
      ]
     },
     "execution_count": 25,
     "metadata": {},
     "output_type": "execute_result"
    }
   ],
   "source": [
    "plays.groupby(['game_id']).size().describe()"
   ]
  },
  {
   "cell_type": "code",
   "execution_count": 21,
   "metadata": {},
   "outputs": [],
   "source": [
    "# plays = pd.get_dummies(plays, columns=['abbreviation_for', 'abbreviation_against'])"
   ]
  },
  {
   "cell_type": "code",
   "execution_count": 90,
   "metadata": {},
   "outputs": [
    {
     "data": {
      "text/html": [
       "<div>\n",
       "<style scoped>\n",
       "    .dataframe tbody tr th:only-of-type {\n",
       "        vertical-align: middle;\n",
       "    }\n",
       "\n",
       "    .dataframe tbody tr th {\n",
       "        vertical-align: top;\n",
       "    }\n",
       "\n",
       "    .dataframe thead th {\n",
       "        text-align: right;\n",
       "    }\n",
       "</style>\n",
       "<table border=\"1\" class=\"dataframe\">\n",
       "  <thead>\n",
       "    <tr style=\"text-align: right;\">\n",
       "      <th></th>\n",
       "      <th>game_id</th>\n",
       "      <th>season</th>\n",
       "      <th>type</th>\n",
       "      <th>date_time</th>\n",
       "      <th>date_time_GMT</th>\n",
       "      <th>away_team_id</th>\n",
       "      <th>home_team_id</th>\n",
       "      <th>away_goals</th>\n",
       "      <th>home_goals</th>\n",
       "      <th>outcome</th>\n",
       "      <th>home_rink_side_start</th>\n",
       "      <th>venue</th>\n",
       "      <th>venue_link</th>\n",
       "      <th>venue_time_zone_id</th>\n",
       "      <th>venue_time_zone_offset</th>\n",
       "      <th>venue_time_zone_tz</th>\n",
       "    </tr>\n",
       "  </thead>\n",
       "  <tbody>\n",
       "    <tr>\n",
       "      <td>0</td>\n",
       "      <td>2011030221</td>\n",
       "      <td>20112012</td>\n",
       "      <td>P</td>\n",
       "      <td>2012-04-29</td>\n",
       "      <td>2012-04-29T19:00:00Z</td>\n",
       "      <td>1</td>\n",
       "      <td>4</td>\n",
       "      <td>3</td>\n",
       "      <td>4</td>\n",
       "      <td>home win OT</td>\n",
       "      <td>right</td>\n",
       "      <td>Wells Fargo Center</td>\n",
       "      <td>/api/v1/venues/null</td>\n",
       "      <td>America/New_York</td>\n",
       "      <td>-4</td>\n",
       "      <td>EDT</td>\n",
       "    </tr>\n",
       "    <tr>\n",
       "      <td>1</td>\n",
       "      <td>2011030222</td>\n",
       "      <td>20112012</td>\n",
       "      <td>P</td>\n",
       "      <td>2012-05-01</td>\n",
       "      <td>2012-05-01T23:30:00Z</td>\n",
       "      <td>1</td>\n",
       "      <td>4</td>\n",
       "      <td>4</td>\n",
       "      <td>1</td>\n",
       "      <td>away win REG</td>\n",
       "      <td>right</td>\n",
       "      <td>Wells Fargo Center</td>\n",
       "      <td>/api/v1/venues/null</td>\n",
       "      <td>America/New_York</td>\n",
       "      <td>-4</td>\n",
       "      <td>EDT</td>\n",
       "    </tr>\n",
       "    <tr>\n",
       "      <td>2</td>\n",
       "      <td>2011030223</td>\n",
       "      <td>20112012</td>\n",
       "      <td>P</td>\n",
       "      <td>2012-05-03</td>\n",
       "      <td>2012-05-03T23:30:00Z</td>\n",
       "      <td>4</td>\n",
       "      <td>1</td>\n",
       "      <td>3</td>\n",
       "      <td>4</td>\n",
       "      <td>home win OT</td>\n",
       "      <td>left</td>\n",
       "      <td>Prudential Center</td>\n",
       "      <td>/api/v1/venues/null</td>\n",
       "      <td>America/New_York</td>\n",
       "      <td>-4</td>\n",
       "      <td>EDT</td>\n",
       "    </tr>\n",
       "    <tr>\n",
       "      <td>3</td>\n",
       "      <td>2011030224</td>\n",
       "      <td>20112012</td>\n",
       "      <td>P</td>\n",
       "      <td>2012-05-06</td>\n",
       "      <td>2012-05-06T23:30:00Z</td>\n",
       "      <td>4</td>\n",
       "      <td>1</td>\n",
       "      <td>2</td>\n",
       "      <td>4</td>\n",
       "      <td>home win REG</td>\n",
       "      <td>left</td>\n",
       "      <td>Prudential Center</td>\n",
       "      <td>/api/v1/venues/null</td>\n",
       "      <td>America/New_York</td>\n",
       "      <td>-4</td>\n",
       "      <td>EDT</td>\n",
       "    </tr>\n",
       "    <tr>\n",
       "      <td>4</td>\n",
       "      <td>2011030225</td>\n",
       "      <td>20112012</td>\n",
       "      <td>P</td>\n",
       "      <td>2012-05-08</td>\n",
       "      <td>2012-05-08T23:30:00Z</td>\n",
       "      <td>1</td>\n",
       "      <td>4</td>\n",
       "      <td>3</td>\n",
       "      <td>1</td>\n",
       "      <td>away win REG</td>\n",
       "      <td>right</td>\n",
       "      <td>Wells Fargo Center</td>\n",
       "      <td>/api/v1/venues/null</td>\n",
       "      <td>America/New_York</td>\n",
       "      <td>-4</td>\n",
       "      <td>EDT</td>\n",
       "    </tr>\n",
       "  </tbody>\n",
       "</table>\n",
       "</div>"
      ],
      "text/plain": [
       "      game_id    season type   date_time         date_time_GMT  away_team_id  \\\n",
       "0  2011030221  20112012    P  2012-04-29  2012-04-29T19:00:00Z             1   \n",
       "1  2011030222  20112012    P  2012-05-01  2012-05-01T23:30:00Z             1   \n",
       "2  2011030223  20112012    P  2012-05-03  2012-05-03T23:30:00Z             4   \n",
       "3  2011030224  20112012    P  2012-05-06  2012-05-06T23:30:00Z             4   \n",
       "4  2011030225  20112012    P  2012-05-08  2012-05-08T23:30:00Z             1   \n",
       "\n",
       "   home_team_id  away_goals  home_goals       outcome home_rink_side_start  \\\n",
       "0             4           3           4   home win OT                right   \n",
       "1             4           4           1  away win REG                right   \n",
       "2             1           3           4   home win OT                 left   \n",
       "3             1           2           4  home win REG                 left   \n",
       "4             4           3           1  away win REG                right   \n",
       "\n",
       "                venue           venue_link venue_time_zone_id  \\\n",
       "0  Wells Fargo Center  /api/v1/venues/null   America/New_York   \n",
       "1  Wells Fargo Center  /api/v1/venues/null   America/New_York   \n",
       "2   Prudential Center  /api/v1/venues/null   America/New_York   \n",
       "3   Prudential Center  /api/v1/venues/null   America/New_York   \n",
       "4  Wells Fargo Center  /api/v1/venues/null   America/New_York   \n",
       "\n",
       "   venue_time_zone_offset venue_time_zone_tz  \n",
       "0                      -4                EDT  \n",
       "1                      -4                EDT  \n",
       "2                      -4                EDT  \n",
       "3                      -4                EDT  \n",
       "4                      -4                EDT  "
      ]
     },
     "execution_count": 90,
     "metadata": {},
     "output_type": "execute_result"
    }
   ],
   "source": [
    "games = pd.read_csv('data/game.csv')\n",
    "games.head()"
   ]
  },
  {
   "cell_type": "code",
   "execution_count": 91,
   "metadata": {},
   "outputs": [
    {
     "name": "stdout",
     "output_type": "stream",
     "text": [
      "<class 'pandas.core.frame.DataFrame'>\n",
      "Int64Index: 39021 entries, 15 to 3631985\n",
      "Data columns (total 7 columns):\n",
      "game_id            39021 non-null int64\n",
      "team_id_for        39021 non-null float64\n",
      "team_id_against    39021 non-null float64\n",
      "st_x               39009 non-null float64\n",
      "st_y               39011 non-null float64\n",
      "game_time          39021 non-null int64\n",
      "event_goal         39021 non-null uint8\n",
      "dtypes: float64(4), int64(2), uint8(1)\n",
      "memory usage: 2.1 MB\n"
     ]
    }
   ],
   "source": [
    "plays.info()"
   ]
  },
  {
   "cell_type": "code",
   "execution_count": 92,
   "metadata": {},
   "outputs": [],
   "source": [
    "games = games.loc[games['game_id'].isin(plays['game_id'].unique()), :]"
   ]
  },
  {
   "cell_type": "code",
   "execution_count": 93,
   "metadata": {},
   "outputs": [],
   "source": [
    "games = games.sort_values(by='game_id')"
   ]
  },
  {
   "cell_type": "code",
   "execution_count": 94,
   "metadata": {},
   "outputs": [
    {
     "data": {
      "text/plain": [
       "array(['home win REG', 'away win REG', 'home win OT', 'away win OT',\n",
       "       'away win SO', 'home win SO'], dtype=object)"
      ]
     },
     "execution_count": 94,
     "metadata": {},
     "output_type": "execute_result"
    }
   ],
   "source": [
    "games['outcome'].unique()"
   ]
  },
  {
   "cell_type": "code",
   "execution_count": 95,
   "metadata": {},
   "outputs": [
    {
     "data": {
      "text/html": [
       "<div>\n",
       "<style scoped>\n",
       "    .dataframe tbody tr th:only-of-type {\n",
       "        vertical-align: middle;\n",
       "    }\n",
       "\n",
       "    .dataframe tbody tr th {\n",
       "        vertical-align: top;\n",
       "    }\n",
       "\n",
       "    .dataframe thead th {\n",
       "        text-align: right;\n",
       "    }\n",
       "</style>\n",
       "<table border=\"1\" class=\"dataframe\">\n",
       "  <thead>\n",
       "    <tr style=\"text-align: right;\">\n",
       "      <th></th>\n",
       "      <th>game_id</th>\n",
       "      <th>team_id_for</th>\n",
       "      <th>team_id_against</th>\n",
       "      <th>st_x</th>\n",
       "      <th>st_y</th>\n",
       "      <th>game_time</th>\n",
       "      <th>event_goal</th>\n",
       "      <th>season</th>\n",
       "      <th>type</th>\n",
       "      <th>date_time</th>\n",
       "      <th>...</th>\n",
       "      <th>home_team_id</th>\n",
       "      <th>away_goals</th>\n",
       "      <th>home_goals</th>\n",
       "      <th>outcome</th>\n",
       "      <th>home_rink_side_start</th>\n",
       "      <th>venue</th>\n",
       "      <th>venue_link</th>\n",
       "      <th>venue_time_zone_id</th>\n",
       "      <th>venue_time_zone_offset</th>\n",
       "      <th>venue_time_zone_tz</th>\n",
       "    </tr>\n",
       "  </thead>\n",
       "  <tbody>\n",
       "    <tr>\n",
       "      <td>0</td>\n",
       "      <td>2011030221</td>\n",
       "      <td>1.0</td>\n",
       "      <td>4.0</td>\n",
       "      <td>73.0</td>\n",
       "      <td>11.0</td>\n",
       "      <td>196</td>\n",
       "      <td>1</td>\n",
       "      <td>20112012</td>\n",
       "      <td>P</td>\n",
       "      <td>2012-04-29</td>\n",
       "      <td>...</td>\n",
       "      <td>4</td>\n",
       "      <td>3</td>\n",
       "      <td>4</td>\n",
       "      <td>home win OT</td>\n",
       "      <td>right</td>\n",
       "      <td>Wells Fargo Center</td>\n",
       "      <td>/api/v1/venues/null</td>\n",
       "      <td>America/New_York</td>\n",
       "      <td>-4</td>\n",
       "      <td>EDT</td>\n",
       "    </tr>\n",
       "    <tr>\n",
       "      <td>1</td>\n",
       "      <td>2011030221</td>\n",
       "      <td>4.0</td>\n",
       "      <td>1.0</td>\n",
       "      <td>79.0</td>\n",
       "      <td>-1.0</td>\n",
       "      <td>1687</td>\n",
       "      <td>1</td>\n",
       "      <td>20112012</td>\n",
       "      <td>P</td>\n",
       "      <td>2012-04-29</td>\n",
       "      <td>...</td>\n",
       "      <td>4</td>\n",
       "      <td>3</td>\n",
       "      <td>4</td>\n",
       "      <td>home win OT</td>\n",
       "      <td>right</td>\n",
       "      <td>Wells Fargo Center</td>\n",
       "      <td>/api/v1/venues/null</td>\n",
       "      <td>America/New_York</td>\n",
       "      <td>-4</td>\n",
       "      <td>EDT</td>\n",
       "    </tr>\n",
       "    <tr>\n",
       "      <td>2</td>\n",
       "      <td>2011030221</td>\n",
       "      <td>4.0</td>\n",
       "      <td>1.0</td>\n",
       "      <td>67.0</td>\n",
       "      <td>10.0</td>\n",
       "      <td>1724</td>\n",
       "      <td>1</td>\n",
       "      <td>20112012</td>\n",
       "      <td>P</td>\n",
       "      <td>2012-04-29</td>\n",
       "      <td>...</td>\n",
       "      <td>4</td>\n",
       "      <td>3</td>\n",
       "      <td>4</td>\n",
       "      <td>home win OT</td>\n",
       "      <td>right</td>\n",
       "      <td>Wells Fargo Center</td>\n",
       "      <td>/api/v1/venues/null</td>\n",
       "      <td>America/New_York</td>\n",
       "      <td>-4</td>\n",
       "      <td>EDT</td>\n",
       "    </tr>\n",
       "    <tr>\n",
       "      <td>3</td>\n",
       "      <td>2011030221</td>\n",
       "      <td>1.0</td>\n",
       "      <td>4.0</td>\n",
       "      <td>80.0</td>\n",
       "      <td>-1.0</td>\n",
       "      <td>2033</td>\n",
       "      <td>1</td>\n",
       "      <td>20112012</td>\n",
       "      <td>P</td>\n",
       "      <td>2012-04-29</td>\n",
       "      <td>...</td>\n",
       "      <td>4</td>\n",
       "      <td>3</td>\n",
       "      <td>4</td>\n",
       "      <td>home win OT</td>\n",
       "      <td>right</td>\n",
       "      <td>Wells Fargo Center</td>\n",
       "      <td>/api/v1/venues/null</td>\n",
       "      <td>America/New_York</td>\n",
       "      <td>-4</td>\n",
       "      <td>EDT</td>\n",
       "    </tr>\n",
       "    <tr>\n",
       "      <td>4</td>\n",
       "      <td>2011030221</td>\n",
       "      <td>4.0</td>\n",
       "      <td>1.0</td>\n",
       "      <td>69.0</td>\n",
       "      <td>28.0</td>\n",
       "      <td>2659</td>\n",
       "      <td>1</td>\n",
       "      <td>20112012</td>\n",
       "      <td>P</td>\n",
       "      <td>2012-04-29</td>\n",
       "      <td>...</td>\n",
       "      <td>4</td>\n",
       "      <td>3</td>\n",
       "      <td>4</td>\n",
       "      <td>home win OT</td>\n",
       "      <td>right</td>\n",
       "      <td>Wells Fargo Center</td>\n",
       "      <td>/api/v1/venues/null</td>\n",
       "      <td>America/New_York</td>\n",
       "      <td>-4</td>\n",
       "      <td>EDT</td>\n",
       "    </tr>\n",
       "  </tbody>\n",
       "</table>\n",
       "<p>5 rows × 22 columns</p>\n",
       "</div>"
      ],
      "text/plain": [
       "      game_id  team_id_for  team_id_against  st_x  st_y  game_time  \\\n",
       "0  2011030221          1.0              4.0  73.0  11.0        196   \n",
       "1  2011030221          4.0              1.0  79.0  -1.0       1687   \n",
       "2  2011030221          4.0              1.0  67.0  10.0       1724   \n",
       "3  2011030221          1.0              4.0  80.0  -1.0       2033   \n",
       "4  2011030221          4.0              1.0  69.0  28.0       2659   \n",
       "\n",
       "   event_goal    season type   date_time  ... home_team_id  away_goals  \\\n",
       "0           1  20112012    P  2012-04-29  ...            4           3   \n",
       "1           1  20112012    P  2012-04-29  ...            4           3   \n",
       "2           1  20112012    P  2012-04-29  ...            4           3   \n",
       "3           1  20112012    P  2012-04-29  ...            4           3   \n",
       "4           1  20112012    P  2012-04-29  ...            4           3   \n",
       "\n",
       "   home_goals      outcome  home_rink_side_start               venue  \\\n",
       "0           4  home win OT                 right  Wells Fargo Center   \n",
       "1           4  home win OT                 right  Wells Fargo Center   \n",
       "2           4  home win OT                 right  Wells Fargo Center   \n",
       "3           4  home win OT                 right  Wells Fargo Center   \n",
       "4           4  home win OT                 right  Wells Fargo Center   \n",
       "\n",
       "            venue_link venue_time_zone_id venue_time_zone_offset  \\\n",
       "0  /api/v1/venues/null   America/New_York                     -4   \n",
       "1  /api/v1/venues/null   America/New_York                     -4   \n",
       "2  /api/v1/venues/null   America/New_York                     -4   \n",
       "3  /api/v1/venues/null   America/New_York                     -4   \n",
       "4  /api/v1/venues/null   America/New_York                     -4   \n",
       "\n",
       "  venue_time_zone_tz  \n",
       "0                EDT  \n",
       "1                EDT  \n",
       "2                EDT  \n",
       "3                EDT  \n",
       "4                EDT  \n",
       "\n",
       "[5 rows x 22 columns]"
      ]
     },
     "execution_count": 95,
     "metadata": {},
     "output_type": "execute_result"
    }
   ],
   "source": [
    "plays = plays.merge(games, on='game_id')\n",
    "plays.head()"
   ]
  },
  {
   "cell_type": "code",
   "execution_count": 96,
   "metadata": {},
   "outputs": [
    {
     "data": {
      "text/plain": [
       "Index(['game_id', 'team_id_for', 'team_id_against', 'st_x', 'st_y',\n",
       "       'game_time', 'event_goal', 'season', 'type', 'date_time',\n",
       "       'date_time_GMT', 'away_team_id', 'home_team_id', 'away_goals',\n",
       "       'home_goals', 'outcome', 'home_rink_side_start', 'venue', 'venue_link',\n",
       "       'venue_time_zone_id', 'venue_time_zone_offset', 'venue_time_zone_tz'],\n",
       "      dtype='object')"
      ]
     },
     "execution_count": 96,
     "metadata": {},
     "output_type": "execute_result"
    }
   ],
   "source": [
    "plays.columns"
   ]
  },
  {
   "cell_type": "code",
   "execution_count": 33,
   "metadata": {},
   "outputs": [
    {
     "data": {
      "image/png": "[encoded data removed]",
      "text/plain": [
       "<Figure size 432x288 with 1 Axes>"
      ]
     },
     "metadata": {},
     "output_type": "display_data"
    }
   ],
   "source": [
    "sns.distplot(plays.loc[plays['team_id_for']==plays['home_team_id']]['st_y'].dropna())\n",
    "sns.distplot(plays.loc[plays['team_id_for']==plays['away_team_id']]['st_y'].dropna())\n",
    "\n",
    "plt.show()"
   ]
  },
  {
   "cell_type": "code",
   "execution_count": 42,
   "metadata": {},
   "outputs": [
    {
     "data": {
      "image/png": "[encoded data removed]",
      "text/plain": [
       "<Figure size 432x288 with 1 Axes>"
      ]
     },
     "metadata": {},
     "output_type": "display_data"
    }
   ],
   "source": [
    "sns.distplot(plays.loc[plays['team_id_for']==plays['home_team_id']]['st_x'].dropna())\n",
    "sns.distplot(plays.loc[plays['team_id_for']==plays['away_team_id']]['st_x'].dropna())\n",
    "\n",
    "plt.show()"
   ]
  },
  {
   "cell_type": "code",
   "execution_count": 97,
   "metadata": {},
   "outputs": [],
   "source": [
    "def home_team_for(ids):\n",
    "    if ids[0] == ids[1]:\n",
    "        return 'for'\n",
    "    else:\n",
    "        return 'against'\n",
    "    \n",
    "def result(result):\n",
    "    if ('OT' or 'SO') in result:\n",
    "        return 'b_tie'\n",
    "    elif 'home' in result:\n",
    "        return 'a_home_win'\n",
    "    else:\n",
    "        return 'c_away_win'\n",
    "    \n",
    "def offensive_zone_home(x):\n",
    "    if x[0] >= 25 and x[1] == 1:\n",
    "        return 1\n",
    "    elif x[0] <= -25 and x[1] == 0:\n",
    "        return 1\n",
    "    else:\n",
    "        return 0\n",
    "\n",
    "def offensive_zone_away(x):\n",
    "    if x[0] >= 25 and x[1] == 0:\n",
    "        return 1\n",
    "    if x[0] <= -25 and x[1] == 1:\n",
    "        return 1\n",
    "    else:\n",
    "        return 0"
   ]
  },
  {
   "cell_type": "code",
   "execution_count": 98,
   "metadata": {},
   "outputs": [],
   "source": [
    "plays['home_team_for'] = plays[['team_id_for', 'home_team_id']].apply(home_team_for, axis=1)"
   ]
  },
  {
   "cell_type": "code",
   "execution_count": 99,
   "metadata": {},
   "outputs": [],
   "source": [
    "games['result'] = games['outcome'].apply(result)"
   ]
  },
  {
   "cell_type": "code",
   "execution_count": 100,
   "metadata": {},
   "outputs": [
    {
     "name": "stdout",
     "output_type": "stream",
     "text": [
      "for        20500\n",
      "against    18521\n",
      "Name: home_team_for, dtype: int64\n",
      "a_home_win    3324\n",
      "c_away_win    2710\n",
      "b_tie          925\n",
      "Name: result, dtype: int64\n"
     ]
    }
   ],
   "source": [
    "print(plays['home_team_for'].value_counts())\n",
    "print(games['result'].value_counts())"
   ]
  },
  {
   "cell_type": "code",
   "execution_count": 101,
   "metadata": {},
   "outputs": [
    {
     "data": {
      "text/html": [
       "<div>\n",
       "<style scoped>\n",
       "    .dataframe tbody tr th:only-of-type {\n",
       "        vertical-align: middle;\n",
       "    }\n",
       "\n",
       "    .dataframe tbody tr th {\n",
       "        vertical-align: top;\n",
       "    }\n",
       "\n",
       "    .dataframe thead th {\n",
       "        text-align: right;\n",
       "    }\n",
       "</style>\n",
       "<table border=\"1\" class=\"dataframe\">\n",
       "  <thead>\n",
       "    <tr style=\"text-align: right;\">\n",
       "      <th></th>\n",
       "      <th>game_id</th>\n",
       "      <th>team_id_for</th>\n",
       "      <th>team_id_against</th>\n",
       "      <th>st_x</th>\n",
       "      <th>st_y</th>\n",
       "      <th>game_time</th>\n",
       "      <th>event_goal</th>\n",
       "      <th>season</th>\n",
       "      <th>type</th>\n",
       "      <th>date_time</th>\n",
       "      <th>...</th>\n",
       "      <th>away_goals</th>\n",
       "      <th>home_goals</th>\n",
       "      <th>outcome</th>\n",
       "      <th>home_rink_side_start</th>\n",
       "      <th>venue</th>\n",
       "      <th>venue_link</th>\n",
       "      <th>venue_time_zone_id</th>\n",
       "      <th>venue_time_zone_offset</th>\n",
       "      <th>venue_time_zone_tz</th>\n",
       "      <th>home_team_for</th>\n",
       "    </tr>\n",
       "  </thead>\n",
       "  <tbody>\n",
       "    <tr>\n",
       "      <td>0</td>\n",
       "      <td>2011030221</td>\n",
       "      <td>1.0</td>\n",
       "      <td>4.0</td>\n",
       "      <td>73.0</td>\n",
       "      <td>11.0</td>\n",
       "      <td>196</td>\n",
       "      <td>1</td>\n",
       "      <td>20112012</td>\n",
       "      <td>P</td>\n",
       "      <td>2012-04-29</td>\n",
       "      <td>...</td>\n",
       "      <td>3</td>\n",
       "      <td>4</td>\n",
       "      <td>home win OT</td>\n",
       "      <td>right</td>\n",
       "      <td>Wells Fargo Center</td>\n",
       "      <td>/api/v1/venues/null</td>\n",
       "      <td>America/New_York</td>\n",
       "      <td>-4</td>\n",
       "      <td>EDT</td>\n",
       "      <td>against</td>\n",
       "    </tr>\n",
       "    <tr>\n",
       "      <td>1</td>\n",
       "      <td>2011030221</td>\n",
       "      <td>4.0</td>\n",
       "      <td>1.0</td>\n",
       "      <td>79.0</td>\n",
       "      <td>-1.0</td>\n",
       "      <td>1687</td>\n",
       "      <td>1</td>\n",
       "      <td>20112012</td>\n",
       "      <td>P</td>\n",
       "      <td>2012-04-29</td>\n",
       "      <td>...</td>\n",
       "      <td>3</td>\n",
       "      <td>4</td>\n",
       "      <td>home win OT</td>\n",
       "      <td>right</td>\n",
       "      <td>Wells Fargo Center</td>\n",
       "      <td>/api/v1/venues/null</td>\n",
       "      <td>America/New_York</td>\n",
       "      <td>-4</td>\n",
       "      <td>EDT</td>\n",
       "      <td>for</td>\n",
       "    </tr>\n",
       "    <tr>\n",
       "      <td>2</td>\n",
       "      <td>2011030221</td>\n",
       "      <td>4.0</td>\n",
       "      <td>1.0</td>\n",
       "      <td>67.0</td>\n",
       "      <td>10.0</td>\n",
       "      <td>1724</td>\n",
       "      <td>1</td>\n",
       "      <td>20112012</td>\n",
       "      <td>P</td>\n",
       "      <td>2012-04-29</td>\n",
       "      <td>...</td>\n",
       "      <td>3</td>\n",
       "      <td>4</td>\n",
       "      <td>home win OT</td>\n",
       "      <td>right</td>\n",
       "      <td>Wells Fargo Center</td>\n",
       "      <td>/api/v1/venues/null</td>\n",
       "      <td>America/New_York</td>\n",
       "      <td>-4</td>\n",
       "      <td>EDT</td>\n",
       "      <td>for</td>\n",
       "    </tr>\n",
       "    <tr>\n",
       "      <td>3</td>\n",
       "      <td>2011030221</td>\n",
       "      <td>1.0</td>\n",
       "      <td>4.0</td>\n",
       "      <td>80.0</td>\n",
       "      <td>-1.0</td>\n",
       "      <td>2033</td>\n",
       "      <td>1</td>\n",
       "      <td>20112012</td>\n",
       "      <td>P</td>\n",
       "      <td>2012-04-29</td>\n",
       "      <td>...</td>\n",
       "      <td>3</td>\n",
       "      <td>4</td>\n",
       "      <td>home win OT</td>\n",
       "      <td>right</td>\n",
       "      <td>Wells Fargo Center</td>\n",
       "      <td>/api/v1/venues/null</td>\n",
       "      <td>America/New_York</td>\n",
       "      <td>-4</td>\n",
       "      <td>EDT</td>\n",
       "      <td>against</td>\n",
       "    </tr>\n",
       "    <tr>\n",
       "      <td>4</td>\n",
       "      <td>2011030221</td>\n",
       "      <td>4.0</td>\n",
       "      <td>1.0</td>\n",
       "      <td>69.0</td>\n",
       "      <td>28.0</td>\n",
       "      <td>2659</td>\n",
       "      <td>1</td>\n",
       "      <td>20112012</td>\n",
       "      <td>P</td>\n",
       "      <td>2012-04-29</td>\n",
       "      <td>...</td>\n",
       "      <td>3</td>\n",
       "      <td>4</td>\n",
       "      <td>home win OT</td>\n",
       "      <td>right</td>\n",
       "      <td>Wells Fargo Center</td>\n",
       "      <td>/api/v1/venues/null</td>\n",
       "      <td>America/New_York</td>\n",
       "      <td>-4</td>\n",
       "      <td>EDT</td>\n",
       "      <td>for</td>\n",
       "    </tr>\n",
       "  </tbody>\n",
       "</table>\n",
       "<p>5 rows × 23 columns</p>\n",
       "</div>"
      ],
      "text/plain": [
       "      game_id  team_id_for  team_id_against  st_x  st_y  game_time  \\\n",
       "0  2011030221          1.0              4.0  73.0  11.0        196   \n",
       "1  2011030221          4.0              1.0  79.0  -1.0       1687   \n",
       "2  2011030221          4.0              1.0  67.0  10.0       1724   \n",
       "3  2011030221          1.0              4.0  80.0  -1.0       2033   \n",
       "4  2011030221          4.0              1.0  69.0  28.0       2659   \n",
       "\n",
       "   event_goal    season type   date_time  ... away_goals  home_goals  \\\n",
       "0           1  20112012    P  2012-04-29  ...          3           4   \n",
       "1           1  20112012    P  2012-04-29  ...          3           4   \n",
       "2           1  20112012    P  2012-04-29  ...          3           4   \n",
       "3           1  20112012    P  2012-04-29  ...          3           4   \n",
       "4           1  20112012    P  2012-04-29  ...          3           4   \n",
       "\n",
       "       outcome  home_rink_side_start               venue           venue_link  \\\n",
       "0  home win OT                 right  Wells Fargo Center  /api/v1/venues/null   \n",
       "1  home win OT                 right  Wells Fargo Center  /api/v1/venues/null   \n",
       "2  home win OT                 right  Wells Fargo Center  /api/v1/venues/null   \n",
       "3  home win OT                 right  Wells Fargo Center  /api/v1/venues/null   \n",
       "4  home win OT                 right  Wells Fargo Center  /api/v1/venues/null   \n",
       "\n",
       "  venue_time_zone_id venue_time_zone_offset venue_time_zone_tz home_team_for  \n",
       "0   America/New_York                     -4                EDT       against  \n",
       "1   America/New_York                     -4                EDT           for  \n",
       "2   America/New_York                     -4                EDT           for  \n",
       "3   America/New_York                     -4                EDT       against  \n",
       "4   America/New_York                     -4                EDT           for  \n",
       "\n",
       "[5 rows x 23 columns]"
      ]
     },
     "execution_count": 101,
     "metadata": {},
     "output_type": "execute_result"
    }
   ],
   "source": [
    "plays.head()"
   ]
  },
  {
   "cell_type": "code",
   "execution_count": 37,
   "metadata": {},
   "outputs": [
    {
     "data": {
      "text/plain": [
       "Index(['game_id', 'team_id_for', 'team_id_against', 'st_x', 'st_y',\n",
       "       'game_time', 'event_goal', 'season', 'type', 'date_time',\n",
       "       'date_time_GMT', 'away_team_id', 'home_team_id', 'away_goals',\n",
       "       'home_goals', 'outcome', 'home_rink_side_start', 'venue', 'venue_link',\n",
       "       'venue_time_zone_id', 'venue_time_zone_offset', 'venue_time_zone_tz',\n",
       "       'home_team_for'],\n",
       "      dtype='object')"
      ]
     },
     "execution_count": 37,
     "metadata": {},
     "output_type": "execute_result"
    }
   ],
   "source": [
    "plays.columns"
   ]
  },
  {
   "cell_type": "code",
   "execution_count": 102,
   "metadata": {},
   "outputs": [
    {
     "data": {
      "text/html": [
       "<div>\n",
       "<style scoped>\n",
       "    .dataframe tbody tr th:only-of-type {\n",
       "        vertical-align: middle;\n",
       "    }\n",
       "\n",
       "    .dataframe tbody tr th {\n",
       "        vertical-align: top;\n",
       "    }\n",
       "\n",
       "    .dataframe thead th {\n",
       "        text-align: right;\n",
       "    }\n",
       "</style>\n",
       "<table border=\"1\" class=\"dataframe\">\n",
       "  <thead>\n",
       "    <tr style=\"text-align: right;\">\n",
       "      <th></th>\n",
       "      <th>a_home_win</th>\n",
       "      <th>b_tie</th>\n",
       "      <th>c_away_win</th>\n",
       "    </tr>\n",
       "  </thead>\n",
       "  <tbody>\n",
       "    <tr>\n",
       "      <td>11078</td>\n",
       "      <td>1</td>\n",
       "      <td>0</td>\n",
       "      <td>0</td>\n",
       "    </tr>\n",
       "    <tr>\n",
       "      <td>10725</td>\n",
       "      <td>0</td>\n",
       "      <td>0</td>\n",
       "      <td>1</td>\n",
       "    </tr>\n",
       "    <tr>\n",
       "      <td>9625</td>\n",
       "      <td>0</td>\n",
       "      <td>0</td>\n",
       "      <td>1</td>\n",
       "    </tr>\n",
       "    <tr>\n",
       "      <td>10256</td>\n",
       "      <td>0</td>\n",
       "      <td>1</td>\n",
       "      <td>0</td>\n",
       "    </tr>\n",
       "    <tr>\n",
       "      <td>10673</td>\n",
       "      <td>1</td>\n",
       "      <td>0</td>\n",
       "      <td>0</td>\n",
       "    </tr>\n",
       "    <tr>\n",
       "      <td>...</td>\n",
       "      <td>...</td>\n",
       "      <td>...</td>\n",
       "      <td>...</td>\n",
       "    </tr>\n",
       "    <tr>\n",
       "      <td>11427</td>\n",
       "      <td>1</td>\n",
       "      <td>0</td>\n",
       "      <td>0</td>\n",
       "    </tr>\n",
       "    <tr>\n",
       "      <td>11428</td>\n",
       "      <td>0</td>\n",
       "      <td>1</td>\n",
       "      <td>0</td>\n",
       "    </tr>\n",
       "    <tr>\n",
       "      <td>11430</td>\n",
       "      <td>1</td>\n",
       "      <td>0</td>\n",
       "      <td>0</td>\n",
       "    </tr>\n",
       "    <tr>\n",
       "      <td>11432</td>\n",
       "      <td>0</td>\n",
       "      <td>0</td>\n",
       "      <td>1</td>\n",
       "    </tr>\n",
       "    <tr>\n",
       "      <td>11433</td>\n",
       "      <td>0</td>\n",
       "      <td>0</td>\n",
       "      <td>1</td>\n",
       "    </tr>\n",
       "  </tbody>\n",
       "</table>\n",
       "<p>6959 rows × 3 columns</p>\n",
       "</div>"
      ],
      "text/plain": [
       "       a_home_win  b_tie  c_away_win\n",
       "11078           1      0           0\n",
       "10725           0      0           1\n",
       "9625            0      0           1\n",
       "10256           0      1           0\n",
       "10673           1      0           0\n",
       "...           ...    ...         ...\n",
       "11427           1      0           0\n",
       "11428           0      1           0\n",
       "11430           1      0           0\n",
       "11432           0      0           1\n",
       "11433           0      0           1\n",
       "\n",
       "[6959 rows x 3 columns]"
      ]
     },
     "execution_count": 102,
     "metadata": {},
     "output_type": "execute_result"
    }
   ],
   "source": [
    "pd.get_dummies(games['result'])"
   ]
  },
  {
   "cell_type": "code",
   "execution_count": 39,
   "metadata": {},
   "outputs": [
    {
     "data": {
      "text/plain": [
       "array([[0, 1, 0],\n",
       "       [0, 0, 1],\n",
       "       [0, 1, 0],\n",
       "       ...,\n",
       "       [1, 0, 0],\n",
       "       [0, 0, 1],\n",
       "       [0, 0, 1]], dtype=int8)"
      ]
     },
     "execution_count": 39,
     "metadata": {},
     "output_type": "execute_result"
    }
   ],
   "source": [
    "pd.get_dummies(games['result']).to_numpy(dtype=np.int8)"
   ]
  },
  {
   "cell_type": "code",
   "execution_count": 103,
   "metadata": {},
   "outputs": [],
   "source": [
    "y = pd.get_dummies(games['result']).to_numpy(dtype=np.int8)"
   ]
  },
  {
   "cell_type": "code",
   "execution_count": 104,
   "metadata": {},
   "outputs": [],
   "source": [
    "plays['home_team_for'] = plays['home_team_for'].astype('category').cat.codes"
   ]
  },
  {
   "cell_type": "code",
   "execution_count": 105,
   "metadata": {},
   "outputs": [
    {
     "data": {
      "text/html": [
       "<div>\n",
       "<style scoped>\n",
       "    .dataframe tbody tr th:only-of-type {\n",
       "        vertical-align: middle;\n",
       "    }\n",
       "\n",
       "    .dataframe tbody tr th {\n",
       "        vertical-align: top;\n",
       "    }\n",
       "\n",
       "    .dataframe thead th {\n",
       "        text-align: right;\n",
       "    }\n",
       "</style>\n",
       "<table border=\"1\" class=\"dataframe\">\n",
       "  <thead>\n",
       "    <tr style=\"text-align: right;\">\n",
       "      <th></th>\n",
       "      <th>game_id</th>\n",
       "      <th>team_id_for</th>\n",
       "      <th>team_id_against</th>\n",
       "      <th>st_x</th>\n",
       "      <th>st_y</th>\n",
       "      <th>game_time</th>\n",
       "      <th>event_goal</th>\n",
       "      <th>season</th>\n",
       "      <th>type</th>\n",
       "      <th>date_time</th>\n",
       "      <th>...</th>\n",
       "      <th>away_goals</th>\n",
       "      <th>home_goals</th>\n",
       "      <th>outcome</th>\n",
       "      <th>home_rink_side_start</th>\n",
       "      <th>venue</th>\n",
       "      <th>venue_link</th>\n",
       "      <th>venue_time_zone_id</th>\n",
       "      <th>venue_time_zone_offset</th>\n",
       "      <th>venue_time_zone_tz</th>\n",
       "      <th>home_team_for</th>\n",
       "    </tr>\n",
       "  </thead>\n",
       "  <tbody>\n",
       "    <tr>\n",
       "      <td>0</td>\n",
       "      <td>2011030221</td>\n",
       "      <td>1.0</td>\n",
       "      <td>4.0</td>\n",
       "      <td>73.0</td>\n",
       "      <td>11.0</td>\n",
       "      <td>196</td>\n",
       "      <td>1</td>\n",
       "      <td>20112012</td>\n",
       "      <td>P</td>\n",
       "      <td>2012-04-29</td>\n",
       "      <td>...</td>\n",
       "      <td>3</td>\n",
       "      <td>4</td>\n",
       "      <td>home win OT</td>\n",
       "      <td>right</td>\n",
       "      <td>Wells Fargo Center</td>\n",
       "      <td>/api/v1/venues/null</td>\n",
       "      <td>America/New_York</td>\n",
       "      <td>-4</td>\n",
       "      <td>EDT</td>\n",
       "      <td>0</td>\n",
       "    </tr>\n",
       "    <tr>\n",
       "      <td>1</td>\n",
       "      <td>2011030221</td>\n",
       "      <td>4.0</td>\n",
       "      <td>1.0</td>\n",
       "      <td>79.0</td>\n",
       "      <td>-1.0</td>\n",
       "      <td>1687</td>\n",
       "      <td>1</td>\n",
       "      <td>20112012</td>\n",
       "      <td>P</td>\n",
       "      <td>2012-04-29</td>\n",
       "      <td>...</td>\n",
       "      <td>3</td>\n",
       "      <td>4</td>\n",
       "      <td>home win OT</td>\n",
       "      <td>right</td>\n",
       "      <td>Wells Fargo Center</td>\n",
       "      <td>/api/v1/venues/null</td>\n",
       "      <td>America/New_York</td>\n",
       "      <td>-4</td>\n",
       "      <td>EDT</td>\n",
       "      <td>1</td>\n",
       "    </tr>\n",
       "    <tr>\n",
       "      <td>2</td>\n",
       "      <td>2011030221</td>\n",
       "      <td>4.0</td>\n",
       "      <td>1.0</td>\n",
       "      <td>67.0</td>\n",
       "      <td>10.0</td>\n",
       "      <td>1724</td>\n",
       "      <td>1</td>\n",
       "      <td>20112012</td>\n",
       "      <td>P</td>\n",
       "      <td>2012-04-29</td>\n",
       "      <td>...</td>\n",
       "      <td>3</td>\n",
       "      <td>4</td>\n",
       "      <td>home win OT</td>\n",
       "      <td>right</td>\n",
       "      <td>Wells Fargo Center</td>\n",
       "      <td>/api/v1/venues/null</td>\n",
       "      <td>America/New_York</td>\n",
       "      <td>-4</td>\n",
       "      <td>EDT</td>\n",
       "      <td>1</td>\n",
       "    </tr>\n",
       "    <tr>\n",
       "      <td>3</td>\n",
       "      <td>2011030221</td>\n",
       "      <td>1.0</td>\n",
       "      <td>4.0</td>\n",
       "      <td>80.0</td>\n",
       "      <td>-1.0</td>\n",
       "      <td>2033</td>\n",
       "      <td>1</td>\n",
       "      <td>20112012</td>\n",
       "      <td>P</td>\n",
       "      <td>2012-04-29</td>\n",
       "      <td>...</td>\n",
       "      <td>3</td>\n",
       "      <td>4</td>\n",
       "      <td>home win OT</td>\n",
       "      <td>right</td>\n",
       "      <td>Wells Fargo Center</td>\n",
       "      <td>/api/v1/venues/null</td>\n",
       "      <td>America/New_York</td>\n",
       "      <td>-4</td>\n",
       "      <td>EDT</td>\n",
       "      <td>0</td>\n",
       "    </tr>\n",
       "    <tr>\n",
       "      <td>4</td>\n",
       "      <td>2011030221</td>\n",
       "      <td>4.0</td>\n",
       "      <td>1.0</td>\n",
       "      <td>69.0</td>\n",
       "      <td>28.0</td>\n",
       "      <td>2659</td>\n",
       "      <td>1</td>\n",
       "      <td>20112012</td>\n",
       "      <td>P</td>\n",
       "      <td>2012-04-29</td>\n",
       "      <td>...</td>\n",
       "      <td>3</td>\n",
       "      <td>4</td>\n",
       "      <td>home win OT</td>\n",
       "      <td>right</td>\n",
       "      <td>Wells Fargo Center</td>\n",
       "      <td>/api/v1/venues/null</td>\n",
       "      <td>America/New_York</td>\n",
       "      <td>-4</td>\n",
       "      <td>EDT</td>\n",
       "      <td>1</td>\n",
       "    </tr>\n",
       "  </tbody>\n",
       "</table>\n",
       "<p>5 rows × 23 columns</p>\n",
       "</div>"
      ],
      "text/plain": [
       "      game_id  team_id_for  team_id_against  st_x  st_y  game_time  \\\n",
       "0  2011030221          1.0              4.0  73.0  11.0        196   \n",
       "1  2011030221          4.0              1.0  79.0  -1.0       1687   \n",
       "2  2011030221          4.0              1.0  67.0  10.0       1724   \n",
       "3  2011030221          1.0              4.0  80.0  -1.0       2033   \n",
       "4  2011030221          4.0              1.0  69.0  28.0       2659   \n",
       "\n",
       "   event_goal    season type   date_time  ... away_goals  home_goals  \\\n",
       "0           1  20112012    P  2012-04-29  ...          3           4   \n",
       "1           1  20112012    P  2012-04-29  ...          3           4   \n",
       "2           1  20112012    P  2012-04-29  ...          3           4   \n",
       "3           1  20112012    P  2012-04-29  ...          3           4   \n",
       "4           1  20112012    P  2012-04-29  ...          3           4   \n",
       "\n",
       "       outcome  home_rink_side_start               venue           venue_link  \\\n",
       "0  home win OT                 right  Wells Fargo Center  /api/v1/venues/null   \n",
       "1  home win OT                 right  Wells Fargo Center  /api/v1/venues/null   \n",
       "2  home win OT                 right  Wells Fargo Center  /api/v1/venues/null   \n",
       "3  home win OT                 right  Wells Fargo Center  /api/v1/venues/null   \n",
       "4  home win OT                 right  Wells Fargo Center  /api/v1/venues/null   \n",
       "\n",
       "  venue_time_zone_id venue_time_zone_offset venue_time_zone_tz home_team_for  \n",
       "0   America/New_York                     -4                EDT             0  \n",
       "1   America/New_York                     -4                EDT             1  \n",
       "2   America/New_York                     -4                EDT             1  \n",
       "3   America/New_York                     -4                EDT             0  \n",
       "4   America/New_York                     -4                EDT             1  \n",
       "\n",
       "[5 rows x 23 columns]"
      ]
     },
     "execution_count": 105,
     "metadata": {},
     "output_type": "execute_result"
    }
   ],
   "source": [
    "plays.head()"
   ]
  },
  {
   "cell_type": "code",
   "execution_count": 106,
   "metadata": {},
   "outputs": [
    {
     "data": {
      "text/plain": [
       "0    0\n",
       "1    1\n",
       "2    1\n",
       "3    0\n",
       "4    1\n",
       "Name: home_team_for, dtype: int8"
      ]
     },
     "execution_count": 106,
     "metadata": {},
     "output_type": "execute_result"
    }
   ],
   "source": [
    "plays['home_team_for'][:5]"
   ]
  },
  {
   "cell_type": "code",
   "execution_count": 107,
   "metadata": {},
   "outputs": [],
   "source": [
    "relevant_columns = ['game_id', 'st_x', 'st_y', 'game_time', 'distance', 'angle', 'home_team_for']"
   ]
  },
  {
   "cell_type": "code",
   "execution_count": 108,
   "metadata": {},
   "outputs": [],
   "source": [
    "plays = plays.loc[:, (plays.columns.isin(relevant_columns) | plays.columns.str.contains('event') | plays.columns.str.contains('danger'))]"
   ]
  },
  {
   "cell_type": "code",
   "execution_count": 109,
   "metadata": {},
   "outputs": [
    {
     "data": {
      "text/html": [
       "<div>\n",
       "<style scoped>\n",
       "    .dataframe tbody tr th:only-of-type {\n",
       "        vertical-align: middle;\n",
       "    }\n",
       "\n",
       "    .dataframe tbody tr th {\n",
       "        vertical-align: top;\n",
       "    }\n",
       "\n",
       "    .dataframe thead th {\n",
       "        text-align: right;\n",
       "    }\n",
       "</style>\n",
       "<table border=\"1\" class=\"dataframe\">\n",
       "  <thead>\n",
       "    <tr style=\"text-align: right;\">\n",
       "      <th></th>\n",
       "      <th>game_id</th>\n",
       "      <th>st_x</th>\n",
       "      <th>st_y</th>\n",
       "      <th>game_time</th>\n",
       "      <th>event_goal</th>\n",
       "      <th>home_team_for</th>\n",
       "    </tr>\n",
       "  </thead>\n",
       "  <tbody>\n",
       "    <tr>\n",
       "      <td>0</td>\n",
       "      <td>2011030221</td>\n",
       "      <td>73.0</td>\n",
       "      <td>11.0</td>\n",
       "      <td>196</td>\n",
       "      <td>1</td>\n",
       "      <td>0</td>\n",
       "    </tr>\n",
       "    <tr>\n",
       "      <td>1</td>\n",
       "      <td>2011030221</td>\n",
       "      <td>79.0</td>\n",
       "      <td>-1.0</td>\n",
       "      <td>1687</td>\n",
       "      <td>1</td>\n",
       "      <td>1</td>\n",
       "    </tr>\n",
       "    <tr>\n",
       "      <td>2</td>\n",
       "      <td>2011030221</td>\n",
       "      <td>67.0</td>\n",
       "      <td>10.0</td>\n",
       "      <td>1724</td>\n",
       "      <td>1</td>\n",
       "      <td>1</td>\n",
       "    </tr>\n",
       "    <tr>\n",
       "      <td>3</td>\n",
       "      <td>2011030221</td>\n",
       "      <td>80.0</td>\n",
       "      <td>-1.0</td>\n",
       "      <td>2033</td>\n",
       "      <td>1</td>\n",
       "      <td>0</td>\n",
       "    </tr>\n",
       "    <tr>\n",
       "      <td>4</td>\n",
       "      <td>2011030221</td>\n",
       "      <td>69.0</td>\n",
       "      <td>28.0</td>\n",
       "      <td>2659</td>\n",
       "      <td>1</td>\n",
       "      <td>1</td>\n",
       "    </tr>\n",
       "  </tbody>\n",
       "</table>\n",
       "</div>"
      ],
      "text/plain": [
       "      game_id  st_x  st_y  game_time  event_goal  home_team_for\n",
       "0  2011030221  73.0  11.0        196           1              0\n",
       "1  2011030221  79.0  -1.0       1687           1              1\n",
       "2  2011030221  67.0  10.0       1724           1              1\n",
       "3  2011030221  80.0  -1.0       2033           1              0\n",
       "4  2011030221  69.0  28.0       2659           1              1"
      ]
     },
     "execution_count": 109,
     "metadata": {},
     "output_type": "execute_result"
    }
   ],
   "source": [
    "plays.head()"
   ]
  },
  {
   "cell_type": "code",
   "execution_count": 49,
   "metadata": {},
   "outputs": [],
   "source": [
    "plays['offensive_zone_home'] = plays[['st_x', 'home_team']].apply(offensive_zone_home, axis=1)\n",
    "plays['offensive_zone_away'] = plays[['st_x', 'home_team']].apply(offensive_zone_away, axis=1)"
   ]
  },
  {
   "cell_type": "code",
   "execution_count": 110,
   "metadata": {},
   "outputs": [],
   "source": [
    "n_games = len(plays.game_id.unique())\n",
    "n_events = plays.groupby(['game_id']).size().describe()['min'].astype(np.int64)\n",
    "n_columns = len(plays.columns)-1"
   ]
  },
  {
   "cell_type": "code",
   "execution_count": 111,
   "metadata": {},
   "outputs": [
    {
     "name": "stdout",
     "output_type": "stream",
     "text": [
      "6959 4 2\n",
      "(6959, 4, 2)\n"
     ]
    }
   ],
   "source": [
    "n_columns = 2\n",
    "\n",
    "X = np.zeros((n_games, n_events, n_columns), dtype=np.int32)\n",
    "\n",
    "print(n_games, n_events, n_columns)\n",
    "print(X.shape)"
   ]
  },
  {
   "cell_type": "code",
   "execution_count": 112,
   "metadata": {},
   "outputs": [],
   "source": [
    "for i, game_id in enumerate(sorted(plays.game_id.unique())):\n",
    "    game_events = plays[plays['game_id'] == game_id].iloc[:n_events,4:].to_numpy(dtype=np.int32)\n",
    "    # fill = np.full((n_events-game_events.shape[0], n_columns), np.nan)\n",
    "    # full_events = np.vstack((game_events, fill))\n",
    "    X[i] = game_events    "
   ]
  },
  {
   "cell_type": "code",
   "execution_count": 113,
   "metadata": {},
   "outputs": [
    {
     "name": "stdout",
     "output_type": "stream",
     "text": [
      "2010020001\n",
      "2010020002\n",
      "2010020003\n",
      "2010020004\n",
      "2010020005\n",
      "2010020006\n",
      "2010020007\n",
      "2010020009\n",
      "2010020011\n",
      "2010020012\n",
      "2010020014\n"
     ]
    }
   ],
   "source": [
    "for i, game_id in enumerate(sorted(plays.game_id.unique())):\n",
    "    print(game_id)\n",
    "    if i == 10:\n",
    "        break"
   ]
  },
  {
   "cell_type": "code",
   "execution_count": 115,
   "metadata": {},
   "outputs": [
    {
     "name": "stdout",
     "output_type": "stream",
     "text": [
      "True\n"
     ]
    }
   ],
   "source": [
    "print(np.array_equal(games.game_id.unique(), sorted(plays.game_id.unique())))"
   ]
  },
  {
   "cell_type": "code",
   "execution_count": 116,
   "metadata": {},
   "outputs": [
    {
     "name": "stdout",
     "output_type": "stream",
     "text": [
      "2010020001\n",
      "2010020002\n",
      "2010020003\n",
      "2010020004\n",
      "2010020005\n",
      "2010020006\n",
      "2010020007\n",
      "2010020009\n",
      "2010020011\n",
      "2010020012\n",
      "2010020014\n"
     ]
    }
   ],
   "source": [
    "for i, game_id in enumerate(games.game_id.unique()):\n",
    "    print(game_id)\n",
    "    if i == 10:\n",
    "        break"
   ]
  },
  {
   "cell_type": "code",
   "execution_count": 66,
   "metadata": {},
   "outputs": [
    {
     "data": {
      "text/html": [
       "<div>\n",
       "<style scoped>\n",
       "    .dataframe tbody tr th:only-of-type {\n",
       "        vertical-align: middle;\n",
       "    }\n",
       "\n",
       "    .dataframe tbody tr th {\n",
       "        vertical-align: top;\n",
       "    }\n",
       "\n",
       "    .dataframe thead th {\n",
       "        text-align: right;\n",
       "    }\n",
       "</style>\n",
       "<table border=\"1\" class=\"dataframe\">\n",
       "  <thead>\n",
       "    <tr style=\"text-align: right;\">\n",
       "      <th></th>\n",
       "      <th>game_id</th>\n",
       "      <th>st_x</th>\n",
       "      <th>st_y</th>\n",
       "      <th>game_time</th>\n",
       "      <th>event_goal</th>\n",
       "      <th>home_team_for</th>\n",
       "    </tr>\n",
       "  </thead>\n",
       "  <tbody>\n",
       "    <tr>\n",
       "      <td>7</td>\n",
       "      <td>2011030111</td>\n",
       "      <td>88.0</td>\n",
       "      <td>-14.0</td>\n",
       "      <td>721</td>\n",
       "      <td>1</td>\n",
       "      <td>1</td>\n",
       "    </tr>\n",
       "    <tr>\n",
       "      <td>8</td>\n",
       "      <td>2011030111</td>\n",
       "      <td>80.0</td>\n",
       "      <td>-3.0</td>\n",
       "      <td>2184</td>\n",
       "      <td>1</td>\n",
       "      <td>1</td>\n",
       "    </tr>\n",
       "    <tr>\n",
       "      <td>9</td>\n",
       "      <td>2011030111</td>\n",
       "      <td>70.0</td>\n",
       "      <td>-10.0</td>\n",
       "      <td>2346</td>\n",
       "      <td>1</td>\n",
       "      <td>1</td>\n",
       "    </tr>\n",
       "    <tr>\n",
       "      <td>10</td>\n",
       "      <td>2011030111</td>\n",
       "      <td>82.0</td>\n",
       "      <td>-3.0</td>\n",
       "      <td>2535</td>\n",
       "      <td>1</td>\n",
       "      <td>1</td>\n",
       "    </tr>\n",
       "    <tr>\n",
       "      <td>11</td>\n",
       "      <td>2011030111</td>\n",
       "      <td>80.0</td>\n",
       "      <td>-1.0</td>\n",
       "      <td>3005</td>\n",
       "      <td>1</td>\n",
       "      <td>0</td>\n",
       "    </tr>\n",
       "    <tr>\n",
       "      <td>12</td>\n",
       "      <td>2011030111</td>\n",
       "      <td>82.0</td>\n",
       "      <td>10.0</td>\n",
       "      <td>3461</td>\n",
       "      <td>1</td>\n",
       "      <td>0</td>\n",
       "    </tr>\n",
       "  </tbody>\n",
       "</table>\n",
       "</div>"
      ],
      "text/plain": [
       "       game_id  st_x  st_y  game_time  event_goal  home_team_for\n",
       "7   2011030111  88.0 -14.0        721           1              1\n",
       "8   2011030111  80.0  -3.0       2184           1              1\n",
       "9   2011030111  70.0 -10.0       2346           1              1\n",
       "10  2011030111  82.0  -3.0       2535           1              1\n",
       "11  2011030111  80.0  -1.0       3005           1              0\n",
       "12  2011030111  82.0  10.0       3461           1              0"
      ]
     },
     "execution_count": 66,
     "metadata": {},
     "output_type": "execute_result"
    }
   ],
   "source": [
    "plays[plays['game_id']==2011030111]"
   ]
  },
  {
   "cell_type": "code",
   "execution_count": 117,
   "metadata": {},
   "outputs": [
    {
     "name": "stdout",
     "output_type": "stream",
     "text": [
      "(6959, 4, 2)\n",
      "(6959, 3)\n"
     ]
    }
   ],
   "source": [
    "print(X.shape)\n",
    "print(y.shape)"
   ]
  },
  {
   "cell_type": "code",
   "execution_count": 132,
   "metadata": {},
   "outputs": [],
   "source": [
    "data = {'Goals': tuple(X[:,:,1]), 'Result': tuple(y)}"
   ]
  },
  {
   "cell_type": "code",
   "execution_count": 133,
   "metadata": {},
   "outputs": [],
   "source": [
    "df = pd.DataFrame(data, columns=['Goals', 'Result'])"
   ]
  },
  {
   "cell_type": "code",
   "execution_count": 135,
   "metadata": {},
   "outputs": [
    {
     "data": {
      "text/html": [
       "<div>\n",
       "<style scoped>\n",
       "    .dataframe tbody tr th:only-of-type {\n",
       "        vertical-align: middle;\n",
       "    }\n",
       "\n",
       "    .dataframe tbody tr th {\n",
       "        vertical-align: top;\n",
       "    }\n",
       "\n",
       "    .dataframe thead th {\n",
       "        text-align: right;\n",
       "    }\n",
       "</style>\n",
       "<table border=\"1\" class=\"dataframe\">\n",
       "  <thead>\n",
       "    <tr style=\"text-align: right;\">\n",
       "      <th>Result</th>\n",
       "      <th>[0 0 1]</th>\n",
       "      <th>[0 1 0]</th>\n",
       "      <th>[1 0 0]</th>\n",
       "    </tr>\n",
       "    <tr>\n",
       "      <th>Goals</th>\n",
       "      <th></th>\n",
       "      <th></th>\n",
       "      <th></th>\n",
       "    </tr>\n",
       "  </thead>\n",
       "  <tbody>\n",
       "    <tr>\n",
       "      <td>[0 0 0 0]</td>\n",
       "      <td>351</td>\n",
       "      <td>0</td>\n",
       "      <td>0</td>\n",
       "    </tr>\n",
       "    <tr>\n",
       "      <td>[0 0 0 1]</td>\n",
       "      <td>340</td>\n",
       "      <td>24</td>\n",
       "      <td>8</td>\n",
       "    </tr>\n",
       "    <tr>\n",
       "      <td>[0 0 1 0]</td>\n",
       "      <td>365</td>\n",
       "      <td>19</td>\n",
       "      <td>8</td>\n",
       "    </tr>\n",
       "    <tr>\n",
       "      <td>[0 0 1 1]</td>\n",
       "      <td>139</td>\n",
       "      <td>134</td>\n",
       "      <td>133</td>\n",
       "    </tr>\n",
       "    <tr>\n",
       "      <td>[0 1 0 0]</td>\n",
       "      <td>330</td>\n",
       "      <td>20</td>\n",
       "      <td>5</td>\n",
       "    </tr>\n",
       "    <tr>\n",
       "      <td>[0 1 0 1]</td>\n",
       "      <td>155</td>\n",
       "      <td>115</td>\n",
       "      <td>141</td>\n",
       "    </tr>\n",
       "    <tr>\n",
       "      <td>[0 1 1 0]</td>\n",
       "      <td>168</td>\n",
       "      <td>121</td>\n",
       "      <td>160</td>\n",
       "    </tr>\n",
       "    <tr>\n",
       "      <td>[0 1 1 1]</td>\n",
       "      <td>13</td>\n",
       "      <td>19</td>\n",
       "      <td>489</td>\n",
       "    </tr>\n",
       "    <tr>\n",
       "      <td>[1 0 0 0]</td>\n",
       "      <td>367</td>\n",
       "      <td>21</td>\n",
       "      <td>9</td>\n",
       "    </tr>\n",
       "    <tr>\n",
       "      <td>[1 0 0 1]</td>\n",
       "      <td>151</td>\n",
       "      <td>125</td>\n",
       "      <td>184</td>\n",
       "    </tr>\n",
       "    <tr>\n",
       "      <td>[1 0 1 0]</td>\n",
       "      <td>169</td>\n",
       "      <td>123</td>\n",
       "      <td>175</td>\n",
       "    </tr>\n",
       "    <tr>\n",
       "      <td>[1 0 1 1]</td>\n",
       "      <td>8</td>\n",
       "      <td>20</td>\n",
       "      <td>484</td>\n",
       "    </tr>\n",
       "    <tr>\n",
       "      <td>[1 1 0 0]</td>\n",
       "      <td>138</td>\n",
       "      <td>137</td>\n",
       "      <td>150</td>\n",
       "    </tr>\n",
       "    <tr>\n",
       "      <td>[1 1 0 1]</td>\n",
       "      <td>8</td>\n",
       "      <td>20</td>\n",
       "      <td>470</td>\n",
       "    </tr>\n",
       "    <tr>\n",
       "      <td>[1 1 1 0]</td>\n",
       "      <td>8</td>\n",
       "      <td>27</td>\n",
       "      <td>398</td>\n",
       "    </tr>\n",
       "    <tr>\n",
       "      <td>[1 1 1 1]</td>\n",
       "      <td>0</td>\n",
       "      <td>0</td>\n",
       "      <td>510</td>\n",
       "    </tr>\n",
       "  </tbody>\n",
       "</table>\n",
       "</div>"
      ],
      "text/plain": [
       "Result     [0 0 1]  [0 1 0]  [1 0 0]\n",
       "Goals                               \n",
       "[0 0 0 0]      351        0        0\n",
       "[0 0 0 1]      340       24        8\n",
       "[0 0 1 0]      365       19        8\n",
       "[0 0 1 1]      139      134      133\n",
       "[0 1 0 0]      330       20        5\n",
       "[0 1 0 1]      155      115      141\n",
       "[0 1 1 0]      168      121      160\n",
       "[0 1 1 1]       13       19      489\n",
       "[1 0 0 0]      367       21        9\n",
       "[1 0 0 1]      151      125      184\n",
       "[1 0 1 0]      169      123      175\n",
       "[1 0 1 1]        8       20      484\n",
       "[1 1 0 0]      138      137      150\n",
       "[1 1 0 1]        8       20      470\n",
       "[1 1 1 0]        8       27      398\n",
       "[1 1 1 1]        0        0      510"
      ]
     },
     "execution_count": 135,
     "metadata": {},
     "output_type": "execute_result"
    }
   ],
   "source": [
    "pd.crosstab(df['Goals'].astype(str), df['Result'].astype(str))"
   ]
  },
  {
   "cell_type": "code",
   "execution_count": 60,
   "metadata": {},
   "outputs": [],
   "source": [
    "# games.head()"
   ]
  },
  {
   "cell_type": "code",
   "execution_count": 61,
   "metadata": {},
   "outputs": [],
   "source": [
    "# games['result'].head(10)"
   ]
  },
  {
   "cell_type": "code",
   "execution_count": 57,
   "metadata": {},
   "outputs": [
    {
     "name": "stdout",
     "output_type": "stream",
     "text": [
      "19507\n"
     ]
    }
   ],
   "source": [
    "print(len(np.unique(plays[['st_x', 'st_y']].values, axis=0)))"
   ]
  },
  {
   "cell_type": "code",
   "execution_count": 64,
   "metadata": {},
   "outputs": [
    {
     "name": "stdout",
     "output_type": "stream",
     "text": [
      "200\n"
     ]
    }
   ],
   "source": [
    "print(len(plays['st_x'].unique()))"
   ]
  },
  {
   "cell_type": "code",
   "execution_count": 65,
   "metadata": {},
   "outputs": [
    {
     "name": "stdout",
     "output_type": "stream",
     "text": [
      "86\n"
     ]
    }
   ],
   "source": [
    "print(len(plays['st_y'].unique()))"
   ]
  },
  {
   "cell_type": "code",
   "execution_count": 71,
   "metadata": {},
   "outputs": [
    {
     "data": {
      "text/plain": [
       "(16808, 2)"
      ]
     },
     "execution_count": 71,
     "metadata": {},
     "output_type": "execute_result"
    }
   ],
   "source": [
    "np.unique(plays[['st_x', 'st_y']].dropna().values, axis=0).shape"
   ]
  },
  {
   "cell_type": "code",
   "execution_count": 72,
   "metadata": {},
   "outputs": [
    {
     "data": {
      "text/plain": [
       "(1199440, 15)"
      ]
     },
     "execution_count": 72,
     "metadata": {},
     "output_type": "execute_result"
    }
   ],
   "source": [
    "plays.shape"
   ]
  },
  {
   "cell_type": "code",
   "execution_count": 77,
   "metadata": {},
   "outputs": [
    {
     "name": "stdout",
     "output_type": "stream",
     "text": [
      "count    16808.000000\n",
      "mean        71.200678\n",
      "std        766.600182\n",
      "min          1.000000\n",
      "25%         15.000000\n",
      "50%         39.000000\n",
      "75%         82.000000\n",
      "max      51155.000000\n",
      "dtype: float64\n"
     ]
    }
   ],
   "source": [
    "print(plays.groupby(['st_x', 'st_y']).size().describe())"
   ]
  },
  {
   "cell_type": "code",
   "execution_count": 82,
   "metadata": {},
   "outputs": [
    {
     "name": "stdout",
     "output_type": "stream",
     "text": [
      "(-69.0, 22.0)\n"
     ]
    }
   ],
   "source": [
    "print(plays.groupby(['st_x', 'st_y']).size().idxmax())"
   ]
  },
  {
   "cell_type": "code",
   "execution_count": 87,
   "metadata": {},
   "outputs": [
    {
     "name": "stdout",
     "output_type": "stream",
     "text": [
      "70.0\n"
     ]
    }
   ],
   "source": [
    "print(np.around(np.degrees(np.arccos(1)), decimals=-1))"
   ]
  },
  {
   "cell_type": "code",
   "execution_count": null,
   "metadata": {},
   "outputs": [],
   "source": []
  }
 ],
 "metadata": {
  "kernelspec": {
   "display_name": "Python 3",
   "language": "python",
   "name": "python3"
  },
  "language_info": {
   "codemirror_mode": {
    "name": "ipython",
    "version": 3
   },
   "file_extension": ".py",
   "mimetype": "text/x-python",
   "name": "python",
   "nbconvert_exporter": "python",
   "pygments_lexer": "ipython3",
   "version": "3.7.5rc1"
  }
 },
 "nbformat": 4,
 "nbformat_minor": 4
}
