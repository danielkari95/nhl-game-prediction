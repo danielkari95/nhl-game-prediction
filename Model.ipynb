{
 "cells": [
  {
   "cell_type": "code",
   "execution_count": 1,
   "metadata": {},
   "outputs": [],
   "source": [
    "import numpy as np\n",
    "import pandas as pd\n",
    "import preprocessing as pp\n",
    "import tensorflow as tf\n",
    "import preprocessing as pp\n",
    "import matplotlib.pyplot as plt\n",
    "import seaborn as sns\n",
    "\n",
    "from sklearn.model_selection import train_test_split\n",
    "from sklearn.metrics import classification_report\n",
    "\n",
    "%matplotlib inline"
   ]
  },
  {
   "cell_type": "code",
   "execution_count": 2,
   "metadata": {},
   "outputs": [],
   "source": [
    "np.random.seed(1313)\n",
    "tf.random.set_seed(131313)"
   ]
  },
  {
   "cell_type": "code",
   "execution_count": 5,
   "metadata": {},
   "outputs": [],
   "source": [
    "X = np.load(\"data/numpy/X_with_danger_and_zones.npy\")\n",
    "y_true = np.load(\"data/numpy/y_with_danger_and_zones.npy\")"
   ]
  },
  {
   "cell_type": "code",
   "execution_count": 4,
   "metadata": {},
   "outputs": [],
   "source": [
    "plays = pd.read_csv('data/csv/game_plays.csv')\n",
    "games = pd.read_csv('data/csv/game.csv')"
   ]
  },
  {
   "cell_type": "code",
   "execution_count": 6,
   "metadata": {},
   "outputs": [],
   "source": [
    "# games = games[np.abs(games['home_goals']-games['away_goals']) >= 4]\n",
    "# plays = plays[plays['game_id'].isin(games['game_id'].unique())]"
   ]
  },
  {
   "cell_type": "code",
   "execution_count": 4,
   "metadata": {},
   "outputs": [],
   "source": [
    "events = ['Shot', 'Missed Shot']"
   ]
  },
  {
   "cell_type": "code",
   "execution_count": 8,
   "metadata": {},
   "outputs": [],
   "source": [
    "y_binary = pp.load_data(plays, games, include=['danger', 'zones'], return_arrays=True, binary_y=True, suffix='_with_danger_and_zones')[1]"
   ]
  },
  {
   "cell_type": "code",
   "execution_count": 9,
   "metadata": {},
   "outputs": [
    {
     "name": "stdout",
     "output_type": "stream",
     "text": [
      "(11244, 366, 16)\n",
      "(11244, 3)\n",
      "(11244, 2)\n"
     ]
    }
   ],
   "source": [
    "print(X.shape)\n",
    "print(y_true.shape)\n",
    "print(y_binary.shape)"
   ]
  },
  {
   "cell_type": "code",
   "execution_count": 13,
   "metadata": {},
   "outputs": [],
   "source": [
    "X_train, X_test, y_train, y_test, y_true_train, y_true_test = train_test_split(X, y_binary, y_true, test_size=0.25)"
   ]
  },
  {
   "cell_type": "code",
   "execution_count": 8,
   "metadata": {},
   "outputs": [],
   "source": [
    "# data = {'Goals': tuple(X[:,:,-1]), 'Result': y[:,0]}\n",
    "# df = pd.DataFrame(data, columns=['Goals', 'Result'])\n",
    "# pd.crosstab(df['Goals'].astype(str), df['Result'])"
   ]
  },
  {
   "cell_type": "code",
   "execution_count": 14,
   "metadata": {},
   "outputs": [
    {
     "name": "stdout",
     "output_type": "stream",
     "text": [
      "False\n"
     ]
    }
   ],
   "source": [
    "print(np.isnan(X).any())"
   ]
  },
  {
   "cell_type": "code",
   "execution_count": 15,
   "metadata": {},
   "outputs": [
    {
     "name": "stdout",
     "output_type": "stream",
     "text": [
      "(366, 16)\n"
     ]
    }
   ],
   "source": [
    "data_shape = tuple(X.shape[1:])\n",
    "print(data_shape)"
   ]
  },
  {
   "cell_type": "code",
   "execution_count": 26,
   "metadata": {},
   "outputs": [],
   "source": [
    "def confusion_matrix(y_test, y_pred, classes=['home win', 'OT/SO', 'away win'], normalize=True, cmap=plt.cm.coolwarm, title=None):\n",
    "    con_mat = tf.math.confusion_matrix(y_test.argmax(axis=1), y_pred.argmax(axis=1)).numpy()\n",
    "    con_mat_norm = np.around(con_mat.astype('float') / con_mat.sum(axis=1)[:, np.newaxis], decimals=2)\n",
    "    con_mat_df = pd.DataFrame(con_mat_norm, index=classes, columns=classes)\n",
    "    \n",
    "    ax = sns.heatmap(con_mat_df, annot=True, square=True, cmap=cmap)\n",
    "    bottom, top = ax.get_ylim()\n",
    "    ax.set_ylim(bottom + 0.5, top - 0.5)\n",
    "    plt.xlabel('Predicted label')\n",
    "    plt.ylabel('True label')\n",
    "    return ax"
   ]
  },
  {
   "cell_type": "code",
   "execution_count": 16,
   "metadata": {},
   "outputs": [
    {
     "name": "stdout",
     "output_type": "stream",
     "text": [
      "[4606 3827]\n",
      "[1531 1280]\n"
     ]
    }
   ],
   "source": [
    "print(np.sum(y_train, axis=0))\n",
    "print(np.sum(y_test, axis=0))"
   ]
  },
  {
   "cell_type": "code",
   "execution_count": 20,
   "metadata": {},
   "outputs": [],
   "source": [
    "model_mlp = tf.keras.models.Sequential([\n",
    "    tf.keras.layers.TimeDistributed(tf.keras.layers.Dense(128, activation='relu', input_shape=data_shape)),\n",
    "    tf.keras.layers.TimeDistributed(tf.keras.layers.Dense(64, activation='relu')),\n",
    "    tf.keras.layers.TimeDistributed(tf.keras.layers.Dense(32, activation='relu')),\n",
    "    # tf.keras.layers.Dense(16, activation='relu'),\n",
    "    # tf.keras.layers.Dense(8, activation='relu'),\n",
    "    # tf.keras.layers.AveragePooling1D(16),\n",
    "    # tf.keras.layers.Conv1D(64, 8, activation='relu'),\n",
    "    # tf.keras.layers.Conv1D(32, 8, activation='relu'),\n",
    "    tf.keras.layers.Flatten(),\n",
    "    tf.keras.layers.Dropout(0.5),\n",
    "    tf.keras.layers.Dense(y_train.shape[1], activation='softmax')\n",
    "])"
   ]
  },
  {
   "cell_type": "code",
   "execution_count": 21,
   "metadata": {},
   "outputs": [],
   "source": [
    "# optimizer = tf.keras.optimizers.RMSprop(lr=0.001)\n",
    "\n",
    "model_mlp.compile(optimizer='RMSprop',\n",
    "              loss='categorical_crossentropy',\n",
    "              metrics=['accuracy'])"
   ]
  },
  {
   "cell_type": "code",
   "execution_count": 22,
   "metadata": {},
   "outputs": [
    {
     "name": "stdout",
     "output_type": "stream",
     "text": [
      "Train on 6324 samples, validate on 2109 samples\n",
      "Epoch 1/10\n",
      "6324/6324 [==============================] - 12s 2ms/sample - loss: 0.6386 - accuracy: 0.6336 - val_loss: 0.6082 - val_accuracy: 0.6780\n",
      "Epoch 2/10\n",
      "6324/6324 [==============================] - 7s 1ms/sample - loss: 0.5668 - accuracy: 0.7086 - val_loss: 0.6341 - val_accuracy: 0.6615\n",
      "Epoch 3/10\n",
      "6324/6324 [==============================] - 7s 1ms/sample - loss: 0.5345 - accuracy: 0.7348 - val_loss: 0.6404 - val_accuracy: 0.6572\n",
      "Epoch 4/10\n",
      "6324/6324 [==============================] - 8s 1ms/sample - loss: 0.5155 - accuracy: 0.7502 - val_loss: 0.6080 - val_accuracy: 0.6908\n",
      "Epoch 5/10\n",
      "6324/6324 [==============================] - 7s 1ms/sample - loss: 0.4870 - accuracy: 0.7753 - val_loss: 0.6012 - val_accuracy: 0.6918\n",
      "Epoch 6/10\n",
      "6324/6324 [==============================] - 8s 1ms/sample - loss: 0.4706 - accuracy: 0.7800 - val_loss: 0.6268 - val_accuracy: 0.6719\n",
      "Epoch 7/10\n",
      "6324/6324 [==============================] - 8s 1ms/sample - loss: 0.4453 - accuracy: 0.7911 - val_loss: 0.6200 - val_accuracy: 0.6866\n",
      "Epoch 8/10\n",
      "6324/6324 [==============================] - 8s 1ms/sample - loss: 0.4363 - accuracy: 0.7995 - val_loss: 0.6301 - val_accuracy: 0.6728\n",
      "Epoch 9/10\n",
      "6324/6324 [==============================] - 8s 1ms/sample - loss: 0.4223 - accuracy: 0.8065 - val_loss: 0.6381 - val_accuracy: 0.6709\n",
      "Epoch 10/10\n",
      "6324/6324 [==============================] - 8s 1ms/sample - loss: 0.4185 - accuracy: 0.8110 - val_loss: 0.6555 - val_accuracy: 0.6671\n"
     ]
    },
    {
     "data": {
      "text/plain": [
       "[0.6012510857901001, 0.70757735]"
      ]
     },
     "execution_count": 22,
     "metadata": {},
     "output_type": "execute_result"
    }
   ],
   "source": [
    "model_mlp.fit(X_train, y_train, epochs=10, validation_split=0.25)\n",
    "model_mlp.evaluate(X_test, y_test, verbose=0)"
   ]
  },
  {
   "cell_type": "code",
   "execution_count": 23,
   "metadata": {},
   "outputs": [],
   "source": [
    "y_pred_mlp = model_mlp.predict(X_test)"
   ]
  },
  {
   "cell_type": "code",
   "execution_count": 24,
   "metadata": {},
   "outputs": [
    {
     "name": "stdout",
     "output_type": "stream",
     "text": [
      "1351\n",
      "1460\n",
      "0\n"
     ]
    }
   ],
   "source": [
    "print(np.sum(np.equal(y_pred_mlp.argmax(axis=1), 0)))\n",
    "print(np.sum(np.equal(y_pred_mlp.argmax(axis=1), 1)))\n",
    "print(np.sum(np.equal(y_pred_mlp.argmax(axis=1), 2)))"
   ]
  },
  {
   "cell_type": "code",
   "execution_count": 27,
   "metadata": {},
   "outputs": [
    {
     "data": {
      "image/png": "[encoded data removed]",
      "text/plain": [
       "<Figure size 432x288 with 2 Axes>"
      ]
     },
     "metadata": {
      "needs_background": "light"
     },
     "output_type": "display_data"
    }
   ],
   "source": [
    "confusion_matrix(y_pred_mlp, y_test, classes=['home', 'away'])\n",
    "\n",
    "plt.show()"
   ]
  },
  {
   "cell_type": "code",
   "execution_count": 28,
   "metadata": {},
   "outputs": [
    {
     "data": {
      "text/plain": [
       "array([[0.42588872, 0.5741113 ],\n",
       "       [0.83026624, 0.1697338 ],\n",
       "       [0.8564282 , 0.1435718 ],\n",
       "       ...,\n",
       "       [0.19546854, 0.80453146],\n",
       "       [0.5897092 , 0.41029075],\n",
       "       [0.04172759, 0.95827234]], dtype=float32)"
      ]
     },
     "execution_count": 28,
     "metadata": {},
     "output_type": "execute_result"
    }
   ],
   "source": [
    "y_pred_mlp"
   ]
  },
  {
   "cell_type": "code",
   "execution_count": 36,
   "metadata": {},
   "outputs": [
    {
     "data": {
      "text/plain": [
       "464"
      ]
     },
     "execution_count": 36,
     "metadata": {},
     "output_type": "execute_result"
    }
   ],
   "source": [
    "len(y_pred_mlp[y_pred_mlp.max(axis=1) <= 0.6])"
   ]
  },
  {
   "cell_type": "code",
   "execution_count": 29,
   "metadata": {},
   "outputs": [],
   "source": [
    "y_true_pred_mlp = np.zeros((y_pred_mlp.shape[0], 3))"
   ]
  },
  {
   "cell_type": "code",
   "execution_count": null,
   "metadata": {},
   "outputs": [],
   "source": [
    "for i in range(len(y_true_pred_mlp)):\n",
    "    "
   ]
  },
  {
   "cell_type": "code",
   "execution_count": 104,
   "metadata": {},
   "outputs": [
    {
     "name": "stdout",
     "output_type": "stream",
     "text": [
      "              precision    recall  f1-score   support\n",
      "\n",
      "    home win       0.64      0.76      0.69      1225\n",
      "       OT/SO       0.30      0.13      0.19       646\n",
      "    away win       0.59      0.67      0.63       940\n",
      "\n",
      "    accuracy                           0.59      2811\n",
      "   macro avg       0.51      0.52      0.50      2811\n",
      "weighted avg       0.55      0.59      0.56      2811\n",
      "\n"
     ]
    }
   ],
   "source": [
    "print(classification_report(y_test.argmax(axis=1), y_pred_mlp.argmax(axis=1), target_names=['home win', 'OT/SO', 'away win']))"
   ]
  },
  {
   "cell_type": "code",
   "execution_count": 38,
   "metadata": {},
   "outputs": [],
   "source": [
    "model_conv1d = tf.keras.models.Sequential([\n",
    "    tf.keras.layers.Conv1D(64, 12, activation='relu', input_shape=data_shape),\n",
    "    tf.keras.layers.Conv1D(64, 8, activation='relu'),\n",
    "    tf.keras.layers.AveragePooling1D(4),\n",
    "    tf.keras.layers.Conv1D(32, 6, activation='relu'),\n",
    "    tf.keras.layers.Conv1D(32, 6, activation='relu'),\n",
    "    tf.keras.layers.GlobalAveragePooling1D(),\n",
    "    tf.keras.layers.Dropout(0.5),\n",
    "    tf.keras.layers.Dense(y_train.shape[1], activation='softmax')\n",
    "])\n",
    "model_conv1d.compile(optimizer='rmsprop',\n",
    "              loss='categorical_crossentropy',\n",
    "              metrics=['accuracy'])"
   ]
  },
  {
   "cell_type": "code",
   "execution_count": 39,
   "metadata": {},
   "outputs": [
    {
     "name": "stdout",
     "output_type": "stream",
     "text": [
      "Train on 6746 samples, validate on 1687 samples\n",
      "Epoch 1/10\n",
      "6746/6746 [==============================] - 20s 3ms/sample - loss: 0.6522 - accuracy: 0.6161 - val_loss: 0.6174 - val_accuracy: 0.6716\n",
      "Epoch 2/10\n",
      "6746/6746 [==============================] - 19s 3ms/sample - loss: 0.5577 - accuracy: 0.7281 - val_loss: 0.5533 - val_accuracy: 0.7184\n",
      "Epoch 3/10\n",
      "6746/6746 [==============================] - 19s 3ms/sample - loss: 0.5383 - accuracy: 0.7341 - val_loss: 0.5454 - val_accuracy: 0.7202\n",
      "Epoch 4/10\n",
      "6746/6746 [==============================] - 20s 3ms/sample - loss: 0.5344 - accuracy: 0.7412 - val_loss: 0.5861 - val_accuracy: 0.6935\n",
      "Epoch 5/10\n",
      "6746/6746 [==============================] - 24s 4ms/sample - loss: 0.5262 - accuracy: 0.7470 - val_loss: 0.5429 - val_accuracy: 0.7309\n",
      "Epoch 6/10\n",
      "6746/6746 [==============================] - 23s 3ms/sample - loss: 0.5207 - accuracy: 0.7529 - val_loss: 0.5366 - val_accuracy: 0.7214\n",
      "Epoch 7/10\n",
      "6746/6746 [==============================] - 21s 3ms/sample - loss: 0.5032 - accuracy: 0.7590 - val_loss: 0.5357 - val_accuracy: 0.7273\n",
      "Epoch 8/10\n",
      "6746/6746 [==============================] - 20s 3ms/sample - loss: 0.4875 - accuracy: 0.7738 - val_loss: 0.5711 - val_accuracy: 0.7244\n",
      "Epoch 9/10\n",
      "6746/6746 [==============================] - 19s 3ms/sample - loss: 0.4685 - accuracy: 0.7880 - val_loss: 0.6757 - val_accuracy: 0.6953\n",
      "Epoch 10/10\n",
      "6746/6746 [==============================] - 20s 3ms/sample - loss: 0.4563 - accuracy: 0.7954 - val_loss: 0.5808 - val_accuracy: 0.7030\n",
      "2811/1 - 2s - loss: 0.6568 - accuracy: 0.7143\n"
     ]
    },
    {
     "data": {
      "text/plain": [
       "[0.5592842087419972, 0.7143365]"
      ]
     },
     "execution_count": 39,
     "metadata": {},
     "output_type": "execute_result"
    }
   ],
   "source": [
    "model_conv1d.fit(X_train, y_train, epochs=10, validation_split=0.2)\n",
    "model_conv1d.evaluate(X_test, y_test, verbose=2)"
   ]
  },
  {
   "cell_type": "code",
   "execution_count": 40,
   "metadata": {},
   "outputs": [],
   "source": [
    "y_pred_conv1d = model_conv1d.predict(X_test)"
   ]
  },
  {
   "cell_type": "code",
   "execution_count": 41,
   "metadata": {},
   "outputs": [
    {
     "name": "stdout",
     "output_type": "stream",
     "text": [
      "2098\n",
      "713\n",
      "0\n"
     ]
    }
   ],
   "source": [
    "print(np.sum(np.equal(y_pred_conv1d.argmax(axis=1), 0)))\n",
    "print(np.sum(np.equal(y_pred_conv1d.argmax(axis=1), 1)))\n",
    "print(np.sum(np.equal(y_pred_conv1d.argmax(axis=1), 2)))"
   ]
  },
  {
   "cell_type": "code",
   "execution_count": 42,
   "metadata": {},
   "outputs": [
    {
     "name": "stdout",
     "output_type": "stream",
     "text": [
      "0.78755695\n",
      "0.68736935\n"
     ]
    },
    {
     "ename": "IndexError",
     "evalue": "index 2 is out of bounds for axis 1 with size 2",
     "output_type": "error",
     "traceback": [
      "\u001b[0;31m---------------------------------------------------------------------------\u001b[0m",
      "\u001b[0;31mIndexError\u001b[0m                                Traceback (most recent call last)",
      "\u001b[0;32m<ipython-input-42-e664f6fe79d6>\u001b[0m in \u001b[0;36m<module>\u001b[0;34m\u001b[0m\n\u001b[1;32m      1\u001b[0m \u001b[0mprint\u001b[0m\u001b[0;34m(\u001b[0m\u001b[0mnp\u001b[0m\u001b[0;34m.\u001b[0m\u001b[0mmean\u001b[0m\u001b[0;34m(\u001b[0m\u001b[0my_pred_conv1d\u001b[0m\u001b[0;34m[\u001b[0m\u001b[0my_pred_conv1d\u001b[0m\u001b[0;34m.\u001b[0m\u001b[0margmax\u001b[0m\u001b[0;34m(\u001b[0m\u001b[0maxis\u001b[0m\u001b[0;34m=\u001b[0m\u001b[0;36m1\u001b[0m\u001b[0;34m)\u001b[0m \u001b[0;34m==\u001b[0m \u001b[0;36m0\u001b[0m\u001b[0;34m]\u001b[0m\u001b[0;34m[\u001b[0m\u001b[0;34m:\u001b[0m\u001b[0;34m,\u001b[0m \u001b[0;36m0\u001b[0m\u001b[0;34m]\u001b[0m\u001b[0;34m)\u001b[0m\u001b[0;34m)\u001b[0m\u001b[0;34m\u001b[0m\u001b[0;34m\u001b[0m\u001b[0m\n\u001b[1;32m      2\u001b[0m \u001b[0mprint\u001b[0m\u001b[0;34m(\u001b[0m\u001b[0mnp\u001b[0m\u001b[0;34m.\u001b[0m\u001b[0mmean\u001b[0m\u001b[0;34m(\u001b[0m\u001b[0my_pred_conv1d\u001b[0m\u001b[0;34m[\u001b[0m\u001b[0my_pred_conv1d\u001b[0m\u001b[0;34m.\u001b[0m\u001b[0margmax\u001b[0m\u001b[0;34m(\u001b[0m\u001b[0maxis\u001b[0m\u001b[0;34m=\u001b[0m\u001b[0;36m1\u001b[0m\u001b[0;34m)\u001b[0m \u001b[0;34m==\u001b[0m \u001b[0;36m1\u001b[0m\u001b[0;34m]\u001b[0m\u001b[0;34m[\u001b[0m\u001b[0;34m:\u001b[0m\u001b[0;34m,\u001b[0m \u001b[0;36m1\u001b[0m\u001b[0;34m]\u001b[0m\u001b[0;34m)\u001b[0m\u001b[0;34m)\u001b[0m\u001b[0;34m\u001b[0m\u001b[0;34m\u001b[0m\u001b[0m\n\u001b[0;32m----> 3\u001b[0;31m \u001b[0mprint\u001b[0m\u001b[0;34m(\u001b[0m\u001b[0mnp\u001b[0m\u001b[0;34m.\u001b[0m\u001b[0mmean\u001b[0m\u001b[0;34m(\u001b[0m\u001b[0my_pred_conv1d\u001b[0m\u001b[0;34m[\u001b[0m\u001b[0my_pred_conv1d\u001b[0m\u001b[0;34m.\u001b[0m\u001b[0margmax\u001b[0m\u001b[0;34m(\u001b[0m\u001b[0maxis\u001b[0m\u001b[0;34m=\u001b[0m\u001b[0;36m1\u001b[0m\u001b[0;34m)\u001b[0m \u001b[0;34m==\u001b[0m \u001b[0;36m2\u001b[0m\u001b[0;34m]\u001b[0m\u001b[0;34m[\u001b[0m\u001b[0;34m:\u001b[0m\u001b[0;34m,\u001b[0m \u001b[0;36m2\u001b[0m\u001b[0;34m]\u001b[0m\u001b[0;34m)\u001b[0m\u001b[0;34m)\u001b[0m\u001b[0;34m\u001b[0m\u001b[0;34m\u001b[0m\u001b[0m\n\u001b[0m",
      "\u001b[0;31mIndexError\u001b[0m: index 2 is out of bounds for axis 1 with size 2"
     ]
    }
   ],
   "source": [
    "print(np.mean(y_pred_conv1d[y_pred_conv1d.argmax(axis=1) == 0][:, 0]))\n",
    "print(np.mean(y_pred_conv1d[y_pred_conv1d.argmax(axis=1) == 1][:, 1]))\n",
    "print(np.mean(y_pred_conv1d[y_pred_conv1d.argmax(axis=1) == 2][:, 2]))"
   ]
  },
  {
   "cell_type": "code",
   "execution_count": 43,
   "metadata": {},
   "outputs": [
    {
     "data": {
      "image/png": "[encoded data removed]",
      "text/plain": [
       "<Figure size 432x288 with 2 Axes>"
      ]
     },
     "metadata": {
      "needs_background": "light"
     },
     "output_type": "display_data"
    }
   ],
   "source": [
    "confusion_matrix(y_test, y_pred_conv1d, classes=['home', 'away'])\n",
    "\n",
    "plt.show()"
   ]
  },
  {
   "cell_type": "code",
   "execution_count": 101,
   "metadata": {},
   "outputs": [
    {
     "name": "stdout",
     "output_type": "stream",
     "text": [
      "              precision    recall  f1-score   support\n",
      "\n",
      "    home win       0.65      0.86      0.74      1225\n",
      "       OT/SO       0.55      0.06      0.11       646\n",
      "    away win       0.64      0.75      0.69       940\n",
      "\n",
      "    accuracy                           0.64      2811\n",
      "   macro avg       0.61      0.56      0.51      2811\n",
      "weighted avg       0.62      0.64      0.58      2811\n",
      "\n"
     ]
    }
   ],
   "source": [
    "print(classification_report(y_test.argmax(axis=1), y_pred_conv1d.argmax(axis=1), target_names=['home win', 'OT/SO', 'away win']))"
   ]
  },
  {
   "cell_type": "code",
   "execution_count": 23,
   "metadata": {},
   "outputs": [],
   "source": [
    "model_lstm = tf.keras.models.Sequential([\n",
    "    tf.keras.layers.LSTM(32, return_sequences=True, input_shape=data_shape),\n",
    "    # tf.keras.layers.LSTM(32, return_sequences=True),\n",
    "    # tf.keras.layers.LSTM(128, return_sequences=True),\n",
    "    tf.keras.layers.LSTM(16),\n",
    "    tf.keras.layers.Dense(y.shape[1], activation='softmax'),\n",
    "])\n",
    "model_lstm.compile(optimizer='rmsprop',\n",
    "              loss='categorical_crossentropy',\n",
    "              metrics=['accuracy'])"
   ]
  },
  {
   "cell_type": "code",
   "execution_count": 24,
   "metadata": {},
   "outputs": [
    {
     "name": "stdout",
     "output_type": "stream",
     "text": [
      "Train on 6324 samples, validate on 2109 samples\n",
      "Epoch 1/10\n",
      "6324/6324 [==============================] - 53s 8ms/sample - loss: 1.0732 - accuracy: 0.4303 - val_loss: 1.0682 - val_accuracy: 0.4267\n",
      "Epoch 2/10\n",
      "6324/6324 [==============================] - 52s 8ms/sample - loss: 1.0715 - accuracy: 0.4307 - val_loss: 1.0680 - val_accuracy: 0.4267\n",
      "Epoch 3/10\n",
      "6324/6324 [==============================] - 52s 8ms/sample - loss: 1.0713 - accuracy: 0.4307 - val_loss: 1.0699 - val_accuracy: 0.4267\n",
      "Epoch 4/10\n",
      "6324/6324 [==============================] - 52s 8ms/sample - loss: 1.0715 - accuracy: 0.4307 - val_loss: 1.0682 - val_accuracy: 0.4267\n",
      "Epoch 5/10\n",
      "6324/6324 [==============================] - 53s 8ms/sample - loss: 1.0714 - accuracy: 0.4307 - val_loss: 1.0684 - val_accuracy: 0.4267\n",
      "Epoch 6/10\n",
      "6324/6324 [==============================] - 52s 8ms/sample - loss: 1.0714 - accuracy: 0.4307 - val_loss: 1.0683 - val_accuracy: 0.4267\n",
      "Epoch 7/10\n",
      "6324/6324 [==============================] - 53s 8ms/sample - loss: 1.0709 - accuracy: 0.4309 - val_loss: 1.0690 - val_accuracy: 0.4267\n",
      "Epoch 8/10\n",
      "6324/6324 [==============================] - 58s 9ms/sample - loss: 1.0711 - accuracy: 0.4309 - val_loss: 1.0692 - val_accuracy: 0.4267\n",
      "Epoch 9/10\n",
      "6324/6324 [==============================] - 57s 9ms/sample - loss: 1.0710 - accuracy: 0.4309 - val_loss: 1.0691 - val_accuracy: 0.4267\n",
      "Epoch 10/10\n",
      "6324/6324 [==============================] - 57s 9ms/sample - loss: 1.0709 - accuracy: 0.4309 - val_loss: 1.0682 - val_accuracy: 0.4267\n"
     ]
    },
    {
     "data": {
      "text/plain": [
       "<tensorflow.python.keras.callbacks.History at 0x7f992e96fb70>"
      ]
     },
     "execution_count": 24,
     "metadata": {},
     "output_type": "execute_result"
    }
   ],
   "source": [
    "model_lstm.fit(X_train, y_train, epochs=10, validation_split=0.25)"
   ]
  },
  {
   "cell_type": "code",
   "execution_count": null,
   "metadata": {},
   "outputs": [],
   "source": [
    "model_lstm.evaluate(X_test, y_test, verbose=2)"
   ]
  },
  {
   "cell_type": "code",
   "execution_count": null,
   "metadata": {},
   "outputs": [],
   "source": [
    "y_pred_lstm = model_lstm.predict(X_test)\n",
    "\n",
    "print(np.sum(np.equal(y_pred_lstm.argmax(axis=1), 0)))\n",
    "print(np.sum(np.equal(y_pred_lstm.argmax(axis=1), 1)))\n",
    "print(np.sum(np.equal(y_pred_lstm.argmax(axis=1), 2)))"
   ]
  },
  {
   "cell_type": "code",
   "execution_count": 60,
   "metadata": {},
   "outputs": [],
   "source": [
    "model_rnn = tf.keras.models.Sequential([\n",
    "    tf.keras.layers.SimpleRNN(64, return_sequences=True, input_shape=data_shape),\n",
    "    tf.keras.layers.SimpleRNN(64),\n",
    "    # tf.keras.layers.LSTM(64, return_sequences=True),\n",
    "    # tf.keras.layers.SimpleRNN(32),\n",
    "    tf.keras.layers.Dense(3, activation='sigmoid'),\n",
    "])\n",
    "model_rnn.compile(optimizer='rmsprop',\n",
    "              loss='categorical_crossentropy',\n",
    "              metrics=['accuracy'])"
   ]
  },
  {
   "cell_type": "code",
   "execution_count": 61,
   "metadata": {},
   "outputs": [
    {
     "name": "stdout",
     "output_type": "stream",
     "text": [
      "Train on 6324 samples, validate on 2109 samples\n",
      "Epoch 1/10\n",
      "6324/6324 [==============================] - 49s 8ms/sample - loss: 1.0765 - accuracy: 0.4252 - val_loss: 1.0765 - val_accuracy: 0.4301\n",
      "Epoch 2/10\n",
      "6324/6324 [==============================] - 46s 7ms/sample - loss: 1.0740 - accuracy: 0.4266 - val_loss: 1.0732 - val_accuracy: 0.4301\n",
      "Epoch 3/10\n",
      "6324/6324 [==============================] - 46s 7ms/sample - loss: 1.0739 - accuracy: 0.4266 - val_loss: 1.0728 - val_accuracy: 0.4301\n",
      "Epoch 4/10\n",
      "6324/6324 [==============================] - 46s 7ms/sample - loss: 1.0726 - accuracy: 0.4266 - val_loss: 1.0711 - val_accuracy: 0.4301\n",
      "Epoch 5/10\n",
      "6324/6324 [==============================] - 55s 9ms/sample - loss: 1.0737 - accuracy: 0.4269 - val_loss: 1.0714 - val_accuracy: 0.4301\n",
      "Epoch 6/10\n",
      "6324/6324 [==============================] - 70s 11ms/sample - loss: 1.0718 - accuracy: 0.4266 - val_loss: 1.0713 - val_accuracy: 0.4301\n",
      "Epoch 7/10\n",
      "6324/6324 [==============================] - 67s 11ms/sample - loss: 1.0713 - accuracy: 0.4268 - val_loss: 1.0695 - val_accuracy: 0.4301\n",
      "Epoch 8/10\n",
      "6324/6324 [==============================] - 67s 11ms/sample - loss: 1.0719 - accuracy: 0.4266 - val_loss: 1.0705 - val_accuracy: 0.4301\n",
      "Epoch 9/10\n",
      "6324/6324 [==============================] - 64s 10ms/sample - loss: 1.0717 - accuracy: 0.4266 - val_loss: 1.0689 - val_accuracy: 0.4301\n",
      "Epoch 10/10\n",
      "6324/6324 [==============================] - 63s 10ms/sample - loss: 1.0715 - accuracy: 0.4266 - val_loss: 1.0687 - val_accuracy: 0.4301\n"
     ]
    },
    {
     "data": {
      "text/plain": [
       "[1.0759758330120899, 0.42013517]"
      ]
     },
     "execution_count": 61,
     "metadata": {},
     "output_type": "execute_result"
    }
   ],
   "source": [
    "model_rnn.fit(X_train, y_train, epochs=10, validation_split=0.25)\n",
    "model_rnn.evaluate(X_test, y_test, verbose=0)"
   ]
  },
  {
   "cell_type": "code",
   "execution_count": 28,
   "metadata": {},
   "outputs": [
    {
     "name": "stdout",
     "output_type": "stream",
     "text": [
      "2811\n",
      "0\n",
      "0\n"
     ]
    }
   ],
   "source": [
    "y_pred_rnn = model_rnn.predict(X_test)\n",
    "\n",
    "print(np.sum(np.equal(y_pred_rnn.argmax(axis=1), 0)))\n",
    "print(np.sum(np.equal(y_pred_rnn.argmax(axis=1), 1)))\n",
    "print(np.sum(np.equal(y_pred_rnn.argmax(axis=1), 2)))"
   ]
  },
  {
   "cell_type": "code",
   "execution_count": 29,
   "metadata": {},
   "outputs": [],
   "source": [
    "model_mixed = tf.keras.models.Sequential([\n",
    "    tf.keras.layers.TimeDistributed(tf.keras.layers.Dense(128, activation='relu', input_shape=data_shape)),\n",
    "    tf.keras.layers.TimeDistributed(tf.keras.layers.Dense(64, activation='relu')),\n",
    "    tf.keras.layers.LSTM(128, return_sequences=True),\n",
    "    tf.keras.layers.LSTM(64, return_sequences=True),\n",
    "    tf.keras.layers.LSTM(64, return_sequences=True),\n",
    "    # tf.keras.layers.SimpleRNN(64),\n",
    "    tf.keras.layers.Dropout(0.5),\n",
    "    tf.keras.layers.Flatten(),\n",
    "    tf.keras.layers.Dense(3, activation='softmax'),\n",
    "])\n",
    "model_mixed.compile(optimizer='rmsprop',\n",
    "              loss='categorical_crossentropy',\n",
    "              metrics=['accuracy'])"
   ]
  },
  {
   "cell_type": "code",
   "execution_count": 30,
   "metadata": {},
   "outputs": [
    {
     "name": "stdout",
     "output_type": "stream",
     "text": [
      "Train on 6324 samples, validate on 2109 samples\n",
      "Epoch 1/10\n",
      "6324/6324 [==============================] - 76s 12ms/sample - loss: 1.0352 - accuracy: 0.4888 - val_loss: 0.9977 - val_accuracy: 0.5349\n",
      "Epoch 2/10\n",
      "6324/6324 [==============================] - 68s 11ms/sample - loss: 0.9754 - accuracy: 0.5517 - val_loss: 0.9755 - val_accuracy: 0.5462\n",
      "Epoch 3/10\n",
      "6324/6324 [==============================] - 68s 11ms/sample - loss: 0.9385 - accuracy: 0.5732 - val_loss: 0.9426 - val_accuracy: 0.5614\n",
      "Epoch 4/10\n",
      "6324/6324 [==============================] - 68s 11ms/sample - loss: 0.9272 - accuracy: 0.5838 - val_loss: 0.9433 - val_accuracy: 0.5837\n",
      "Epoch 5/10\n",
      "6324/6324 [==============================] - 67s 11ms/sample - loss: 0.9220 - accuracy: 0.5881 - val_loss: 0.9234 - val_accuracy: 0.5861\n",
      "Epoch 6/10\n",
      "6324/6324 [==============================] - 69s 11ms/sample - loss: 0.9182 - accuracy: 0.5859 - val_loss: 0.9424 - val_accuracy: 0.5737\n",
      "Epoch 7/10\n",
      "6324/6324 [==============================] - 68s 11ms/sample - loss: 0.9164 - accuracy: 0.5930 - val_loss: 0.9287 - val_accuracy: 0.5846\n",
      "Epoch 8/10\n",
      "6324/6324 [==============================] - 68s 11ms/sample - loss: 0.9124 - accuracy: 0.5904 - val_loss: 0.9390 - val_accuracy: 0.5861\n",
      "Epoch 9/10\n",
      "6324/6324 [==============================] - 68s 11ms/sample - loss: 0.9096 - accuracy: 0.5878 - val_loss: 0.9257 - val_accuracy: 0.5794\n",
      "Epoch 10/10\n",
      "6324/6324 [==============================] - 68s 11ms/sample - loss: 0.9064 - accuracy: 0.5941 - val_loss: 0.9349 - val_accuracy: 0.5851\n"
     ]
    },
    {
     "data": {
      "text/plain": [
       "[0.9313820695927965, 0.5791533]"
      ]
     },
     "execution_count": 30,
     "metadata": {},
     "output_type": "execute_result"
    }
   ],
   "source": [
    "model_mixed.fit(X_train, y_train, epochs=10, validation_split=0.25)\n",
    "model_mixed.evaluate(X_test, y_test, verbose=0)"
   ]
  },
  {
   "cell_type": "code",
   "execution_count": 31,
   "metadata": {},
   "outputs": [
    {
     "name": "stdout",
     "output_type": "stream",
     "text": [
      "1656\n",
      "1\n",
      "1154\n"
     ]
    }
   ],
   "source": [
    "y_pred_mixed = model_mixed.predict(X_test)\n",
    "\n",
    "print(np.sum(np.equal(y_pred_mixed.argmax(axis=1), 0)))\n",
    "print(np.sum(np.equal(y_pred_mixed.argmax(axis=1), 1)))\n",
    "print(np.sum(np.equal(y_pred_mixed.argmax(axis=1), 2)))"
   ]
  },
  {
   "cell_type": "code",
   "execution_count": null,
   "metadata": {},
   "outputs": [],
   "source": []
  }
 ],
 "metadata": {
  "kernelspec": {
   "display_name": "Python 3",
   "language": "python",
   "name": "python3"
  },
  "language_info": {
   "codemirror_mode": {
    "name": "ipython",
    "version": 3
   },
   "file_extension": ".py",
   "mimetype": "text/x-python",
   "name": "python",
   "nbconvert_exporter": "python",
   "pygments_lexer": "ipython3",
   "version": "3.7.3"
  }
 },
 "nbformat": 4,
 "nbformat_minor": 4
}
