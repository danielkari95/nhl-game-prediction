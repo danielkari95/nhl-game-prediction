{
 "cells": [
  {
   "cell_type": "code",
   "execution_count": 1,
   "metadata": {},
   "outputs": [],
   "source": [
    "import numpy as np\n",
    "import pandas as pd\n",
    "import preprocessing as pp\n",
    "import tensorflow as tf\n",
    "import preprocessing as pp\n",
    "import matplotlib.pyplot as plt\n",
    "import confusion_matrix as cmat\n",
    "\n",
    "from sklearn.model_selection import train_test_split\n",
    "from sklearn.metrics import classification_report"
   ]
  },
  {
   "cell_type": "code",
   "execution_count": 2,
   "metadata": {},
   "outputs": [],
   "source": [
    "np.random.seed(1313)\n",
    "tf.random.set_seed(1313)"
   ]
  },
  {
   "cell_type": "code",
   "execution_count": 4,
   "metadata": {},
   "outputs": [],
   "source": [
    "X, y, X_columns, y_columns = pp.load_data(suffix='_goal_difference_full_features')"
   ]
  },
  {
   "cell_type": "code",
   "execution_count": 2,
   "metadata": {},
   "outputs": [],
   "source": [
    "X, y, X_columns, y_columns = pp.preprocess(include=['danger', 'zones'], return_arrays=True, save_as_file=True, y_goal_diff=True, \n",
    "                                            suffix='_goal_difference_full_features')"
   ]
  },
  {
   "cell_type": "code",
   "execution_count": 5,
   "metadata": {},
   "outputs": [],
   "source": [
    "classes = list(map(str, list(y_columns.keys())))"
   ]
  },
  {
   "cell_type": "code",
   "execution_count": 6,
   "metadata": {},
   "outputs": [
    {
     "name": "stdout",
     "output_type": "stream",
     "text": [
      "(11244, 366, 17)\n",
      "(11244, 7)\n",
      "['game_id', 'event_blocked_shot', 'event_faceoff', 'event_giveaway', 'event_hit', 'event_missed_shot', 'event_penalty', 'event_shot', 'event_takeaway', 'danger_a_high', 'danger_b_med', 'danger_c_low', 'danger_d_not_a_shot', 'event_dummy', 'home_team_for', 'offensive_zone_home', 'offensive_zone_away']\n",
      "['-3', '-2', '-1', '0', '1', '2', '3']\n"
     ]
    }
   ],
   "source": [
    "print(X.shape)\n",
    "print(y.shape)\n",
    "\n",
    "print(list(X_columns.keys()))\n",
    "print(list(y_columns.keys()))"
   ]
  },
  {
   "cell_type": "code",
   "execution_count": 7,
   "metadata": {},
   "outputs": [],
   "source": [
    "X_train, X_test, y_train, y_test = train_test_split(X[:,:,1:], y, test_size=0.25)"
   ]
  },
  {
   "cell_type": "code",
   "execution_count": 8,
   "metadata": {},
   "outputs": [],
   "source": [
    "# data = {'Goals': tuple(X[:,:,-1]), 'Result': y[:,0]}\n",
    "# df = pd.DataFrame(data, columns=['Goals', 'Result'])\n",
    "# pd.crosstab(df['Goals'].astype(str), df['Result'])"
   ]
  },
  {
   "cell_type": "code",
   "execution_count": 9,
   "metadata": {},
   "outputs": [
    {
     "name": "stdout",
     "output_type": "stream",
     "text": [
      "False\n"
     ]
    }
   ],
   "source": [
    "print(np.isnan(X).any())"
   ]
  },
  {
   "cell_type": "code",
   "execution_count": 10,
   "metadata": {},
   "outputs": [
    {
     "name": "stdout",
     "output_type": "stream",
     "text": [
      "(366, 16)\n"
     ]
    }
   ],
   "source": [
    "data_shape = tuple(X_train.shape[1:])\n",
    "print(data_shape)"
   ]
  },
  {
   "cell_type": "code",
   "execution_count": 11,
   "metadata": {},
   "outputs": [
    {
     "name": "stdout",
     "output_type": "stream",
     "text": [
      "[1128  825  874 1982 1020  951 1653]\n",
      "[376 270 329 674 328 323 511]\n"
     ]
    }
   ],
   "source": [
    "print(np.sum(y_train, axis=0))\n",
    "print(np.sum(y_test, axis=0))"
   ]
  },
  {
   "cell_type": "code",
   "execution_count": 12,
   "metadata": {},
   "outputs": [],
   "source": [
    "model_mlp = tf.keras.models.Sequential([\n",
    "    tf.keras.layers.TimeDistributed(tf.keras.layers.Dense(64, activation='relu', input_shape=data_shape)),\n",
    "    tf.keras.layers.TimeDistributed(tf.keras.layers.Dense(64, activation='relu')),\n",
    "    tf.keras.layers.TimeDistributed(tf.keras.layers.Dense(32, activation='relu')),\n",
    "    # tf.keras.layers.Dense(16, activation='relu'),\n",
    "    # tf.keras.layers.Dense(8, activation='relu'),\n",
    "    # tf.keras.layers.AveragePooling1D(16),\n",
    "    # tf.keras.layers.Conv1D(64, 8, activation='relu'),\n",
    "    # tf.keras.layers.Conv1D(32, 8, activation='relu'),\n",
    "    tf.keras.layers.Flatten(),\n",
    "    tf.keras.layers.Dropout(0.5),\n",
    "    tf.keras.layers.Dense(y_train.shape[1], activation='softmax')\n",
    "])"
   ]
  },
  {
   "cell_type": "code",
   "execution_count": 13,
   "metadata": {},
   "outputs": [],
   "source": [
    "# optimizer = tf.keras.optimizers.RMSprop(lr=0.001)\n",
    "\n",
    "model_mlp.compile(optimizer='RMSprop',\n",
    "              loss='categorical_crossentropy',\n",
    "              metrics=['accuracy'])"
   ]
  },
  {
   "cell_type": "code",
   "execution_count": null,
   "metadata": {},
   "outputs": [],
   "source": [
    "model_mlp.fit(X_train, y_train, epochs=10, validation_split=0.25)\n",
    "model_mlp.evaluate(X_test, y_test, verbose=0)"
   ]
  },
  {
   "cell_type": "code",
   "execution_count": 16,
   "metadata": {},
   "outputs": [],
   "source": [
    "y_pred_mlp = model_mlp.predict(X_test)"
   ]
  },
  {
   "cell_type": "code",
   "execution_count": 13,
   "metadata": {},
   "outputs": [
    {
     "name": "stdout",
     "output_type": "stream",
     "text": [
      "Predicted goal difference -3:\t 314\n",
      "Predicted goal difference -2:\t 154\n",
      "Predicted goal difference -1:\t 280\n",
      "Predicted goal difference 0:\t 1033\n",
      "Predicted goal difference 1:\t 161\n",
      "Predicted goal difference 2:\t 195\n",
      "Predicted goal difference 3:\t 674\n"
     ]
    }
   ],
   "source": [
    "for i in range(y_pred_mlp.shape[1]):\n",
    "    print(\"Predicted goal difference \" + str(list(y_columns.keys())[i]) + \":\\t\", np.sum(y_pred_mlp.argmax(axis=1) == i))"
   ]
  },
  {
   "cell_type": "code",
   "execution_count": 17,
   "metadata": {},
   "outputs": [
    {
     "data": {
      "image/png": "[encoded data removed]",
      "text/plain": [
       "<Figure size 432x288 with 2 Axes>"
      ]
     },
     "metadata": {
      "needs_background": "light"
     },
     "output_type": "display_data"
    }
   ],
   "source": [
    "cmat.plot(y_test, y_pred_mlp, classes=list(y_columns.keys()), normalize=True)\n",
    "\n",
    "plt.show()"
   ]
  },
  {
   "cell_type": "code",
   "execution_count": 49,
   "metadata": {},
   "outputs": [
    {
     "name": "stdout",
     "output_type": "stream",
     "text": [
      "              precision    recall  f1-score   support\n",
      "\n",
      "          -3       0.21      0.26      0.23       376\n",
      "          -2       0.18      0.15      0.16       270\n",
      "          -1       0.22      0.26      0.24       329\n",
      "           0       0.28      0.33      0.31       674\n",
      "           1       0.17      0.14      0.16       328\n",
      "           2       0.20      0.20      0.20       323\n",
      "           3       0.29      0.20      0.24       511\n",
      "\n",
      "    accuracy                           0.23      2811\n",
      "   macro avg       0.22      0.22      0.22      2811\n",
      "weighted avg       0.23      0.23      0.23      2811\n",
      "\n"
     ]
    }
   ],
   "source": [
    "print(classification_report(y_test.argmax(axis=1), y_pred_mlp.argmax(axis=1), target_names = classes))"
   ]
  },
  {
   "cell_type": "code",
   "execution_count": 19,
   "metadata": {},
   "outputs": [],
   "source": [
    "model_conv1d = tf.keras.models.Sequential([\n",
    "    tf.keras.layers.Conv1D(64, 12, activation='relu', input_shape=data_shape),\n",
    "    tf.keras.layers.Conv1D(64, 8, activation='relu'),\n",
    "    tf.keras.layers.AveragePooling1D(3),\n",
    "    tf.keras.layers.Conv1D(32, 6, activation='relu'),\n",
    "    tf.keras.layers.Conv1D(32, 6, activation='relu'),\n",
    "    tf.keras.layers.GlobalAveragePooling1D(),\n",
    "    tf.keras.layers.Dropout(0.5),\n",
    "    tf.keras.layers.Dense(y_train.shape[1], activation='softmax')\n",
    "])\n",
    "model_conv1d.compile(optimizer='rmsprop',\n",
    "              loss='categorical_crossentropy',\n",
    "              metrics=['accuracy'])"
   ]
  },
  {
   "cell_type": "code",
   "execution_count": 20,
   "metadata": {},
   "outputs": [
    {
     "name": "stdout",
     "output_type": "stream",
     "text": [
      "Train on 6746 samples, validate on 1687 samples\n",
      "Epoch 1/10\n",
      "6746/6746 [==============================] - 21s 3ms/sample - loss: 1.9069 - accuracy: 0.2244 - val_loss: 1.8729 - val_accuracy: 0.2620\n",
      "Epoch 2/10\n",
      "6746/6746 [==============================] - 21s 3ms/sample - loss: 1.8279 - accuracy: 0.2441 - val_loss: 1.6740 - val_accuracy: 0.2946\n",
      "Epoch 3/10\n",
      "6746/6746 [==============================] - 20s 3ms/sample - loss: 1.7381 - accuracy: 0.2671 - val_loss: 1.6560 - val_accuracy: 0.2851\n",
      "Epoch 4/10\n",
      "6746/6746 [==============================] - 21s 3ms/sample - loss: 1.7110 - accuracy: 0.2809 - val_loss: 1.6177 - val_accuracy: 0.3094\n",
      "Epoch 5/10\n",
      "6746/6746 [==============================] - 20s 3ms/sample - loss: 1.6729 - accuracy: 0.2942 - val_loss: 1.6239 - val_accuracy: 0.3059\n",
      "Epoch 6/10\n",
      "6746/6746 [==============================] - 21s 3ms/sample - loss: 1.6574 - accuracy: 0.2975 - val_loss: 1.5833 - val_accuracy: 0.3337\n",
      "Epoch 7/10\n",
      "6746/6746 [==============================] - 20s 3ms/sample - loss: 1.6350 - accuracy: 0.3055 - val_loss: 1.5671 - val_accuracy: 0.3242\n",
      "Epoch 8/10\n",
      "6746/6746 [==============================] - 21s 3ms/sample - loss: 1.6102 - accuracy: 0.3171 - val_loss: 1.6122 - val_accuracy: 0.3094\n",
      "Epoch 9/10\n",
      "6746/6746 [==============================] - 20s 3ms/sample - loss: 1.5859 - accuracy: 0.3300 - val_loss: 1.6410 - val_accuracy: 0.3154\n",
      "Epoch 10/10\n",
      "6746/6746 [==============================] - 20s 3ms/sample - loss: 1.5531 - accuracy: 0.3378 - val_loss: 1.5620 - val_accuracy: 0.3491\n",
      "2811/1 - 2s - loss: 1.7532 - accuracy: 0.3316\n"
     ]
    },
    {
     "data": {
      "text/plain": [
       "[1.58164199345988, 0.33155462]"
      ]
     },
     "execution_count": 20,
     "metadata": {},
     "output_type": "execute_result"
    }
   ],
   "source": [
    "model_conv1d.fit(X_train, y_train, epochs=10, validation_split=0.2)\n",
    "model_conv1d.evaluate(X_test, y_test, verbose=2)"
   ]
  },
  {
   "cell_type": "code",
   "execution_count": 21,
   "metadata": {},
   "outputs": [],
   "source": [
    "y_pred_conv1d = model_conv1d.predict(X_test)"
   ]
  },
  {
   "cell_type": "code",
   "execution_count": 22,
   "metadata": {},
   "outputs": [
    {
     "name": "stdout",
     "output_type": "stream",
     "text": [
      "Predicted goal difference -3:\t 19\n",
      "Predicted goal difference -2:\t 38\n",
      "Predicted goal difference -1:\t 522\n",
      "Predicted goal difference 0:\t 985\n",
      "Predicted goal difference 1:\t 498\n",
      "Predicted goal difference 2:\t 0\n",
      "Predicted goal difference 3:\t 749\n"
     ]
    }
   ],
   "source": [
    "for i in range(y_pred_conv1d.shape[1]):\n",
    "    print(\"Predicted goal difference \" + str(list(y_columns.keys())[i]) + \":\\t\", np.sum(y_pred_conv1d.argmax(axis=1) == i))"
   ]
  },
  {
   "cell_type": "code",
   "execution_count": 23,
   "metadata": {},
   "outputs": [
    {
     "data": {
      "image/png": "[encoded data removed]",
      "text/plain": [
       "<Figure size 432x288 with 2 Axes>"
      ]
     },
     "metadata": {
      "needs_background": "light"
     },
     "output_type": "display_data"
    }
   ],
   "source": [
    "cmat.plot(y_test, y_pred_conv1d, classes=list(y_columns.keys()), normalize=True)\n",
    "\n",
    "plt.show()"
   ]
  },
  {
   "cell_type": "code",
   "execution_count": 75,
   "metadata": {},
   "outputs": [
    {
     "name": "stdout",
     "output_type": "stream",
     "text": [
      "              precision    recall  f1-score   support\n",
      "\n",
      "          -3       0.11      0.01      0.01       376\n",
      "          -2       0.18      0.03      0.05       270\n",
      "          -1       0.34      0.53      0.41       329\n",
      "           0       0.34      0.49      0.40       674\n",
      "           1       0.33      0.50      0.40       328\n",
      "           2       0.00      0.00      0.00       323\n",
      "           3       0.33      0.49      0.40       511\n",
      "\n",
      "    accuracy                           0.33      2811\n",
      "   macro avg       0.23      0.29      0.24      2811\n",
      "weighted avg       0.25      0.33      0.27      2811\n",
      "\n"
     ]
    }
   ],
   "source": [
    "print(classification_report(y_test.argmax(axis=1), y_pred_conv1d.argmax(axis=1), target_names=classes))"
   ]
  },
  {
   "cell_type": "code",
   "execution_count": 81,
   "metadata": {},
   "outputs": [
    {
     "data": {
      "image/png": "[encoded data removed]",
      "text/plain": [
       "<Figure size 432x288 with 1 Axes>"
      ]
     },
     "metadata": {
      "needs_background": "light"
     },
     "output_type": "display_data"
    }
   ],
   "source": [
    "x = np.arange(len(classes)) \n",
    "width = 0.2\n",
    "\n",
    "plt.bar(x - width, np.mean(y_pred_mlp, axis=0), width, label='MLP')\n",
    "plt.bar(x, np.mean(y_pred_conv1d, axis=0), width, label='Conv1D')\n",
    "plt.bar(x + width, np.mean(y_test, axis=0), width, label='True')\n",
    "\n",
    "plt.legend(loc='upper left')\n",
    "plt.xticks(x, classes)\n",
    "\n",
    "plt.show()"
   ]
  },
  {
   "cell_type": "code",
   "execution_count": 93,
   "metadata": {},
   "outputs": [
    {
     "data": {
      "image/png": "[encoded data removed]",
      "text/plain": [
       "<Figure size 432x288 with 1 Axes>"
      ]
     },
     "metadata": {
      "needs_background": "light"
     },
     "output_type": "display_data"
    }
   ],
   "source": [
    "x = np.arange(len(classes)) \n",
    "width = 0.2\n",
    "\n",
    "plt.bar(x - width, mlp_prop, width, label='MLP')\n",
    "# plt.bar(x, conv1d_prop, width, label='Conv1D')\n",
    "plt.bar(x + width, np.mean(y_test, axis=0), width, label='True')\n",
    "\n",
    "plt.legend(loc='upper left')\n",
    "plt.xticks(x, classes)\n",
    "\n",
    "plt.show()"
   ]
  },
  {
   "cell_type": "code",
   "execution_count": null,
   "metadata": {},
   "outputs": [],
   "source": []
  }
 ],
 "metadata": {
  "kernelspec": {
   "display_name": "Python 3",
   "language": "python",
   "name": "python3"
  },
  "language_info": {
   "codemirror_mode": {
    "name": "ipython",
    "version": 3
   },
   "file_extension": ".py",
   "mimetype": "text/x-python",
   "name": "python",
   "nbconvert_exporter": "python",
   "pygments_lexer": "ipython3",
   "version": "3.7.5rc1"
  }
 },
 "nbformat": 4,
 "nbformat_minor": 4
}
