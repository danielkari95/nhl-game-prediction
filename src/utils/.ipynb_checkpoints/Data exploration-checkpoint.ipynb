{
 "cells": [
  {
   "cell_type": "code",
   "execution_count": 1,
   "metadata": {},
   "outputs": [],
   "source": [
    "import numpy as np\n",
    "import pandas as pd\n",
    "import matplotlib.pyplot as plt\n",
    "import seaborn as sns\n",
    "import os\n",
    "\n",
    "os.chdir('/home/daniel/Asiakirjat/GitHub/Gradu/')"
   ]
  },
  {
   "cell_type": "code",
   "execution_count": 2,
   "metadata": {},
   "outputs": [],
   "source": [
    "games = pd.read_csv(\"data/csv/game.csv\")"
   ]
  },
  {
   "cell_type": "code",
   "execution_count": 14,
   "metadata": {},
   "outputs": [
    {
     "name": "stdout",
     "output_type": "stream",
     "text": [
      "Total number of games is 11434\n",
      "Total number of regular season games is 10642\n",
      "Total number of playoff games is 792\n"
     ]
    }
   ],
   "source": [
    "n_games_total = len(games['game_id'].unique())\n",
    "n_games_regular = len(games.loc[games['type']=='R', 'game_id'].unique())\n",
    "\n",
    "print(\"Total number of games is\", n_games_total)\n",
    "print(\"Total number of regular season games is\", n_games_regular)\n",
    "print(\"Total number of playoff games is\", n_games_total-n_games_regular)"
   ]
  },
  {
   "cell_type": "code",
   "execution_count": 3,
   "metadata": {},
   "outputs": [],
   "source": [
    "plays = pd.read_csv(\"data/csv/game_plays.csv\")"
   ]
  },
  {
   "cell_type": "code",
   "execution_count": 3,
   "metadata": {},
   "outputs": [
    {
     "data": {
      "text/html": [
       "<div>\n",
       "<style scoped>\n",
       "    .dataframe tbody tr th:only-of-type {\n",
       "        vertical-align: middle;\n",
       "    }\n",
       "\n",
       "    .dataframe tbody tr th {\n",
       "        vertical-align: top;\n",
       "    }\n",
       "\n",
       "    .dataframe thead th {\n",
       "        text-align: right;\n",
       "    }\n",
       "</style>\n",
       "<table border=\"1\" class=\"dataframe\">\n",
       "  <thead>\n",
       "    <tr style=\"text-align: right;\">\n",
       "      <th></th>\n",
       "      <th>play_id</th>\n",
       "      <th>game_id</th>\n",
       "      <th>play_num</th>\n",
       "      <th>team_id_for</th>\n",
       "      <th>team_id_against</th>\n",
       "      <th>event</th>\n",
       "      <th>secondaryType</th>\n",
       "      <th>x</th>\n",
       "      <th>y</th>\n",
       "      <th>period</th>\n",
       "      <th>periodType</th>\n",
       "      <th>periodTime</th>\n",
       "      <th>periodTimeRemaining</th>\n",
       "      <th>dateTime</th>\n",
       "      <th>goals_away</th>\n",
       "      <th>goals_home</th>\n",
       "      <th>description</th>\n",
       "      <th>st_x</th>\n",
       "      <th>st_y</th>\n",
       "      <th>rink_side</th>\n",
       "    </tr>\n",
       "  </thead>\n",
       "  <tbody>\n",
       "    <tr>\n",
       "      <th>0</th>\n",
       "      <td>2011030221_1</td>\n",
       "      <td>2011030221</td>\n",
       "      <td>1</td>\n",
       "      <td>NaN</td>\n",
       "      <td>NaN</td>\n",
       "      <td>Game Scheduled</td>\n",
       "      <td>NaN</td>\n",
       "      <td>NaN</td>\n",
       "      <td>NaN</td>\n",
       "      <td>1</td>\n",
       "      <td>REGULAR</td>\n",
       "      <td>0</td>\n",
       "      <td>1200</td>\n",
       "      <td>2012-04-29 18:16:06</td>\n",
       "      <td>0</td>\n",
       "      <td>0</td>\n",
       "      <td>Game Scheduled</td>\n",
       "      <td>NaN</td>\n",
       "      <td>NaN</td>\n",
       "      <td>NaN</td>\n",
       "    </tr>\n",
       "    <tr>\n",
       "      <th>1</th>\n",
       "      <td>2011030221_2</td>\n",
       "      <td>2011030221</td>\n",
       "      <td>2</td>\n",
       "      <td>NaN</td>\n",
       "      <td>NaN</td>\n",
       "      <td>Period Ready</td>\n",
       "      <td>NaN</td>\n",
       "      <td>NaN</td>\n",
       "      <td>NaN</td>\n",
       "      <td>1</td>\n",
       "      <td>REGULAR</td>\n",
       "      <td>0</td>\n",
       "      <td>1200</td>\n",
       "      <td>2012-04-29 19:19:49</td>\n",
       "      <td>0</td>\n",
       "      <td>0</td>\n",
       "      <td>Period Ready</td>\n",
       "      <td>NaN</td>\n",
       "      <td>NaN</td>\n",
       "      <td>NaN</td>\n",
       "    </tr>\n",
       "    <tr>\n",
       "      <th>2</th>\n",
       "      <td>2011030221_3</td>\n",
       "      <td>2011030221</td>\n",
       "      <td>3</td>\n",
       "      <td>NaN</td>\n",
       "      <td>NaN</td>\n",
       "      <td>Period Start</td>\n",
       "      <td>NaN</td>\n",
       "      <td>NaN</td>\n",
       "      <td>NaN</td>\n",
       "      <td>1</td>\n",
       "      <td>REGULAR</td>\n",
       "      <td>0</td>\n",
       "      <td>1200</td>\n",
       "      <td>2012-04-29 19:20:13</td>\n",
       "      <td>0</td>\n",
       "      <td>0</td>\n",
       "      <td>Period Start</td>\n",
       "      <td>NaN</td>\n",
       "      <td>NaN</td>\n",
       "      <td>NaN</td>\n",
       "    </tr>\n",
       "    <tr>\n",
       "      <th>3</th>\n",
       "      <td>2011030221_4</td>\n",
       "      <td>2011030221</td>\n",
       "      <td>4</td>\n",
       "      <td>4.0</td>\n",
       "      <td>1.0</td>\n",
       "      <td>Faceoff</td>\n",
       "      <td>NaN</td>\n",
       "      <td>0.0</td>\n",
       "      <td>0.0</td>\n",
       "      <td>1</td>\n",
       "      <td>REGULAR</td>\n",
       "      <td>0</td>\n",
       "      <td>1200</td>\n",
       "      <td>2012-04-29 19:20:13</td>\n",
       "      <td>0</td>\n",
       "      <td>0</td>\n",
       "      <td>Sean Couturier faceoff won against Patrik Elias</td>\n",
       "      <td>0.0</td>\n",
       "      <td>0.0</td>\n",
       "      <td>right</td>\n",
       "    </tr>\n",
       "    <tr>\n",
       "      <th>4</th>\n",
       "      <td>2011030221_5</td>\n",
       "      <td>2011030221</td>\n",
       "      <td>5</td>\n",
       "      <td>4.0</td>\n",
       "      <td>1.0</td>\n",
       "      <td>Giveaway</td>\n",
       "      <td>NaN</td>\n",
       "      <td>28.0</td>\n",
       "      <td>24.0</td>\n",
       "      <td>1</td>\n",
       "      <td>REGULAR</td>\n",
       "      <td>21</td>\n",
       "      <td>1179</td>\n",
       "      <td>2012-04-29 19:21:02</td>\n",
       "      <td>0</td>\n",
       "      <td>0</td>\n",
       "      <td>Giveaway by Kimmo Timonen</td>\n",
       "      <td>-28.0</td>\n",
       "      <td>-24.0</td>\n",
       "      <td>right</td>\n",
       "    </tr>\n",
       "  </tbody>\n",
       "</table>\n",
       "</div>"
      ],
      "text/plain": [
       "        play_id     game_id  play_num  team_id_for  team_id_against  \\\n",
       "0  2011030221_1  2011030221         1          NaN              NaN   \n",
       "1  2011030221_2  2011030221         2          NaN              NaN   \n",
       "2  2011030221_3  2011030221         3          NaN              NaN   \n",
       "3  2011030221_4  2011030221         4          4.0              1.0   \n",
       "4  2011030221_5  2011030221         5          4.0              1.0   \n",
       "\n",
       "            event secondaryType     x     y  period periodType  periodTime  \\\n",
       "0  Game Scheduled           NaN   NaN   NaN       1    REGULAR           0   \n",
       "1    Period Ready           NaN   NaN   NaN       1    REGULAR           0   \n",
       "2    Period Start           NaN   NaN   NaN       1    REGULAR           0   \n",
       "3         Faceoff           NaN   0.0   0.0       1    REGULAR           0   \n",
       "4        Giveaway           NaN  28.0  24.0       1    REGULAR          21   \n",
       "\n",
       "   periodTimeRemaining             dateTime  goals_away  goals_home  \\\n",
       "0                 1200  2012-04-29 18:16:06           0           0   \n",
       "1                 1200  2012-04-29 19:19:49           0           0   \n",
       "2                 1200  2012-04-29 19:20:13           0           0   \n",
       "3                 1200  2012-04-29 19:20:13           0           0   \n",
       "4                 1179  2012-04-29 19:21:02           0           0   \n",
       "\n",
       "                                       description  st_x  st_y rink_side  \n",
       "0                                   Game Scheduled   NaN   NaN       NaN  \n",
       "1                                     Period Ready   NaN   NaN       NaN  \n",
       "2                                     Period Start   NaN   NaN       NaN  \n",
       "3  Sean Couturier faceoff won against Patrik Elias   0.0   0.0     right  \n",
       "4                        Giveaway by Kimmo Timonen -28.0 -24.0     right  "
      ]
     },
     "execution_count": 3,
     "metadata": {},
     "output_type": "execute_result"
    }
   ],
   "source": [
    "plays.head()"
   ]
  },
  {
   "cell_type": "code",
   "execution_count": 4,
   "metadata": {},
   "outputs": [],
   "source": [
    "# print(plays.head().to_latex(index=False))"
   ]
  },
  {
   "cell_type": "code",
   "execution_count": 22,
   "metadata": {},
   "outputs": [
    {
     "data": {
      "text/html": [
       "<div>\n",
       "<style scoped>\n",
       "    .dataframe tbody tr th:only-of-type {\n",
       "        vertical-align: middle;\n",
       "    }\n",
       "\n",
       "    .dataframe tbody tr th {\n",
       "        vertical-align: top;\n",
       "    }\n",
       "\n",
       "    .dataframe thead th {\n",
       "        text-align: right;\n",
       "    }\n",
       "</style>\n",
       "<table border=\"1\" class=\"dataframe\">\n",
       "  <thead>\n",
       "    <tr style=\"text-align: right;\">\n",
       "      <th></th>\n",
       "      <th>game_id</th>\n",
       "      <th>season</th>\n",
       "      <th>type</th>\n",
       "      <th>date_time</th>\n",
       "      <th>date_time_GMT</th>\n",
       "      <th>away_team_id</th>\n",
       "      <th>home_team_id</th>\n",
       "      <th>away_goals</th>\n",
       "      <th>home_goals</th>\n",
       "      <th>outcome</th>\n",
       "      <th>home_rink_side_start</th>\n",
       "      <th>venue</th>\n",
       "      <th>venue_link</th>\n",
       "      <th>venue_time_zone_id</th>\n",
       "      <th>venue_time_zone_offset</th>\n",
       "      <th>venue_time_zone_tz</th>\n",
       "    </tr>\n",
       "  </thead>\n",
       "  <tbody>\n",
       "    <tr>\n",
       "      <th>0</th>\n",
       "      <td>2011030221</td>\n",
       "      <td>20112012</td>\n",
       "      <td>P</td>\n",
       "      <td>2012-04-29</td>\n",
       "      <td>2012-04-29T19:00:00Z</td>\n",
       "      <td>1</td>\n",
       "      <td>4</td>\n",
       "      <td>3</td>\n",
       "      <td>4</td>\n",
       "      <td>home win OT</td>\n",
       "      <td>right</td>\n",
       "      <td>Wells Fargo Center</td>\n",
       "      <td>/api/v1/venues/null</td>\n",
       "      <td>America/New_York</td>\n",
       "      <td>-4</td>\n",
       "      <td>EDT</td>\n",
       "    </tr>\n",
       "    <tr>\n",
       "      <th>1</th>\n",
       "      <td>2011030222</td>\n",
       "      <td>20112012</td>\n",
       "      <td>P</td>\n",
       "      <td>2012-05-01</td>\n",
       "      <td>2012-05-01T23:30:00Z</td>\n",
       "      <td>1</td>\n",
       "      <td>4</td>\n",
       "      <td>4</td>\n",
       "      <td>1</td>\n",
       "      <td>away win REG</td>\n",
       "      <td>right</td>\n",
       "      <td>Wells Fargo Center</td>\n",
       "      <td>/api/v1/venues/null</td>\n",
       "      <td>America/New_York</td>\n",
       "      <td>-4</td>\n",
       "      <td>EDT</td>\n",
       "    </tr>\n",
       "    <tr>\n",
       "      <th>2</th>\n",
       "      <td>2011030223</td>\n",
       "      <td>20112012</td>\n",
       "      <td>P</td>\n",
       "      <td>2012-05-03</td>\n",
       "      <td>2012-05-03T23:30:00Z</td>\n",
       "      <td>4</td>\n",
       "      <td>1</td>\n",
       "      <td>3</td>\n",
       "      <td>4</td>\n",
       "      <td>home win OT</td>\n",
       "      <td>left</td>\n",
       "      <td>Prudential Center</td>\n",
       "      <td>/api/v1/venues/null</td>\n",
       "      <td>America/New_York</td>\n",
       "      <td>-4</td>\n",
       "      <td>EDT</td>\n",
       "    </tr>\n",
       "    <tr>\n",
       "      <th>3</th>\n",
       "      <td>2011030224</td>\n",
       "      <td>20112012</td>\n",
       "      <td>P</td>\n",
       "      <td>2012-05-06</td>\n",
       "      <td>2012-05-06T23:30:00Z</td>\n",
       "      <td>4</td>\n",
       "      <td>1</td>\n",
       "      <td>2</td>\n",
       "      <td>4</td>\n",
       "      <td>home win REG</td>\n",
       "      <td>left</td>\n",
       "      <td>Prudential Center</td>\n",
       "      <td>/api/v1/venues/null</td>\n",
       "      <td>America/New_York</td>\n",
       "      <td>-4</td>\n",
       "      <td>EDT</td>\n",
       "    </tr>\n",
       "    <tr>\n",
       "      <th>4</th>\n",
       "      <td>2011030225</td>\n",
       "      <td>20112012</td>\n",
       "      <td>P</td>\n",
       "      <td>2012-05-08</td>\n",
       "      <td>2012-05-08T23:30:00Z</td>\n",
       "      <td>1</td>\n",
       "      <td>4</td>\n",
       "      <td>3</td>\n",
       "      <td>1</td>\n",
       "      <td>away win REG</td>\n",
       "      <td>right</td>\n",
       "      <td>Wells Fargo Center</td>\n",
       "      <td>/api/v1/venues/null</td>\n",
       "      <td>America/New_York</td>\n",
       "      <td>-4</td>\n",
       "      <td>EDT</td>\n",
       "    </tr>\n",
       "  </tbody>\n",
       "</table>\n",
       "</div>"
      ],
      "text/plain": [
       "      game_id    season type   date_time         date_time_GMT  away_team_id  \\\n",
       "0  2011030221  20112012    P  2012-04-29  2012-04-29T19:00:00Z             1   \n",
       "1  2011030222  20112012    P  2012-05-01  2012-05-01T23:30:00Z             1   \n",
       "2  2011030223  20112012    P  2012-05-03  2012-05-03T23:30:00Z             4   \n",
       "3  2011030224  20112012    P  2012-05-06  2012-05-06T23:30:00Z             4   \n",
       "4  2011030225  20112012    P  2012-05-08  2012-05-08T23:30:00Z             1   \n",
       "\n",
       "   home_team_id  away_goals  home_goals       outcome home_rink_side_start  \\\n",
       "0             4           3           4   home win OT                right   \n",
       "1             4           4           1  away win REG                right   \n",
       "2             1           3           4   home win OT                 left   \n",
       "3             1           2           4  home win REG                 left   \n",
       "4             4           3           1  away win REG                right   \n",
       "\n",
       "                venue           venue_link venue_time_zone_id  \\\n",
       "0  Wells Fargo Center  /api/v1/venues/null   America/New_York   \n",
       "1  Wells Fargo Center  /api/v1/venues/null   America/New_York   \n",
       "2   Prudential Center  /api/v1/venues/null   America/New_York   \n",
       "3   Prudential Center  /api/v1/venues/null   America/New_York   \n",
       "4  Wells Fargo Center  /api/v1/venues/null   America/New_York   \n",
       "\n",
       "   venue_time_zone_offset venue_time_zone_tz  \n",
       "0                      -4                EDT  \n",
       "1                      -4                EDT  \n",
       "2                      -4                EDT  \n",
       "3                      -4                EDT  \n",
       "4                      -4                EDT  "
      ]
     },
     "execution_count": 22,
     "metadata": {},
     "output_type": "execute_result"
    }
   ],
   "source": [
    "games.head()"
   ]
  },
  {
   "cell_type": "code",
   "execution_count": 2,
   "metadata": {},
   "outputs": [],
   "source": [
    "game_stats = pd.read_csv(\"data/csv/game_teams_stats.csv\")"
   ]
  },
  {
   "cell_type": "code",
   "execution_count": 3,
   "metadata": {},
   "outputs": [],
   "source": [
    "home = game_stats.loc[game_stats['HoA']=='home']\n",
    "away = game_stats.loc[game_stats['HoA']=='away']\n",
    "\n",
    "game_stats = home.merge(away, on='game_id', suffixes=['_home', '_away'])"
   ]
  },
  {
   "cell_type": "code",
   "execution_count": 4,
   "metadata": {},
   "outputs": [
    {
     "data": {
      "text/html": [
       "<div>\n",
       "<style scoped>\n",
       "    .dataframe tbody tr th:only-of-type {\n",
       "        vertical-align: middle;\n",
       "    }\n",
       "\n",
       "    .dataframe tbody tr th {\n",
       "        vertical-align: top;\n",
       "    }\n",
       "\n",
       "    .dataframe thead th {\n",
       "        text-align: right;\n",
       "    }\n",
       "</style>\n",
       "<table border=\"1\" class=\"dataframe\">\n",
       "  <thead>\n",
       "    <tr style=\"text-align: right;\">\n",
       "      <th></th>\n",
       "      <th>game_id</th>\n",
       "      <th>team_id_home</th>\n",
       "      <th>HoA_home</th>\n",
       "      <th>won_home</th>\n",
       "      <th>settled_in_home</th>\n",
       "      <th>head_coach_home</th>\n",
       "      <th>goals_home</th>\n",
       "      <th>shots_home</th>\n",
       "      <th>hits_home</th>\n",
       "      <th>pim_home</th>\n",
       "      <th>...</th>\n",
       "      <th>head_coach_away</th>\n",
       "      <th>goals_away</th>\n",
       "      <th>shots_away</th>\n",
       "      <th>hits_away</th>\n",
       "      <th>pim_away</th>\n",
       "      <th>powerPlayOpportunities_away</th>\n",
       "      <th>powerPlayGoals_away</th>\n",
       "      <th>faceOffWinPercentage_away</th>\n",
       "      <th>giveaways_away</th>\n",
       "      <th>takeaways_away</th>\n",
       "    </tr>\n",
       "  </thead>\n",
       "  <tbody>\n",
       "    <tr>\n",
       "      <th>0</th>\n",
       "      <td>2011030221</td>\n",
       "      <td>4</td>\n",
       "      <td>home</td>\n",
       "      <td>True</td>\n",
       "      <td>OT</td>\n",
       "      <td>Peter Laviolette</td>\n",
       "      <td>4</td>\n",
       "      <td>36</td>\n",
       "      <td>27</td>\n",
       "      <td>6</td>\n",
       "      <td>...</td>\n",
       "      <td>Peter DeBoer</td>\n",
       "      <td>3</td>\n",
       "      <td>26</td>\n",
       "      <td>31</td>\n",
       "      <td>12</td>\n",
       "      <td>3</td>\n",
       "      <td>1</td>\n",
       "      <td>44.9</td>\n",
       "      <td>6</td>\n",
       "      <td>7</td>\n",
       "    </tr>\n",
       "    <tr>\n",
       "      <th>1</th>\n",
       "      <td>2011030222</td>\n",
       "      <td>4</td>\n",
       "      <td>home</td>\n",
       "      <td>False</td>\n",
       "      <td>REG</td>\n",
       "      <td>Peter Laviolette</td>\n",
       "      <td>1</td>\n",
       "      <td>20</td>\n",
       "      <td>24</td>\n",
       "      <td>32</td>\n",
       "      <td>...</td>\n",
       "      <td>Peter DeBoer</td>\n",
       "      <td>4</td>\n",
       "      <td>35</td>\n",
       "      <td>32</td>\n",
       "      <td>12</td>\n",
       "      <td>4</td>\n",
       "      <td>0</td>\n",
       "      <td>50.9</td>\n",
       "      <td>8</td>\n",
       "      <td>7</td>\n",
       "    </tr>\n",
       "    <tr>\n",
       "      <th>2</th>\n",
       "      <td>2011030223</td>\n",
       "      <td>1</td>\n",
       "      <td>home</td>\n",
       "      <td>True</td>\n",
       "      <td>OT</td>\n",
       "      <td>Peter DeBoer</td>\n",
       "      <td>4</td>\n",
       "      <td>31</td>\n",
       "      <td>30</td>\n",
       "      <td>10</td>\n",
       "      <td>...</td>\n",
       "      <td>Peter Laviolette</td>\n",
       "      <td>3</td>\n",
       "      <td>28</td>\n",
       "      <td>28</td>\n",
       "      <td>4</td>\n",
       "      <td>5</td>\n",
       "      <td>1</td>\n",
       "      <td>50.8</td>\n",
       "      <td>2</td>\n",
       "      <td>1</td>\n",
       "    </tr>\n",
       "    <tr>\n",
       "      <th>3</th>\n",
       "      <td>2011030224</td>\n",
       "      <td>1</td>\n",
       "      <td>home</td>\n",
       "      <td>True</td>\n",
       "      <td>REG</td>\n",
       "      <td>Peter DeBoer</td>\n",
       "      <td>4</td>\n",
       "      <td>43</td>\n",
       "      <td>19</td>\n",
       "      <td>4</td>\n",
       "      <td>...</td>\n",
       "      <td>Peter Laviolette</td>\n",
       "      <td>2</td>\n",
       "      <td>22</td>\n",
       "      <td>23</td>\n",
       "      <td>10</td>\n",
       "      <td>2</td>\n",
       "      <td>1</td>\n",
       "      <td>62.5</td>\n",
       "      <td>20</td>\n",
       "      <td>5</td>\n",
       "    </tr>\n",
       "    <tr>\n",
       "      <th>4</th>\n",
       "      <td>2011030225</td>\n",
       "      <td>4</td>\n",
       "      <td>home</td>\n",
       "      <td>False</td>\n",
       "      <td>REG</td>\n",
       "      <td>Peter Laviolette</td>\n",
       "      <td>1</td>\n",
       "      <td>28</td>\n",
       "      <td>38</td>\n",
       "      <td>8</td>\n",
       "      <td>...</td>\n",
       "      <td>Peter DeBoer</td>\n",
       "      <td>3</td>\n",
       "      <td>30</td>\n",
       "      <td>26</td>\n",
       "      <td>2</td>\n",
       "      <td>4</td>\n",
       "      <td>1</td>\n",
       "      <td>55.0</td>\n",
       "      <td>6</td>\n",
       "      <td>5</td>\n",
       "    </tr>\n",
       "  </tbody>\n",
       "</table>\n",
       "<p>5 rows × 29 columns</p>\n",
       "</div>"
      ],
      "text/plain": [
       "      game_id  team_id_home HoA_home  won_home settled_in_home  \\\n",
       "0  2011030221             4     home      True              OT   \n",
       "1  2011030222             4     home     False             REG   \n",
       "2  2011030223             1     home      True              OT   \n",
       "3  2011030224             1     home      True             REG   \n",
       "4  2011030225             4     home     False             REG   \n",
       "\n",
       "    head_coach_home  goals_home  shots_home  hits_home  pim_home  ...  \\\n",
       "0  Peter Laviolette           4          36         27         6  ...   \n",
       "1  Peter Laviolette           1          20         24        32  ...   \n",
       "2      Peter DeBoer           4          31         30        10  ...   \n",
       "3      Peter DeBoer           4          43         19         4  ...   \n",
       "4  Peter Laviolette           1          28         38         8  ...   \n",
       "\n",
       "    head_coach_away  goals_away  shots_away  hits_away  pim_away  \\\n",
       "0      Peter DeBoer           3          26         31        12   \n",
       "1      Peter DeBoer           4          35         32        12   \n",
       "2  Peter Laviolette           3          28         28         4   \n",
       "3  Peter Laviolette           2          22         23        10   \n",
       "4      Peter DeBoer           3          30         26         2   \n",
       "\n",
       "   powerPlayOpportunities_away powerPlayGoals_away  faceOffWinPercentage_away  \\\n",
       "0                            3                   1                       44.9   \n",
       "1                            4                   0                       50.9   \n",
       "2                            5                   1                       50.8   \n",
       "3                            2                   1                       62.5   \n",
       "4                            4                   1                       55.0   \n",
       "\n",
       "  giveaways_away takeaways_away  \n",
       "0              6              7  \n",
       "1              8              7  \n",
       "2              2              1  \n",
       "3             20              5  \n",
       "4              6              5  \n",
       "\n",
       "[5 rows x 29 columns]"
      ]
     },
     "execution_count": 4,
     "metadata": {},
     "output_type": "execute_result"
    }
   ],
   "source": [
    "game_stats.head()"
   ]
  },
  {
   "cell_type": "code",
   "execution_count": 34,
   "metadata": {},
   "outputs": [],
   "source": [
    "wild_2011 = game_stats.loc[((game_stats['game_id'].astype(str).str.startswith('2011'))\n",
    "                            & ((game_stats['team_id_home']==30) | (game_stats['team_id_away']==30))), :]"
   ]
  },
  {
   "cell_type": "code",
   "execution_count": 36,
   "metadata": {},
   "outputs": [],
   "source": [
    "wild_2011 = wild_2011.sort_values(by='game_id')\n",
    "\n",
    "wild_2011 = wild_2011.loc[:, ['team_id_home', 'team_id_away', 'shots_home', \n",
    "                              'goals_home', 'goals_away', 'shots_away']]"
   ]
  },
  {
   "cell_type": "code",
   "execution_count": 37,
   "metadata": {},
   "outputs": [
    {
     "data": {
      "text/html": [
       "<div>\n",
       "<style scoped>\n",
       "    .dataframe tbody tr th:only-of-type {\n",
       "        vertical-align: middle;\n",
       "    }\n",
       "\n",
       "    .dataframe tbody tr th {\n",
       "        vertical-align: top;\n",
       "    }\n",
       "\n",
       "    .dataframe thead th {\n",
       "        text-align: right;\n",
       "    }\n",
       "</style>\n",
       "<table border=\"1\" class=\"dataframe\">\n",
       "  <thead>\n",
       "    <tr style=\"text-align: right;\">\n",
       "      <th></th>\n",
       "      <th>team_id_home</th>\n",
       "      <th>team_id_away</th>\n",
       "      <th>shots_home</th>\n",
       "      <th>goals_home</th>\n",
       "      <th>goals_away</th>\n",
       "      <th>shots_away</th>\n",
       "    </tr>\n",
       "  </thead>\n",
       "  <tbody>\n",
       "    <tr>\n",
       "      <th>10266</th>\n",
       "      <td>30</td>\n",
       "      <td>29</td>\n",
       "      <td>26</td>\n",
       "      <td>4</td>\n",
       "      <td>2</td>\n",
       "      <td>31</td>\n",
       "    </tr>\n",
       "    <tr>\n",
       "      <th>10523</th>\n",
       "      <td>2</td>\n",
       "      <td>30</td>\n",
       "      <td>14</td>\n",
       "      <td>2</td>\n",
       "      <td>1</td>\n",
       "      <td>21</td>\n",
       "    </tr>\n",
       "    <tr>\n",
       "      <th>10466</th>\n",
       "      <td>9</td>\n",
       "      <td>30</td>\n",
       "      <td>44</td>\n",
       "      <td>3</td>\n",
       "      <td>3</td>\n",
       "      <td>27</td>\n",
       "    </tr>\n",
       "    <tr>\n",
       "      <th>10937</th>\n",
       "      <td>30</td>\n",
       "      <td>22</td>\n",
       "      <td>35</td>\n",
       "      <td>1</td>\n",
       "      <td>1</td>\n",
       "      <td>22</td>\n",
       "    </tr>\n",
       "    <tr>\n",
       "      <th>9077</th>\n",
       "      <td>30</td>\n",
       "      <td>17</td>\n",
       "      <td>14</td>\n",
       "      <td>2</td>\n",
       "      <td>3</td>\n",
       "      <td>41</td>\n",
       "    </tr>\n",
       "  </tbody>\n",
       "</table>\n",
       "</div>"
      ],
      "text/plain": [
       "       team_id_home  team_id_away  shots_home  goals_home  goals_away  \\\n",
       "10266            30            29          26           4           2   \n",
       "10523             2            30          14           2           1   \n",
       "10466             9            30          44           3           3   \n",
       "10937            30            22          35           1           1   \n",
       "9077             30            17          14           2           3   \n",
       "\n",
       "       shots_away  \n",
       "10266          31  \n",
       "10523          21  \n",
       "10466          27  \n",
       "10937          22  \n",
       "9077           41  "
      ]
     },
     "execution_count": 37,
     "metadata": {},
     "output_type": "execute_result"
    }
   ],
   "source": [
    "wild_2011.head()"
   ]
  },
  {
   "cell_type": "code",
   "execution_count": 38,
   "metadata": {},
   "outputs": [],
   "source": [
    "def wild_stats(x, against):\n",
    "    if not against:\n",
    "        if x[0] == 30:\n",
    "            return x[1]\n",
    "        else:\n",
    "            return x[2]\n",
    "    else: \n",
    "        if x[0] != 30:\n",
    "            return x[1]\n",
    "        else:\n",
    "            return x[2]"
   ]
  },
  {
   "cell_type": "code",
   "execution_count": 39,
   "metadata": {},
   "outputs": [],
   "source": [
    "wild_2011['shots_for'] = wild_2011.loc[:, ['team_id_home', 'shots_home', 'shots_away']].apply(wild_stats, axis=1, against=False)\n",
    "wild_2011['shots_against'] = wild_2011.loc[:, ['team_id_home', 'shots_home', 'shots_away']].apply(wild_stats, axis=1, against=True)\n",
    "\n",
    "wild_2011['goals_for'] = wild_2011.loc[:, ['team_id_home', 'goals_home', 'goals_away']].apply(wild_stats, axis=1, against=False)                                                  \n",
    "wild_2011['goals_against'] = wild_2011.loc[:, ['team_id_home', 'goals_home', 'goals_away']].apply(wild_stats, axis=1, against=True)"
   ]
  },
  {
   "cell_type": "code",
   "execution_count": 40,
   "metadata": {},
   "outputs": [],
   "source": [
    "def pdo(x):\n",
    "    return x[2]/(x[2]+x[0]) + x[1]/(x[1]+x[3])"
   ]
  },
  {
   "cell_type": "code",
   "execution_count": 41,
   "metadata": {},
   "outputs": [],
   "source": [
    "wild_2011['pdo'] = wild_2011.loc[:, ['shots_for', 'shots_against', 'goals_for', 'goals_against']].cumsum().apply(pdo, axis=1)"
   ]
  },
  {
   "cell_type": "code",
   "execution_count": 42,
   "metadata": {},
   "outputs": [],
   "source": [
    "games = np.arange(1, 83)"
   ]
  },
  {
   "cell_type": "code",
   "execution_count": 45,
   "metadata": {},
   "outputs": [
    {
     "data": {
      "image/png": "[encoded data removed]",
      "text/plain": [
       "<Figure size 432x288 with 1 Axes>"
      ]
     },
     "metadata": {
      "needs_background": "light"
     },
     "output_type": "display_data"
    }
   ],
   "source": [
    "plt.plot(games, wild_2011['pdo'], 'green')\n",
    "\n",
    "plt.ylabel('Cumulative PDO')\n",
    "plt.xlabel('Games played')\n",
    "\n",
    "plt.ylim(0.98, 1.03)\n",
    "\n",
    "plt.grid(linestyle='dashed')\n",
    "plt.axhline(1, 0, 82, c='black', linestyle='dashed')\n",
    "\n",
    "plt.tight_layout()\n",
    "\n",
    "plt.savefig('img/wild_pdo.png')\n",
    "plt.show()"
   ]
  },
  {
   "cell_type": "code",
   "execution_count": 4,
   "metadata": {},
   "outputs": [],
   "source": [
    "games_with_plays = games[games['game_id'].isin(plays['game_id'])]\n",
    "games_no_plays = games[~games['game_id'].isin(plays['game_id'])]"
   ]
  },
  {
   "cell_type": "code",
   "execution_count": 5,
   "metadata": {},
   "outputs": [
    {
     "name": "stdout",
     "output_type": "stream",
     "text": [
      "(11244, 16)\n",
      "(190, 16)\n"
     ]
    }
   ],
   "source": [
    "print(games_with_plays.shape)\n",
    "print(games_no_plays.shape)"
   ]
  },
  {
   "cell_type": "code",
   "execution_count": 19,
   "metadata": {},
   "outputs": [],
   "source": [
    "def result(result, binary=False):\n",
    "    if not binary:\n",
    "        if 'OT' in result or 'SO' in result:\n",
    "            return 'b_tie'\n",
    "        elif 'home' in result:\n",
    "            return 'a_home_win'\n",
    "        else:\n",
    "            return 'c_away_win'\n",
    "    else:\n",
    "        if 'home' in result:\n",
    "            return 'a_home_win'\n",
    "        else:\n",
    "            return 'b_away_win'"
   ]
  },
  {
   "cell_type": "code",
   "execution_count": 15,
   "metadata": {},
   "outputs": [
    {
     "data": {
      "text/plain": [
       "home win REG    4786\n",
       "away win REG    3802\n",
       "home win OT      780\n",
       "away win OT      722\n",
       "away win SO      583\n",
       "home win SO      571\n",
       "Name: outcome, dtype: int64"
      ]
     },
     "execution_count": 15,
     "metadata": {},
     "output_type": "execute_result"
    }
   ],
   "source": [
    "games_with_plays['outcome'].value_counts()"
   ]
  },
  {
   "cell_type": "code",
   "execution_count": 16,
   "metadata": {},
   "outputs": [
    {
     "data": {
      "text/plain": [
       "a_home_win    4786\n",
       "c_away_win    3802\n",
       "b_tie         2656\n",
       "Name: outcome, dtype: int64"
      ]
     },
     "execution_count": 16,
     "metadata": {},
     "output_type": "execute_result"
    }
   ],
   "source": [
    "print(games_with_plays['outcome'].apply(result, binary=False).value_counts()"
   ]
  },
  {
   "cell_type": "code",
   "execution_count": 20,
   "metadata": {},
   "outputs": [
    {
     "name": "stdout",
     "output_type": "stream",
     "text": [
      "a_home_win    0.425649\n",
      "c_away_win    0.338136\n",
      "b_tie         0.236215\n",
      "Name: outcome, dtype: float64\n",
      "a_home_win    0.545802\n",
      "b_away_win    0.454198\n",
      "Name: outcome, dtype: float64\n"
     ]
    }
   ],
   "source": [
    "print(games_with_plays['outcome'].apply(result, binary=False).value_counts() / len(games_with_plays))\n",
    "print(games_with_plays['outcome'].apply(result, binary=True).value_counts() / len(games_with_plays))"
   ]
  },
  {
   "cell_type": "code",
   "execution_count": null,
   "metadata": {},
   "outputs": [],
   "source": [
    "# plays[((plays['event'] == 'Goal') & (plays['st_x'] == 55))].head()"
   ]
  },
  {
   "cell_type": "code",
   "execution_count": 3,
   "metadata": {},
   "outputs": [
    {
     "data": {
      "text/html": [
       "<div>\n",
       "<style scoped>\n",
       "    .dataframe tbody tr th:only-of-type {\n",
       "        vertical-align: middle;\n",
       "    }\n",
       "\n",
       "    .dataframe tbody tr th {\n",
       "        vertical-align: top;\n",
       "    }\n",
       "\n",
       "    .dataframe thead th {\n",
       "        text-align: right;\n",
       "    }\n",
       "</style>\n",
       "<table border=\"1\" class=\"dataframe\">\n",
       "  <thead>\n",
       "    <tr style=\"text-align: right;\">\n",
       "      <th></th>\n",
       "      <th>play_id</th>\n",
       "      <th>game_id</th>\n",
       "      <th>play_num</th>\n",
       "      <th>team_id_for</th>\n",
       "      <th>team_id_against</th>\n",
       "      <th>event</th>\n",
       "      <th>secondaryType</th>\n",
       "      <th>x</th>\n",
       "      <th>y</th>\n",
       "      <th>period</th>\n",
       "      <th>periodType</th>\n",
       "      <th>periodTime</th>\n",
       "      <th>periodTimeRemaining</th>\n",
       "      <th>dateTime</th>\n",
       "      <th>goals_away</th>\n",
       "      <th>goals_home</th>\n",
       "      <th>description</th>\n",
       "      <th>st_x</th>\n",
       "      <th>st_y</th>\n",
       "      <th>rink_side</th>\n",
       "    </tr>\n",
       "  </thead>\n",
       "  <tbody>\n",
       "    <tr>\n",
       "      <th>932301</th>\n",
       "      <td>2014020946_342</td>\n",
       "      <td>2014020946</td>\n",
       "      <td>342</td>\n",
       "      <td>NaN</td>\n",
       "      <td>NaN</td>\n",
       "      <td>Emergency Goaltender</td>\n",
       "      <td>NaN</td>\n",
       "      <td>NaN</td>\n",
       "      <td>NaN</td>\n",
       "      <td>3</td>\n",
       "      <td>REGULAR</td>\n",
       "      <td>1200</td>\n",
       "      <td>0</td>\n",
       "      <td>2015-03-04 02:35:38</td>\n",
       "      <td>3</td>\n",
       "      <td>2</td>\n",
       "      <td>-</td>\n",
       "      <td>NaN</td>\n",
       "      <td>NaN</td>\n",
       "      <td>NaN</td>\n",
       "    </tr>\n",
       "    <tr>\n",
       "      <th>1634415</th>\n",
       "      <td>2017021196_338</td>\n",
       "      <td>2017021196</td>\n",
       "      <td>338</td>\n",
       "      <td>NaN</td>\n",
       "      <td>NaN</td>\n",
       "      <td>Emergency Goaltender</td>\n",
       "      <td>NaN</td>\n",
       "      <td>NaN</td>\n",
       "      <td>NaN</td>\n",
       "      <td>3</td>\n",
       "      <td>REGULAR</td>\n",
       "      <td>1200</td>\n",
       "      <td>0</td>\n",
       "      <td>2018-03-30 04:24:11</td>\n",
       "      <td>2</td>\n",
       "      <td>6</td>\n",
       "      <td>-</td>\n",
       "      <td>NaN</td>\n",
       "      <td>NaN</td>\n",
       "      <td>NaN</td>\n",
       "    </tr>\n",
       "    <tr>\n",
       "      <th>2600258</th>\n",
       "      <td>2018020520_307</td>\n",
       "      <td>2018020520</td>\n",
       "      <td>307</td>\n",
       "      <td>NaN</td>\n",
       "      <td>NaN</td>\n",
       "      <td>Emergency Goaltender</td>\n",
       "      <td>NaN</td>\n",
       "      <td>NaN</td>\n",
       "      <td>NaN</td>\n",
       "      <td>3</td>\n",
       "      <td>REGULAR</td>\n",
       "      <td>1200</td>\n",
       "      <td>0</td>\n",
       "      <td>2018-12-19 02:39:44</td>\n",
       "      <td>2</td>\n",
       "      <td>3</td>\n",
       "      <td>-</td>\n",
       "      <td>NaN</td>\n",
       "      <td>NaN</td>\n",
       "      <td>NaN</td>\n",
       "    </tr>\n",
       "  </tbody>\n",
       "</table>\n",
       "</div>"
      ],
      "text/plain": [
       "                play_id     game_id  play_num  team_id_for  team_id_against  \\\n",
       "932301   2014020946_342  2014020946       342          NaN              NaN   \n",
       "1634415  2017021196_338  2017021196       338          NaN              NaN   \n",
       "2600258  2018020520_307  2018020520       307          NaN              NaN   \n",
       "\n",
       "                        event secondaryType   x   y  period periodType  \\\n",
       "932301   Emergency Goaltender           NaN NaN NaN       3    REGULAR   \n",
       "1634415  Emergency Goaltender           NaN NaN NaN       3    REGULAR   \n",
       "2600258  Emergency Goaltender           NaN NaN NaN       3    REGULAR   \n",
       "\n",
       "         periodTime  periodTimeRemaining             dateTime  goals_away  \\\n",
       "932301         1200                    0  2015-03-04 02:35:38           3   \n",
       "1634415        1200                    0  2018-03-30 04:24:11           2   \n",
       "2600258        1200                    0  2018-12-19 02:39:44           2   \n",
       "\n",
       "         goals_home description  st_x  st_y rink_side  \n",
       "932301            2           -   NaN   NaN       NaN  \n",
       "1634415           6           -   NaN   NaN       NaN  \n",
       "2600258           3           -   NaN   NaN       NaN  "
      ]
     },
     "execution_count": 3,
     "metadata": {},
     "output_type": "execute_result"
    }
   ],
   "source": [
    "plays[plays['event'] == \"Emergency Goaltender\"]"
   ]
  },
  {
   "cell_type": "code",
   "execution_count": null,
   "metadata": {},
   "outputs": [],
   "source": [
    "# plays.groupby(['game_id']).size().describe()"
   ]
  },
  {
   "cell_type": "code",
   "execution_count": 203,
   "metadata": {},
   "outputs": [
    {
     "name": "stdout",
     "output_type": "stream",
     "text": [
      "Faceoff                     674022\n",
      "Shot                        626037\n",
      "Hit                         531273\n",
      "Stoppage                    526985\n",
      "Blocked Shot                324663\n",
      "Missed Shot                 266975\n",
      "Giveaway                    194516\n",
      "Takeaway                    155700\n",
      "Penalty                      92745\n",
      "Goal                         64210\n",
      "Period Start                 37638\n",
      "Period Ready                 37590\n",
      "Period End                   37585\n",
      "Period Official              37584\n",
      "Game End                     11244\n",
      "Game Scheduled               11240\n",
      "Shootout Complete             1183\n",
      "Official Challenge             871\n",
      "Game Official                  229\n",
      "Early Intermission End          28\n",
      "Early Intermission Start        28\n",
      "Emergency Goaltender             3\n",
      "Name: event, dtype: int64\n"
     ]
    }
   ],
   "source": [
    "print(plays['event'].value_counts())"
   ]
  },
  {
   "cell_type": "code",
   "execution_count": 201,
   "metadata": {},
   "outputs": [
    {
     "name": "stdout",
     "output_type": "stream",
     "text": [
      "['Game Scheduled' 'Period Ready' 'Period Start' 'Faceoff' 'Giveaway'\n",
      " 'Blocked Shot' 'Shot' 'Hit' 'Stoppage' 'Goal' 'Penalty' 'Takeaway'\n",
      " 'Missed Shot' 'Period End' 'Period Official' 'Game End' 'Game Official'\n",
      " 'Official Challenge' 'Shootout Complete' 'Early Intermission Start'\n",
      " 'Early Intermission End' 'Emergency Goaltender']\n",
      "22\n"
     ]
    }
   ],
   "source": [
    "print(plays['event'].unique())\n",
    "print(len(plays['event'].unique()))"
   ]
  },
  {
   "cell_type": "code",
   "execution_count": null,
   "metadata": {},
   "outputs": [],
   "source": [
    "relevant_events = ['Goal']\n",
    "plays = plays.loc[plays['event'].isin(relevant_events),:]"
   ]
  },
  {
   "cell_type": "code",
   "execution_count": 7,
   "metadata": {},
   "outputs": [],
   "source": [
    "unique_x = np.sort(plays['st_x'].unique()[1:])\n",
    "prop_goal_x = np.zeros(len(unique_x))"
   ]
  },
  {
   "cell_type": "code",
   "execution_count": 14,
   "metadata": {},
   "outputs": [
    {
     "data": {
      "text/plain": [
       "29"
      ]
     },
     "execution_count": 14,
     "metadata": {},
     "output_type": "execute_result"
    }
   ],
   "source": [
    "len(plays.loc[(plays['st_x']==x) & (plays['event']=='Shot'), :])"
   ]
  },
  {
   "cell_type": "code",
   "execution_count": 16,
   "metadata": {},
   "outputs": [],
   "source": [
    "for i, x in enumerate(unique_x):\n",
    "    n_goals = len(plays.loc[(plays['st_x']==x) & (plays['event']=='Goal'), :])\n",
    "    n_shots = len(plays.loc[(plays['st_x']==x) & (plays['event']=='Shot'), :])\n",
    "    prop_goal_x[i] = n_goals / (n_goals + n_shots)"
   ]
  },
  {
   "cell_type": "code",
   "execution_count": 50,
   "metadata": {},
   "outputs": [
    {
     "data": {
      "image/png": "[encoded data removed]",
      "text/plain": [
       "<Figure size 640x480 with 1 Axes>"
      ]
     },
     "metadata": {},
     "output_type": "display_data"
    }
   ],
   "source": [
    "plt.style.use('default')\n",
    "\n",
    "plt.plot(unique_x, prop_goal_x, 'green')\n",
    "\n",
    "plt.xlabel('st_x', fontsize=16)\n",
    "plt.ylabel('Goals per shots', fontsize=16)\n",
    "\n",
    "# plt.axvline(25, 0, 1, c='black', linestyle='dashed')\n",
    "plt.axvline(90, 0, 1, c='black', linestyle='dashed')\n",
    "plt.xlim(0, 100)\n",
    "plt.grid(linestyle='dashed')\n",
    "plt.tight_layout()\n",
    "\n",
    "plt.savefig('img/prop_goals_x.png')\n",
    "plt.show()"
   ]
  },
  {
   "cell_type": "code",
   "execution_count": 33,
   "metadata": {},
   "outputs": [
    {
     "name": "stdout",
     "output_type": "stream",
     "text": [
      "373\n"
     ]
    }
   ],
   "source": [
    "print(len(plays.loc[(plays['st_x']>90) & (plays['event']=='Goal')]))"
   ]
  },
  {
   "cell_type": "code",
   "execution_count": 51,
   "metadata": {},
   "outputs": [
    {
     "name": "stdout",
     "output_type": "stream",
     "text": [
      "Proportion of goals scored behind the goal line: 0.005809064008721383\n"
     ]
    }
   ],
   "source": [
    "print(\"Proportion of goals scored behind the goal line:\", \n",
    "      len(plays.loc[(plays['st_x']>90) & (plays['event']=='Goal')]) / len(plays.loc[plays['event']=='Goal']))"
   ]
  },
  {
   "cell_type": "code",
   "execution_count": 39,
   "metadata": {},
   "outputs": [
    {
     "data": {
      "text/html": [
       "<div>\n",
       "<style scoped>\n",
       "    .dataframe tbody tr th:only-of-type {\n",
       "        vertical-align: middle;\n",
       "    }\n",
       "\n",
       "    .dataframe tbody tr th {\n",
       "        vertical-align: top;\n",
       "    }\n",
       "\n",
       "    .dataframe thead th {\n",
       "        text-align: right;\n",
       "    }\n",
       "</style>\n",
       "<table border=\"1\" class=\"dataframe\">\n",
       "  <thead>\n",
       "    <tr style=\"text-align: right;\">\n",
       "      <th></th>\n",
       "      <th>dateTime</th>\n",
       "      <th>description</th>\n",
       "      <th>period</th>\n",
       "      <th>periodTimeRemaining</th>\n",
       "    </tr>\n",
       "  </thead>\n",
       "  <tbody>\n",
       "    <tr>\n",
       "      <th>12621</th>\n",
       "      <td>2011-05-01 03:30:08</td>\n",
       "      <td>Ryan Suter (1) Wrist Shot, assists: Martin Era...</td>\n",
       "      <td>3</td>\n",
       "      <td>67</td>\n",
       "    </tr>\n",
       "    <tr>\n",
       "      <th>14924</th>\n",
       "      <td>2011-05-08 01:15:13</td>\n",
       "      <td>David Legwand (5) Wrist Shot, assists: none</td>\n",
       "      <td>2</td>\n",
       "      <td>1149</td>\n",
       "    </tr>\n",
       "    <tr>\n",
       "      <th>58330</th>\n",
       "      <td>2011-04-21 00:11:56</td>\n",
       "      <td>Artem Anisimov (1) Wrist Shot, assists: Chris ...</td>\n",
       "      <td>2</td>\n",
       "      <td>876</td>\n",
       "    </tr>\n",
       "    <tr>\n",
       "      <th>76598</th>\n",
       "      <td>2012-05-26 02:47:18</td>\n",
       "      <td>Adam Henrique (3) Wrist Shot, assists: Ilya Ko...</td>\n",
       "      <td>4</td>\n",
       "      <td>1137</td>\n",
       "    </tr>\n",
       "    <tr>\n",
       "      <th>96663</th>\n",
       "      <td>2016-04-15 03:59:21</td>\n",
       "      <td>Jeff Carter (1) Wrist Shot, assists: Milan Luc...</td>\n",
       "      <td>2</td>\n",
       "      <td>750</td>\n",
       "    </tr>\n",
       "  </tbody>\n",
       "</table>\n",
       "</div>"
      ],
      "text/plain": [
       "                  dateTime                                        description  \\\n",
       "12621  2011-05-01 03:30:08  Ryan Suter (1) Wrist Shot, assists: Martin Era...   \n",
       "14924  2011-05-08 01:15:13        David Legwand (5) Wrist Shot, assists: none   \n",
       "58330  2011-04-21 00:11:56  Artem Anisimov (1) Wrist Shot, assists: Chris ...   \n",
       "76598  2012-05-26 02:47:18  Adam Henrique (3) Wrist Shot, assists: Ilya Ko...   \n",
       "96663  2016-04-15 03:59:21  Jeff Carter (1) Wrist Shot, assists: Milan Luc...   \n",
       "\n",
       "       period  periodTimeRemaining  \n",
       "12621       3                   67  \n",
       "14924       2                 1149  \n",
       "58330       2                  876  \n",
       "76598       4                 1137  \n",
       "96663       2                  750  "
      ]
     },
     "execution_count": 39,
     "metadata": {},
     "output_type": "execute_result"
    }
   ],
   "source": [
    "plays.loc[(plays['st_x']>90) & (plays['event']=='Goal'), ['dateTime', 'description', 'period', 'periodTimeRemaining']].head()"
   ]
  },
  {
   "cell_type": "code",
   "execution_count": 35,
   "metadata": {},
   "outputs": [],
   "source": [
    "unique_y = np.sort(plays['st_y'].unique()[1:])\n",
    "prop_goal_y = np.zeros(len(unique_y))\n",
    "\n",
    "for i, y in enumerate(unique_y):\n",
    "    n_goals = len(plays.loc[(plays['st_y']==y) & (plays['event']=='Goal'), :])\n",
    "    n_shots = len(plays.loc[(plays['st_y']==y) & (plays['event']=='Shot'), :])\n",
    "    prop_goal_y[i] = n_goals / (n_goals + n_shots)"
   ]
  },
  {
   "cell_type": "code",
   "execution_count": 49,
   "metadata": {},
   "outputs": [
    {
     "data": {
      "image/png": "[encoded data removed]",
      "text/plain": [
       "<Figure size 640x480 with 1 Axes>"
      ]
     },
     "metadata": {},
     "output_type": "display_data"
    }
   ],
   "source": [
    "plt.style.use('default')\n",
    "\n",
    "plt.plot(unique_y, prop_goal_y, 'green')\n",
    "\n",
    "plt.xlabel('st_y', fontsize=16)\n",
    "plt.ylabel('Goals per shots', fontsize=16)\n",
    "\n",
    "plt.axvline(0, 0, 1, c='black', linestyle='dashed')\n",
    "plt.grid(linestyle='dashed')\n",
    "plt.tight_layout()\n",
    "\n",
    "plt.savefig('img/prop_goals_y.png')\n",
    "plt.show()"
   ]
  },
  {
   "cell_type": "code",
   "execution_count": null,
   "metadata": {},
   "outputs": [],
   "source": [
    "plays['game_time'] = (plays['period']-1)*1200+plays['periodTime']\n",
    "# plays = plays.loc[plays['game_time'] <= 3000, :]"
   ]
  },
  {
   "cell_type": "code",
   "execution_count": null,
   "metadata": {},
   "outputs": [],
   "source": [
    "plays = plays.loc[~((plays['x']==0) & (plays['y']==0) & (plays['event']=='Faceoff'))]"
   ]
  },
  {
   "cell_type": "code",
   "execution_count": null,
   "metadata": {},
   "outputs": [],
   "source": [
    "# plays = plays.dropna()"
   ]
  },
  {
   "cell_type": "code",
   "execution_count": 73,
   "metadata": {},
   "outputs": [
    {
     "name": "stdout",
     "output_type": "stream",
     "text": [
      "Number of rows dropped: 6607\n",
      "Proportion of rows dropped: 0.002440800340167845\n"
     ]
    }
   ],
   "source": [
    "relevant_events = ['Faceoff', 'Giveaway', 'Blocked Shot', 'Shot', \n",
    "                    'Hit', 'Penalty', 'Takeaway', 'Missed Shot']\n",
    "\n",
    "plays = plays[plays['event'].isin(relevant_events)] \n",
    "    # Only predict based on these events\n",
    "\n",
    "    # plays['game_time'] = (plays['period']-1)*1200+plays['periodTime']\n",
    "plays = plays[plays['period'] <= 3] # Only plays in regulation included\n",
    "    \n",
    "relevant_columns = ['game_id', 'team_id_for', 'team_id_against', \n",
    "                        'event', 'st_x', 'st_y']\n",
    "plays = plays.loc[:, relevant_columns]\n",
    "\n",
    "plays = plays.loc[~((plays['st_x']==0) & (plays['st_y']==0) & (plays['event']=='Faceoff'))]\n",
    "\n",
    "print(\"Number of rows dropped:\", plays.shape[0]-plays.dropna().shape[0])\n",
    "print(\"Proportion of rows dropped:\", (plays.shape[0]-plays.dropna().shape[0]) / plays.shape[0])\n",
    "plays = plays.dropna()"
   ]
  },
  {
   "cell_type": "code",
   "execution_count": 74,
   "metadata": {},
   "outputs": [],
   "source": [
    "plays = pd.get_dummies(plays, columns=['event'])\n",
    "plays['event_dummy'] = 0\n",
    "\n",
    "plays.rename(columns=lambda x: x.replace(' ', '_').lower(), inplace=True)\n",
    "\n",
    "games = games.loc[games['game_id'].isin(plays['game_id'].unique()), :]\n",
    "games = games.sort_values(by='game_id')\n",
    "\n",
    "plays = plays.merge(games, on='game_id')"
   ]
  },
  {
   "cell_type": "code",
   "execution_count": 21,
   "metadata": {},
   "outputs": [
    {
     "data": {
      "text/html": [
       "<div>\n",
       "<style scoped>\n",
       "    .dataframe tbody tr th:only-of-type {\n",
       "        vertical-align: middle;\n",
       "    }\n",
       "\n",
       "    .dataframe tbody tr th {\n",
       "        vertical-align: top;\n",
       "    }\n",
       "\n",
       "    .dataframe thead th {\n",
       "        text-align: right;\n",
       "    }\n",
       "</style>\n",
       "<table border=\"1\" class=\"dataframe\">\n",
       "  <thead>\n",
       "    <tr style=\"text-align: right;\">\n",
       "      <th></th>\n",
       "      <th>game_id</th>\n",
       "      <th>team_id_for</th>\n",
       "      <th>team_id_against</th>\n",
       "      <th>st_x</th>\n",
       "      <th>st_y</th>\n",
       "      <th>event_blocked_shot</th>\n",
       "      <th>event_faceoff</th>\n",
       "      <th>event_giveaway</th>\n",
       "      <th>event_hit</th>\n",
       "      <th>event_missed_shot</th>\n",
       "      <th>...</th>\n",
       "      <th>home_team_id</th>\n",
       "      <th>away_goals</th>\n",
       "      <th>home_goals</th>\n",
       "      <th>outcome</th>\n",
       "      <th>home_rink_side_start</th>\n",
       "      <th>venue</th>\n",
       "      <th>venue_link</th>\n",
       "      <th>venue_time_zone_id</th>\n",
       "      <th>venue_time_zone_offset</th>\n",
       "      <th>venue_time_zone_tz</th>\n",
       "    </tr>\n",
       "  </thead>\n",
       "  <tbody>\n",
       "    <tr>\n",
       "      <th>0</th>\n",
       "      <td>2011030221</td>\n",
       "      <td>4.0</td>\n",
       "      <td>1.0</td>\n",
       "      <td>-28.0</td>\n",
       "      <td>-24.0</td>\n",
       "      <td>0</td>\n",
       "      <td>0</td>\n",
       "      <td>1</td>\n",
       "      <td>0</td>\n",
       "      <td>0</td>\n",
       "      <td>...</td>\n",
       "      <td>4</td>\n",
       "      <td>3</td>\n",
       "      <td>4</td>\n",
       "      <td>home win OT</td>\n",
       "      <td>right</td>\n",
       "      <td>Wells Fargo Center</td>\n",
       "      <td>/api/v1/venues/null</td>\n",
       "      <td>America/New_York</td>\n",
       "      <td>-4</td>\n",
       "      <td>EDT</td>\n",
       "    </tr>\n",
       "    <tr>\n",
       "      <th>1</th>\n",
       "      <td>2011030221</td>\n",
       "      <td>4.0</td>\n",
       "      <td>1.0</td>\n",
       "      <td>-52.0</td>\n",
       "      <td>-28.0</td>\n",
       "      <td>1</td>\n",
       "      <td>0</td>\n",
       "      <td>0</td>\n",
       "      <td>0</td>\n",
       "      <td>0</td>\n",
       "      <td>...</td>\n",
       "      <td>4</td>\n",
       "      <td>3</td>\n",
       "      <td>4</td>\n",
       "      <td>home win OT</td>\n",
       "      <td>right</td>\n",
       "      <td>Wells Fargo Center</td>\n",
       "      <td>/api/v1/venues/null</td>\n",
       "      <td>America/New_York</td>\n",
       "      <td>-4</td>\n",
       "      <td>EDT</td>\n",
       "    </tr>\n",
       "    <tr>\n",
       "      <th>2</th>\n",
       "      <td>2011030221</td>\n",
       "      <td>1.0</td>\n",
       "      <td>4.0</td>\n",
       "      <td>80.0</td>\n",
       "      <td>-3.0</td>\n",
       "      <td>0</td>\n",
       "      <td>0</td>\n",
       "      <td>0</td>\n",
       "      <td>0</td>\n",
       "      <td>0</td>\n",
       "      <td>...</td>\n",
       "      <td>4</td>\n",
       "      <td>3</td>\n",
       "      <td>4</td>\n",
       "      <td>home win OT</td>\n",
       "      <td>right</td>\n",
       "      <td>Wells Fargo Center</td>\n",
       "      <td>/api/v1/venues/null</td>\n",
       "      <td>America/New_York</td>\n",
       "      <td>-4</td>\n",
       "      <td>EDT</td>\n",
       "    </tr>\n",
       "    <tr>\n",
       "      <th>3</th>\n",
       "      <td>2011030221</td>\n",
       "      <td>1.0</td>\n",
       "      <td>4.0</td>\n",
       "      <td>-30.0</td>\n",
       "      <td>-38.0</td>\n",
       "      <td>0</td>\n",
       "      <td>0</td>\n",
       "      <td>0</td>\n",
       "      <td>1</td>\n",
       "      <td>0</td>\n",
       "      <td>...</td>\n",
       "      <td>4</td>\n",
       "      <td>3</td>\n",
       "      <td>4</td>\n",
       "      <td>home win OT</td>\n",
       "      <td>right</td>\n",
       "      <td>Wells Fargo Center</td>\n",
       "      <td>/api/v1/venues/null</td>\n",
       "      <td>America/New_York</td>\n",
       "      <td>-4</td>\n",
       "      <td>EDT</td>\n",
       "    </tr>\n",
       "    <tr>\n",
       "      <th>4</th>\n",
       "      <td>2011030221</td>\n",
       "      <td>4.0</td>\n",
       "      <td>1.0</td>\n",
       "      <td>60.0</td>\n",
       "      <td>-39.0</td>\n",
       "      <td>0</td>\n",
       "      <td>0</td>\n",
       "      <td>1</td>\n",
       "      <td>0</td>\n",
       "      <td>0</td>\n",
       "      <td>...</td>\n",
       "      <td>4</td>\n",
       "      <td>3</td>\n",
       "      <td>4</td>\n",
       "      <td>home win OT</td>\n",
       "      <td>right</td>\n",
       "      <td>Wells Fargo Center</td>\n",
       "      <td>/api/v1/venues/null</td>\n",
       "      <td>America/New_York</td>\n",
       "      <td>-4</td>\n",
       "      <td>EDT</td>\n",
       "    </tr>\n",
       "  </tbody>\n",
       "</table>\n",
       "<p>5 rows × 29 columns</p>\n",
       "</div>"
      ],
      "text/plain": [
       "      game_id  team_id_for  team_id_against  st_x  st_y  event_blocked_shot  \\\n",
       "0  2011030221          4.0              1.0 -28.0 -24.0                   0   \n",
       "1  2011030221          4.0              1.0 -52.0 -28.0                   1   \n",
       "2  2011030221          1.0              4.0  80.0  -3.0                   0   \n",
       "3  2011030221          1.0              4.0 -30.0 -38.0                   0   \n",
       "4  2011030221          4.0              1.0  60.0 -39.0                   0   \n",
       "\n",
       "   event_faceoff  event_giveaway  event_hit  event_missed_shot  ...  \\\n",
       "0              0               1          0                  0  ...   \n",
       "1              0               0          0                  0  ...   \n",
       "2              0               0          0                  0  ...   \n",
       "3              0               0          1                  0  ...   \n",
       "4              0               1          0                  0  ...   \n",
       "\n",
       "   home_team_id  away_goals  home_goals      outcome  home_rink_side_start  \\\n",
       "0             4           3           4  home win OT                 right   \n",
       "1             4           3           4  home win OT                 right   \n",
       "2             4           3           4  home win OT                 right   \n",
       "3             4           3           4  home win OT                 right   \n",
       "4             4           3           4  home win OT                 right   \n",
       "\n",
       "                venue           venue_link venue_time_zone_id  \\\n",
       "0  Wells Fargo Center  /api/v1/venues/null   America/New_York   \n",
       "1  Wells Fargo Center  /api/v1/venues/null   America/New_York   \n",
       "2  Wells Fargo Center  /api/v1/venues/null   America/New_York   \n",
       "3  Wells Fargo Center  /api/v1/venues/null   America/New_York   \n",
       "4  Wells Fargo Center  /api/v1/venues/null   America/New_York   \n",
       "\n",
       "   venue_time_zone_offset  venue_time_zone_tz  \n",
       "0                      -4                 EDT  \n",
       "1                      -4                 EDT  \n",
       "2                      -4                 EDT  \n",
       "3                      -4                 EDT  \n",
       "4                      -4                 EDT  \n",
       "\n",
       "[5 rows x 29 columns]"
      ]
     },
     "execution_count": 21,
     "metadata": {},
     "output_type": "execute_result"
    }
   ],
   "source": [
    "plays.head()"
   ]
  },
  {
   "cell_type": "code",
   "execution_count": 60,
   "metadata": {},
   "outputs": [],
   "source": [
    "def home_team_for(ids):\n",
    "    if ids[0] == ids[1]:\n",
    "        return 1\n",
    "    else:\n",
    "        return 0\n",
    "\n",
    "plays['home_team_for'] = plays[['team_id_for', 'home_team_id']].apply(\n",
    "                     home_team_for, axis=1)"
   ]
  },
  {
   "cell_type": "code",
   "execution_count": 75,
   "metadata": {},
   "outputs": [],
   "source": [
    "X = np.load('data/numpy/X_result_no_measures.npy')"
   ]
  },
  {
   "cell_type": "code",
   "execution_count": 81,
   "metadata": {},
   "outputs": [
    {
     "name": "stdout",
     "output_type": "stream",
     "text": [
      "[0. 0. 0. 0. 0. 0. 0. 0. 0. 0. 0. 1. 0.]\n"
     ]
    }
   ],
   "source": [
    "print(X[0, -8, :])"
   ]
  },
  {
   "cell_type": "code",
   "execution_count": 15,
   "metadata": {},
   "outputs": [
    {
     "name": "stdout",
     "output_type": "stream",
     "text": [
      "Shot            610054\n",
      "Faceoff         553149\n",
      "Hit             526797\n",
      "Blocked Shot    319503\n",
      "Missed Shot     260704\n",
      "Giveaway        191950\n",
      "Takeaway        152761\n",
      "Penalty          85374\n",
      "Name: event, dtype: int64\n"
     ]
    }
   ],
   "source": [
    "print(plays['event'].value_counts())"
   ]
  },
  {
   "cell_type": "code",
   "execution_count": null,
   "metadata": {},
   "outputs": [],
   "source": [
    "# plays.groupby(['game_id']).size()"
   ]
  },
  {
   "cell_type": "code",
   "execution_count": 61,
   "metadata": {},
   "outputs": [],
   "source": [
    "predict_columns = ['game_id', 'st_x', 'st_y', 'distance', 'angle',\n",
    "                        'home_team_for', 'offensive_zone_home', 'offensive_zone_away']\n",
    "\n",
    "plays = plays.loc[:, (plays.columns.isin(predict_columns) | \n",
    "            plays.columns.str.contains('event'))]"
   ]
  },
  {
   "cell_type": "code",
   "execution_count": 64,
   "metadata": {},
   "outputs": [],
   "source": [
    "from sklearn.preprocessing import StandardScaler\n",
    "scaler = StandardScaler()"
   ]
  },
  {
   "cell_type": "code",
   "execution_count": 65,
   "metadata": {},
   "outputs": [],
   "source": [
    "scale_columns = ['st_x', 'st_y', 'distance', 'angle']\n",
    "plays.loc[:, plays.columns.isin(scale_columns)] = scaler.fit_transform(\n",
    "                            plays.loc[:, plays.columns.isin(scale_columns)])"
   ]
  },
  {
   "cell_type": "code",
   "execution_count": 69,
   "metadata": {},
   "outputs": [
    {
     "name": "stdout",
     "output_type": "stream",
     "text": [
      "\\begin{tabular}{rrrrrr}\n",
      "\\toprule\n",
      " home\\_team\\_for &  event\\_blocked\\_shot &  event\\_giveaway &  event\\_dummy &      st\\_x &      st\\_y \\\\\n",
      "\\midrule\n",
      "             1 &                   0 &               1 &            0 & -0.571569 & -1.018541 \\\\\n",
      "             1 &                   1 &               0 &            0 & -0.941974 & -1.187034 \\\\\n",
      "\\bottomrule\n",
      "\\end{tabular}\n",
      "\n"
     ]
    }
   ],
   "source": [
    "print(plays.loc[plays['game_id']==2011030221, ['home_team_for', 'event_blocked_shot', 'event_giveaway', 'event_dummy', 'st_x', 'st_y']].head(2).to_latex(index=False))"
   ]
  },
  {
   "cell_type": "code",
   "execution_count": null,
   "metadata": {},
   "outputs": [],
   "source": [
    "sns.set()\n",
    "\n",
    "sns.distplot(plays.loc[plays['event']=='Goal','st_x'].dropna())\n",
    "plt.show()"
   ]
  },
  {
   "cell_type": "code",
   "execution_count": null,
   "metadata": {},
   "outputs": [],
   "source": [
    "sns.distplot(plays.loc[plays['event']=='Goal','st_y'].dropna())\n",
    "plt.show()"
   ]
  },
  {
   "cell_type": "code",
   "execution_count": null,
   "metadata": {},
   "outputs": [],
   "source": [
    "def distance(x):\n",
    "    return np.sqrt((x[0]-90.0)**2+x[1]**2)\n",
    "\n",
    "def angle(x):\n",
    "    if 90.0-x[0] == x[1]:\n",
    "        return 0\n",
    "    else:\n",
    "        return np.degrees(np.arccos((90.0-x[0])/x[1]))\n",
    "    \n",
    "def danger(distance):\n",
    "    if distance <= 15:\n",
    "        return 'a_high'\n",
    "    elif distance <= 30:\n",
    "        return 'b_med'\n",
    "    else:\n",
    "        return 'c_low'"
   ]
  },
  {
   "cell_type": "code",
   "execution_count": null,
   "metadata": {},
   "outputs": [],
   "source": [
    "plays['distance'] = plays.loc[:,['st_x', 'st_y']].apply(distance, axis=1)"
   ]
  },
  {
   "cell_type": "code",
   "execution_count": null,
   "metadata": {},
   "outputs": [],
   "source": [
    "plays['angle'] = plays.loc[:,['st_x', 'distance']].apply(angle, axis=1)"
   ]
  },
  {
   "cell_type": "code",
   "execution_count": null,
   "metadata": {},
   "outputs": [],
   "source": [
    "plays['danger'] = 'd_not_a_shot'\n",
    "shots = ['Shot', 'Missed Shot', 'Goal']\n",
    "plays.loc[plays['event'].isin(shots), 'danger'] = plays.loc[plays['event'].isin(shots), 'distance'].apply(danger)"
   ]
  },
  {
   "cell_type": "code",
   "execution_count": null,
   "metadata": {},
   "outputs": [],
   "source": [
    "plays.head()"
   ]
  },
  {
   "cell_type": "code",
   "execution_count": null,
   "metadata": {},
   "outputs": [],
   "source": [
    "# plays.to_csv(\"data/plays_improved.csv\")"
   ]
  },
  {
   "cell_type": "code",
   "execution_count": null,
   "metadata": {},
   "outputs": [],
   "source": [
    "# goals = plays[plays['event']=='Goal']"
   ]
  },
  {
   "cell_type": "code",
   "execution_count": null,
   "metadata": {},
   "outputs": [],
   "source": [
    "plays[((plays['event']=='Goal') & (plays['distance'] > 30))].shape[0]"
   ]
  },
  {
   "cell_type": "code",
   "execution_count": null,
   "metadata": {},
   "outputs": [],
   "source": [
    "n_goals_high = plays[((plays['event']=='Goal') & (plays['distance'] <= 15))].shape[0]\n",
    "n_shots_high = n_goals_high + plays[(((plays['event']=='Shot') | (plays['event']==' Missed Shot')) & (plays['distance'] <= 15))].shape[0]\n",
    "\n",
    "print(n_goals_high / n_shots_high)"
   ]
  },
  {
   "cell_type": "code",
   "execution_count": null,
   "metadata": {},
   "outputs": [],
   "source": [
    "n_goals_low = plays[((plays['event']=='Goal') & (plays['distance'] > 30))].shape[0]\n",
    "n_shots_low = n_goals_low + plays[(((plays['event']=='Shot') | (plays['event']==' Missed Shot')) & (plays['distance'] > 30))].shape[0]\n",
    "\n",
    "print(n_goals_low / n_shots_low)"
   ]
  },
  {
   "cell_type": "code",
   "execution_count": null,
   "metadata": {},
   "outputs": [],
   "source": [
    "n_goals_med = plays[((plays['event']=='Goal') & (plays['distance'] <= 30) & (plays['distance'] > 15))].shape[0]\n",
    "n_shots_med = n_goals_med + plays[(((plays['event']=='Shot') | (plays['event']==' Missed Shot')) & (plays['distance'] <= 30) & \n",
    "                                   (plays['distance'] > 15))].shape[0]\n",
    "\n",
    "print(n_goals_med / n_shots_med)"
   ]
  },
  {
   "cell_type": "code",
   "execution_count": null,
   "metadata": {},
   "outputs": [],
   "source": [
    "plays[((plays['event']=='Goal') & ((plays['distance'] > 45) | (plays['angle'] > 40)))].shape[0]"
   ]
  },
  {
   "cell_type": "code",
   "execution_count": null,
   "metadata": {},
   "outputs": [],
   "source": [
    "plays[plays['event']=='Goal'].shape"
   ]
  },
  {
   "cell_type": "code",
   "execution_count": null,
   "metadata": {},
   "outputs": [],
   "source": [
    "sns.set()\n",
    "\n",
    "sns.distplot(plays.groupby(['game_id']).size())\n",
    "plt.show()"
   ]
  },
  {
   "cell_type": "code",
   "execution_count": null,
   "metadata": {},
   "outputs": [],
   "source": [
    "sns.distplot(plays.loc[plays['event']=='Goal', 'distance'].dropna())\n",
    "\n",
    "plt.show()"
   ]
  },
  {
   "cell_type": "code",
   "execution_count": null,
   "metadata": {},
   "outputs": [],
   "source": [
    "sns.distplot(plays.loc[plays['event']=='Goal', 'angle'].dropna())\n",
    "\n",
    "plt.show()"
   ]
  },
  {
   "cell_type": "code",
   "execution_count": null,
   "metadata": {},
   "outputs": [],
   "source": [
    "plays.groupby(['game_id']).size().describe()"
   ]
  },
  {
   "cell_type": "code",
   "execution_count": null,
   "metadata": {},
   "outputs": [],
   "source": [
    "plays.groupby(['game_id']).size().min()"
   ]
  },
  {
   "cell_type": "code",
   "execution_count": null,
   "metadata": {},
   "outputs": [],
   "source": [
    "index_min = plays.groupby(['game_id']).size().idxmin()"
   ]
  },
  {
   "cell_type": "code",
   "execution_count": null,
   "metadata": {},
   "outputs": [],
   "source": [
    "plays.loc[plays['game_id']==index_min].tail()"
   ]
  },
  {
   "cell_type": "code",
   "execution_count": null,
   "metadata": {},
   "outputs": [],
   "source": [
    "# plays.loc[plays['game_id']==index_min]['game_time'].values[118]"
   ]
  },
  {
   "cell_type": "code",
   "execution_count": null,
   "metadata": {},
   "outputs": [],
   "source": [
    "lower = plays.groupby(['game_id']).size().describe()['25%'].astype(np.int64)\n",
    "upper = plays.groupby(['game_id']).size().describe()['75%'].astype(np.int64)\n",
    "\n",
    "print(lower, upper)"
   ]
  },
  {
   "cell_type": "code",
   "execution_count": null,
   "metadata": {},
   "outputs": [],
   "source": [
    "# min_events = int(plays.groupby(['game_id']).size().min())\n",
    "\n",
    "times = []\n",
    "\n",
    "for game_id in plays['game_id'].unique():\n",
    "    n_events = len(plays.loc[plays['game_id']==game_id])\n",
    "    if n_events >= lower and n_events <= upper:\n",
    "        times.append(plays.loc[plays['game_id']==game_id]['game_time'].values[-1])"
   ]
  },
  {
   "cell_type": "code",
   "execution_count": null,
   "metadata": {},
   "outputs": [],
   "source": [
    "print(np.amin(times))"
   ]
  },
  {
   "cell_type": "code",
   "execution_count": null,
   "metadata": {},
   "outputs": [],
   "source": [
    "ids = []\n",
    "\n",
    "for game_id in plays['game_id'].unique():\n",
    "    n_events = len(plays.loc[plays['game_id']==game_id])\n",
    "    if n_events >= lower and n_events <= upper:\n",
    "        ids.append(game_id)"
   ]
  },
  {
   "cell_type": "code",
   "execution_count": null,
   "metadata": {},
   "outputs": [],
   "source": [
    "plays = plays.loc[plays['game_id'].isin(ids)]"
   ]
  },
  {
   "cell_type": "code",
   "execution_count": null,
   "metadata": {},
   "outputs": [],
   "source": [
    "relevant_columns = ['game_id', 'team_id_for', 'team_id_against', 'event',\n",
    "                   'st_x', 'st_y', 'game_time', 'danger']\n",
    "plays = plays.loc[:, plays.columns.isin(relevant_columns)]"
   ]
  },
  {
   "cell_type": "code",
   "execution_count": null,
   "metadata": {},
   "outputs": [],
   "source": [
    "plays.head()"
   ]
  },
  {
   "cell_type": "code",
   "execution_count": null,
   "metadata": {},
   "outputs": [],
   "source": [
    "# plays = plays.set_index('game_id')"
   ]
  },
  {
   "cell_type": "code",
   "execution_count": null,
   "metadata": {},
   "outputs": [],
   "source": [
    "plays = pd.get_dummies(plays, columns=['event'])"
   ]
  },
  {
   "cell_type": "code",
   "execution_count": null,
   "metadata": {},
   "outputs": [],
   "source": [
    "plays.head()"
   ]
  },
  {
   "cell_type": "code",
   "execution_count": null,
   "metadata": {},
   "outputs": [],
   "source": [
    "# teams = pd.read_csv('data/team_info.csv')"
   ]
  },
  {
   "cell_type": "code",
   "execution_count": null,
   "metadata": {},
   "outputs": [],
   "source": [
    "# teams.head()"
   ]
  },
  {
   "cell_type": "code",
   "execution_count": null,
   "metadata": {},
   "outputs": [],
   "source": [
    "plays.rename(columns=lambda x: x.replace(' ', '_').lower(), inplace=True)"
   ]
  },
  {
   "cell_type": "code",
   "execution_count": null,
   "metadata": {},
   "outputs": [],
   "source": [
    "plays.head()"
   ]
  },
  {
   "cell_type": "code",
   "execution_count": null,
   "metadata": {},
   "outputs": [],
   "source": [
    "plays.columns"
   ]
  },
  {
   "cell_type": "code",
   "execution_count": null,
   "metadata": {},
   "outputs": [],
   "source": [
    "plays.groupby(['game_id']).size().describe()"
   ]
  },
  {
   "cell_type": "code",
   "execution_count": null,
   "metadata": {},
   "outputs": [],
   "source": [
    "# plays = pd.get_dummies(plays, columns=['abbreviation_for', 'abbreviation_against'])"
   ]
  },
  {
   "cell_type": "code",
   "execution_count": null,
   "metadata": {},
   "outputs": [],
   "source": [
    "games = pd.read_csv('data/game.csv')\n",
    "games.head()"
   ]
  },
  {
   "cell_type": "code",
   "execution_count": null,
   "metadata": {},
   "outputs": [],
   "source": [
    "plays.info()"
   ]
  },
  {
   "cell_type": "code",
   "execution_count": null,
   "metadata": {},
   "outputs": [],
   "source": [
    "games = games.loc[games['game_id'].isin(plays['game_id'].unique()), :]"
   ]
  },
  {
   "cell_type": "code",
   "execution_count": null,
   "metadata": {},
   "outputs": [],
   "source": [
    "games = games.sort_values(by='game_id')"
   ]
  },
  {
   "cell_type": "code",
   "execution_count": null,
   "metadata": {},
   "outputs": [],
   "source": [
    "games['outcome'].unique()"
   ]
  },
  {
   "cell_type": "code",
   "execution_count": null,
   "metadata": {},
   "outputs": [],
   "source": [
    "plays = plays.merge(games, on='game_id')\n",
    "plays.head()"
   ]
  },
  {
   "cell_type": "code",
   "execution_count": null,
   "metadata": {},
   "outputs": [],
   "source": [
    "plays.columns"
   ]
  },
  {
   "cell_type": "code",
   "execution_count": null,
   "metadata": {},
   "outputs": [],
   "source": [
    "sns.distplot(plays.loc[plays['team_id_for']==plays['home_team_id']]['st_y'].dropna())\n",
    "sns.distplot(plays.loc[plays['team_id_for']==plays['away_team_id']]['st_y'].dropna())\n",
    "\n",
    "plt.show()"
   ]
  },
  {
   "cell_type": "code",
   "execution_count": null,
   "metadata": {},
   "outputs": [],
   "source": [
    "sns.distplot(plays.loc[plays['team_id_for']==plays['home_team_id']]['st_x'].dropna())\n",
    "sns.distplot(plays.loc[plays['team_id_for']==plays['away_team_id']]['st_x'].dropna())\n",
    "\n",
    "plt.show()"
   ]
  },
  {
   "cell_type": "code",
   "execution_count": null,
   "metadata": {},
   "outputs": [],
   "source": [
    "def home_team_for(ids):\n",
    "    if ids[0] == ids[1]:\n",
    "        return 'for'\n",
    "    else:\n",
    "        return 'against'\n",
    "    \n",
    "def result(result):\n",
    "    if ('OT' or 'SO') in result:\n",
    "        return 'b_tie'\n",
    "    elif 'home' in result:\n",
    "        return 'a_home_win'\n",
    "    else:\n",
    "        return 'c_away_win'\n",
    "    \n",
    "def offensive_zone_home(x):\n",
    "    if x[0] >= 25 and x[1] == 1:\n",
    "        return 1\n",
    "    elif x[0] <= -25 and x[1] == 0:\n",
    "        return 1\n",
    "    else:\n",
    "        return 0\n",
    "\n",
    "def offensive_zone_away(x):\n",
    "    if x[0] >= 25 and x[1] == 0:\n",
    "        return 1\n",
    "    if x[0] <= -25 and x[1] == 1:\n",
    "        return 1\n",
    "    else:\n",
    "        return 0"
   ]
  },
  {
   "cell_type": "code",
   "execution_count": null,
   "metadata": {},
   "outputs": [],
   "source": [
    "plays['home_team_for'] = plays[['team_id_for', 'home_team_id']].apply(home_team_for, axis=1)"
   ]
  },
  {
   "cell_type": "code",
   "execution_count": null,
   "metadata": {},
   "outputs": [],
   "source": [
    "games['result'] = games['outcome'].apply(result)"
   ]
  },
  {
   "cell_type": "code",
   "execution_count": null,
   "metadata": {},
   "outputs": [],
   "source": [
    "print(plays['home_team_for'].value_counts())\n",
    "print(games['result'].value_counts())"
   ]
  },
  {
   "cell_type": "code",
   "execution_count": null,
   "metadata": {},
   "outputs": [],
   "source": [
    "plays.head()"
   ]
  },
  {
   "cell_type": "code",
   "execution_count": null,
   "metadata": {},
   "outputs": [],
   "source": [
    "plays.columns"
   ]
  },
  {
   "cell_type": "code",
   "execution_count": null,
   "metadata": {},
   "outputs": [],
   "source": [
    "pd.get_dummies(games['result'])"
   ]
  },
  {
   "cell_type": "code",
   "execution_count": null,
   "metadata": {},
   "outputs": [],
   "source": [
    "pd.get_dummies(games['result']).to_numpy(dtype=np.int8)"
   ]
  },
  {
   "cell_type": "code",
   "execution_count": null,
   "metadata": {},
   "outputs": [],
   "source": [
    "y = pd.get_dummies(games['result']).to_numpy(dtype=np.int8)"
   ]
  },
  {
   "cell_type": "code",
   "execution_count": null,
   "metadata": {},
   "outputs": [],
   "source": [
    "plays['home_team_for'] = plays['home_team_for'].astype('category').cat.codes"
   ]
  },
  {
   "cell_type": "code",
   "execution_count": null,
   "metadata": {},
   "outputs": [],
   "source": [
    "plays.head()"
   ]
  },
  {
   "cell_type": "code",
   "execution_count": null,
   "metadata": {},
   "outputs": [],
   "source": [
    "plays['home_team_for'][:5]"
   ]
  },
  {
   "cell_type": "code",
   "execution_count": null,
   "metadata": {},
   "outputs": [],
   "source": [
    "relevant_columns = ['game_id', 'st_x', 'st_y', 'game_time', 'distance', 'angle', 'home_team_for']"
   ]
  },
  {
   "cell_type": "code",
   "execution_count": null,
   "metadata": {},
   "outputs": [],
   "source": [
    "plays = plays.loc[:, (plays.columns.isin(relevant_columns) | plays.columns.str.contains('event') | plays.columns.str.contains('danger'))]"
   ]
  },
  {
   "cell_type": "code",
   "execution_count": null,
   "metadata": {},
   "outputs": [],
   "source": [
    "plays.head()"
   ]
  },
  {
   "cell_type": "code",
   "execution_count": null,
   "metadata": {},
   "outputs": [],
   "source": [
    "plays['offensive_zone_home'] = plays[['st_x', 'home_team']].apply(offensive_zone_home, axis=1)\n",
    "plays['offensive_zone_away'] = plays[['st_x', 'home_team']].apply(offensive_zone_away, axis=1)"
   ]
  },
  {
   "cell_type": "code",
   "execution_count": null,
   "metadata": {},
   "outputs": [],
   "source": [
    "n_games = len(plays.game_id.unique())\n",
    "n_events = plays.groupby(['game_id']).size().describe()['min'].astype(np.int64)\n",
    "n_columns = len(plays.columns)-1"
   ]
  },
  {
   "cell_type": "code",
   "execution_count": null,
   "metadata": {},
   "outputs": [],
   "source": [
    "n_columns = 2\n",
    "\n",
    "X = np.zeros((n_games, n_events, n_columns), dtype=np.int32)\n",
    "\n",
    "print(n_games, n_events, n_columns)\n",
    "print(X.shape)"
   ]
  },
  {
   "cell_type": "code",
   "execution_count": null,
   "metadata": {},
   "outputs": [],
   "source": [
    "for i, game_id in enumerate(sorted(plays.game_id.unique())):\n",
    "    game_events = plays[plays['game_id'] == game_id].iloc[:n_events,4:].to_numpy(dtype=np.int32)\n",
    "    # fill = np.full((n_events-game_events.shape[0], n_columns), np.nan)\n",
    "    # full_events = np.vstack((game_events, fill))\n",
    "    X[i] = game_events    "
   ]
  },
  {
   "cell_type": "code",
   "execution_count": null,
   "metadata": {},
   "outputs": [],
   "source": [
    "for i, game_id in enumerate(sorted(plays.game_id.unique())):\n",
    "    print(game_id)\n",
    "    if i == 10:\n",
    "        break"
   ]
  },
  {
   "cell_type": "code",
   "execution_count": null,
   "metadata": {},
   "outputs": [],
   "source": [
    "print(np.array_equal(games.game_id.unique(), sorted(plays.game_id.unique())))"
   ]
  },
  {
   "cell_type": "code",
   "execution_count": null,
   "metadata": {},
   "outputs": [],
   "source": [
    "for i, game_id in enumerate(games.game_id.unique()):\n",
    "    print(game_id)\n",
    "    if i == 10:\n",
    "        break"
   ]
  },
  {
   "cell_type": "code",
   "execution_count": null,
   "metadata": {},
   "outputs": [],
   "source": [
    "plays[plays['game_id']==2011030111]"
   ]
  },
  {
   "cell_type": "code",
   "execution_count": null,
   "metadata": {},
   "outputs": [],
   "source": [
    "print(X.shape)\n",
    "print(y.shape)"
   ]
  },
  {
   "cell_type": "code",
   "execution_count": null,
   "metadata": {},
   "outputs": [],
   "source": [
    "data = {'Goals': tuple(X[:,:,1]), 'Result': tuple(y)}"
   ]
  },
  {
   "cell_type": "code",
   "execution_count": null,
   "metadata": {},
   "outputs": [],
   "source": [
    "df = pd.DataFrame(data, columns=['Goals', 'Result'])"
   ]
  },
  {
   "cell_type": "code",
   "execution_count": null,
   "metadata": {},
   "outputs": [],
   "source": [
    "pd.crosstab(df['Goals'].astype(str), df['Result'].astype(str))"
   ]
  },
  {
   "cell_type": "code",
   "execution_count": null,
   "metadata": {},
   "outputs": [],
   "source": [
    "# games.head()"
   ]
  },
  {
   "cell_type": "code",
   "execution_count": null,
   "metadata": {},
   "outputs": [],
   "source": [
    "# games['result'].head(10)"
   ]
  },
  {
   "cell_type": "code",
   "execution_count": null,
   "metadata": {},
   "outputs": [],
   "source": [
    "print(len(np.unique(plays[['st_x', 'st_y']].values, axis=0)))"
   ]
  },
  {
   "cell_type": "code",
   "execution_count": null,
   "metadata": {},
   "outputs": [],
   "source": [
    "print(len(plays['st_x'].unique()))"
   ]
  },
  {
   "cell_type": "code",
   "execution_count": null,
   "metadata": {},
   "outputs": [],
   "source": [
    "print(len(plays['st_y'].unique()))"
   ]
  },
  {
   "cell_type": "code",
   "execution_count": null,
   "metadata": {},
   "outputs": [],
   "source": [
    "np.unique(plays[['st_x', 'st_y']].dropna().values, axis=0).shape"
   ]
  },
  {
   "cell_type": "code",
   "execution_count": null,
   "metadata": {},
   "outputs": [],
   "source": [
    "plays.shape"
   ]
  },
  {
   "cell_type": "code",
   "execution_count": null,
   "metadata": {},
   "outputs": [],
   "source": [
    "print(plays.groupby(['st_x', 'st_y']).size().describe())"
   ]
  },
  {
   "cell_type": "code",
   "execution_count": null,
   "metadata": {},
   "outputs": [],
   "source": [
    "print(plays.groupby(['st_x', 'st_y']).size().idxmax())"
   ]
  },
  {
   "cell_type": "code",
   "execution_count": null,
   "metadata": {},
   "outputs": [],
   "source": [
    "print(np.around(np.degrees(np.arccos(1)), decimals=-1))"
   ]
  },
  {
   "cell_type": "code",
   "execution_count": null,
   "metadata": {},
   "outputs": [],
   "source": []
  }
 ],
 "metadata": {
  "kernelspec": {
   "display_name": "Python 3",
   "language": "python",
   "name": "python3"
  },
  "language_info": {
   "codemirror_mode": {
    "name": "ipython",
    "version": 3
   },
   "file_extension": ".py",
   "mimetype": "text/x-python",
   "name": "python",
   "nbconvert_exporter": "python",
   "pygments_lexer": "ipython3",
   "version": "3.6.9"
  }
 },
 "nbformat": 4,
 "nbformat_minor": 4
}
