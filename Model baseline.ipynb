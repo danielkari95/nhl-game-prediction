{
 "cells": [
  {
   "cell_type": "code",
   "execution_count": 39,
   "metadata": {},
   "outputs": [],
   "source": [
    "import pandas as pd\n",
    "import numpy as np\n",
    "import tensorflow as tf\n",
    "import matplotlib.pyplot as plt\n",
    "import seaborn as sns\n",
    "\n",
    "from sklearn.model_selection import train_test_split\n",
    "from sklearn.linear_model import LogisticRegression\n",
    "from sklearn.metrics import classification_report, confusion_matrix\n",
    "\n",
    "tf.enable_eager_execution()"
   ]
  },
  {
   "cell_type": "code",
   "execution_count": 3,
   "metadata": {},
   "outputs": [],
   "source": [
    "np.random.seed(1313)\n",
    "tf.set_random_seed(1313)"
   ]
  },
  {
   "cell_type": "code",
   "execution_count": 4,
   "metadata": {},
   "outputs": [],
   "source": [
    "game_stats = pd.read_csv(\"data/game_teams_stats.csv\")"
   ]
  },
  {
   "cell_type": "code",
   "execution_count": 5,
   "metadata": {},
   "outputs": [
    {
     "data": {
      "text/html": [
       "<div>\n",
       "<style scoped>\n",
       "    .dataframe tbody tr th:only-of-type {\n",
       "        vertical-align: middle;\n",
       "    }\n",
       "\n",
       "    .dataframe tbody tr th {\n",
       "        vertical-align: top;\n",
       "    }\n",
       "\n",
       "    .dataframe thead th {\n",
       "        text-align: right;\n",
       "    }\n",
       "</style>\n",
       "<table border=\"1\" class=\"dataframe\">\n",
       "  <thead>\n",
       "    <tr style=\"text-align: right;\">\n",
       "      <th></th>\n",
       "      <th>game_id</th>\n",
       "      <th>team_id</th>\n",
       "      <th>HoA</th>\n",
       "      <th>won</th>\n",
       "      <th>settled_in</th>\n",
       "      <th>head_coach</th>\n",
       "      <th>goals</th>\n",
       "      <th>shots</th>\n",
       "      <th>hits</th>\n",
       "      <th>pim</th>\n",
       "      <th>powerPlayOpportunities</th>\n",
       "      <th>powerPlayGoals</th>\n",
       "      <th>faceOffWinPercentage</th>\n",
       "      <th>giveaways</th>\n",
       "      <th>takeaways</th>\n",
       "    </tr>\n",
       "  </thead>\n",
       "  <tbody>\n",
       "    <tr>\n",
       "      <th>0</th>\n",
       "      <td>2011030221</td>\n",
       "      <td>1</td>\n",
       "      <td>away</td>\n",
       "      <td>False</td>\n",
       "      <td>OT</td>\n",
       "      <td>Peter DeBoer</td>\n",
       "      <td>3</td>\n",
       "      <td>26</td>\n",
       "      <td>31</td>\n",
       "      <td>12</td>\n",
       "      <td>3</td>\n",
       "      <td>1</td>\n",
       "      <td>44.9</td>\n",
       "      <td>6</td>\n",
       "      <td>7</td>\n",
       "    </tr>\n",
       "    <tr>\n",
       "      <th>1</th>\n",
       "      <td>2011030221</td>\n",
       "      <td>4</td>\n",
       "      <td>home</td>\n",
       "      <td>True</td>\n",
       "      <td>OT</td>\n",
       "      <td>Peter Laviolette</td>\n",
       "      <td>4</td>\n",
       "      <td>36</td>\n",
       "      <td>27</td>\n",
       "      <td>6</td>\n",
       "      <td>6</td>\n",
       "      <td>1</td>\n",
       "      <td>55.1</td>\n",
       "      <td>13</td>\n",
       "      <td>4</td>\n",
       "    </tr>\n",
       "    <tr>\n",
       "      <th>2</th>\n",
       "      <td>2011030222</td>\n",
       "      <td>1</td>\n",
       "      <td>away</td>\n",
       "      <td>True</td>\n",
       "      <td>REG</td>\n",
       "      <td>Peter DeBoer</td>\n",
       "      <td>4</td>\n",
       "      <td>35</td>\n",
       "      <td>32</td>\n",
       "      <td>12</td>\n",
       "      <td>4</td>\n",
       "      <td>0</td>\n",
       "      <td>50.9</td>\n",
       "      <td>8</td>\n",
       "      <td>7</td>\n",
       "    </tr>\n",
       "    <tr>\n",
       "      <th>3</th>\n",
       "      <td>2011030222</td>\n",
       "      <td>4</td>\n",
       "      <td>home</td>\n",
       "      <td>False</td>\n",
       "      <td>REG</td>\n",
       "      <td>Peter Laviolette</td>\n",
       "      <td>1</td>\n",
       "      <td>20</td>\n",
       "      <td>24</td>\n",
       "      <td>32</td>\n",
       "      <td>5</td>\n",
       "      <td>0</td>\n",
       "      <td>49.1</td>\n",
       "      <td>9</td>\n",
       "      <td>6</td>\n",
       "    </tr>\n",
       "    <tr>\n",
       "      <th>4</th>\n",
       "      <td>2011030223</td>\n",
       "      <td>4</td>\n",
       "      <td>away</td>\n",
       "      <td>False</td>\n",
       "      <td>OT</td>\n",
       "      <td>Peter Laviolette</td>\n",
       "      <td>3</td>\n",
       "      <td>28</td>\n",
       "      <td>28</td>\n",
       "      <td>4</td>\n",
       "      <td>5</td>\n",
       "      <td>1</td>\n",
       "      <td>50.8</td>\n",
       "      <td>2</td>\n",
       "      <td>1</td>\n",
       "    </tr>\n",
       "  </tbody>\n",
       "</table>\n",
       "</div>"
      ],
      "text/plain": [
       "      game_id  team_id   HoA    won settled_in        head_coach  goals  \\\n",
       "0  2011030221        1  away  False         OT      Peter DeBoer      3   \n",
       "1  2011030221        4  home   True         OT  Peter Laviolette      4   \n",
       "2  2011030222        1  away   True        REG      Peter DeBoer      4   \n",
       "3  2011030222        4  home  False        REG  Peter Laviolette      1   \n",
       "4  2011030223        4  away  False         OT  Peter Laviolette      3   \n",
       "\n",
       "   shots  hits  pim  powerPlayOpportunities  powerPlayGoals  \\\n",
       "0     26    31   12                       3               1   \n",
       "1     36    27    6                       6               1   \n",
       "2     35    32   12                       4               0   \n",
       "3     20    24   32                       5               0   \n",
       "4     28    28    4                       5               1   \n",
       "\n",
       "   faceOffWinPercentage  giveaways  takeaways  \n",
       "0                  44.9          6          7  \n",
       "1                  55.1         13          4  \n",
       "2                  50.9          8          7  \n",
       "3                  49.1          9          6  \n",
       "4                  50.8          2          1  "
      ]
     },
     "execution_count": 5,
     "metadata": {},
     "output_type": "execute_result"
    }
   ],
   "source": [
    "game_stats.head()"
   ]
  },
  {
   "cell_type": "code",
   "execution_count": 6,
   "metadata": {},
   "outputs": [],
   "source": [
    "home = game_stats.loc[game_stats['HoA']=='home']\n",
    "away = game_stats.loc[game_stats['HoA']=='away']"
   ]
  },
  {
   "cell_type": "code",
   "execution_count": 7,
   "metadata": {},
   "outputs": [],
   "source": [
    "games = home.merge(away, on='game_id', suffixes=['_home', '_away'])"
   ]
  },
  {
   "cell_type": "code",
   "execution_count": 8,
   "metadata": {},
   "outputs": [
    {
     "data": {
      "text/html": [
       "<div>\n",
       "<style scoped>\n",
       "    .dataframe tbody tr th:only-of-type {\n",
       "        vertical-align: middle;\n",
       "    }\n",
       "\n",
       "    .dataframe tbody tr th {\n",
       "        vertical-align: top;\n",
       "    }\n",
       "\n",
       "    .dataframe thead th {\n",
       "        text-align: right;\n",
       "    }\n",
       "</style>\n",
       "<table border=\"1\" class=\"dataframe\">\n",
       "  <thead>\n",
       "    <tr style=\"text-align: right;\">\n",
       "      <th></th>\n",
       "      <th>game_id</th>\n",
       "      <th>team_id_home</th>\n",
       "      <th>HoA_home</th>\n",
       "      <th>won_home</th>\n",
       "      <th>settled_in_home</th>\n",
       "      <th>head_coach_home</th>\n",
       "      <th>goals_home</th>\n",
       "      <th>shots_home</th>\n",
       "      <th>hits_home</th>\n",
       "      <th>pim_home</th>\n",
       "      <th>...</th>\n",
       "      <th>head_coach_away</th>\n",
       "      <th>goals_away</th>\n",
       "      <th>shots_away</th>\n",
       "      <th>hits_away</th>\n",
       "      <th>pim_away</th>\n",
       "      <th>powerPlayOpportunities_away</th>\n",
       "      <th>powerPlayGoals_away</th>\n",
       "      <th>faceOffWinPercentage_away</th>\n",
       "      <th>giveaways_away</th>\n",
       "      <th>takeaways_away</th>\n",
       "    </tr>\n",
       "  </thead>\n",
       "  <tbody>\n",
       "    <tr>\n",
       "      <th>0</th>\n",
       "      <td>2011030221</td>\n",
       "      <td>4</td>\n",
       "      <td>home</td>\n",
       "      <td>True</td>\n",
       "      <td>OT</td>\n",
       "      <td>Peter Laviolette</td>\n",
       "      <td>4</td>\n",
       "      <td>36</td>\n",
       "      <td>27</td>\n",
       "      <td>6</td>\n",
       "      <td>...</td>\n",
       "      <td>Peter DeBoer</td>\n",
       "      <td>3</td>\n",
       "      <td>26</td>\n",
       "      <td>31</td>\n",
       "      <td>12</td>\n",
       "      <td>3</td>\n",
       "      <td>1</td>\n",
       "      <td>44.9</td>\n",
       "      <td>6</td>\n",
       "      <td>7</td>\n",
       "    </tr>\n",
       "    <tr>\n",
       "      <th>1</th>\n",
       "      <td>2011030222</td>\n",
       "      <td>4</td>\n",
       "      <td>home</td>\n",
       "      <td>False</td>\n",
       "      <td>REG</td>\n",
       "      <td>Peter Laviolette</td>\n",
       "      <td>1</td>\n",
       "      <td>20</td>\n",
       "      <td>24</td>\n",
       "      <td>32</td>\n",
       "      <td>...</td>\n",
       "      <td>Peter DeBoer</td>\n",
       "      <td>4</td>\n",
       "      <td>35</td>\n",
       "      <td>32</td>\n",
       "      <td>12</td>\n",
       "      <td>4</td>\n",
       "      <td>0</td>\n",
       "      <td>50.9</td>\n",
       "      <td>8</td>\n",
       "      <td>7</td>\n",
       "    </tr>\n",
       "    <tr>\n",
       "      <th>2</th>\n",
       "      <td>2011030223</td>\n",
       "      <td>1</td>\n",
       "      <td>home</td>\n",
       "      <td>True</td>\n",
       "      <td>OT</td>\n",
       "      <td>Peter DeBoer</td>\n",
       "      <td>4</td>\n",
       "      <td>31</td>\n",
       "      <td>30</td>\n",
       "      <td>10</td>\n",
       "      <td>...</td>\n",
       "      <td>Peter Laviolette</td>\n",
       "      <td>3</td>\n",
       "      <td>28</td>\n",
       "      <td>28</td>\n",
       "      <td>4</td>\n",
       "      <td>5</td>\n",
       "      <td>1</td>\n",
       "      <td>50.8</td>\n",
       "      <td>2</td>\n",
       "      <td>1</td>\n",
       "    </tr>\n",
       "    <tr>\n",
       "      <th>3</th>\n",
       "      <td>2011030224</td>\n",
       "      <td>1</td>\n",
       "      <td>home</td>\n",
       "      <td>True</td>\n",
       "      <td>REG</td>\n",
       "      <td>Peter DeBoer</td>\n",
       "      <td>4</td>\n",
       "      <td>43</td>\n",
       "      <td>19</td>\n",
       "      <td>4</td>\n",
       "      <td>...</td>\n",
       "      <td>Peter Laviolette</td>\n",
       "      <td>2</td>\n",
       "      <td>22</td>\n",
       "      <td>23</td>\n",
       "      <td>10</td>\n",
       "      <td>2</td>\n",
       "      <td>1</td>\n",
       "      <td>62.5</td>\n",
       "      <td>20</td>\n",
       "      <td>5</td>\n",
       "    </tr>\n",
       "    <tr>\n",
       "      <th>4</th>\n",
       "      <td>2011030225</td>\n",
       "      <td>4</td>\n",
       "      <td>home</td>\n",
       "      <td>False</td>\n",
       "      <td>REG</td>\n",
       "      <td>Peter Laviolette</td>\n",
       "      <td>1</td>\n",
       "      <td>28</td>\n",
       "      <td>38</td>\n",
       "      <td>8</td>\n",
       "      <td>...</td>\n",
       "      <td>Peter DeBoer</td>\n",
       "      <td>3</td>\n",
       "      <td>30</td>\n",
       "      <td>26</td>\n",
       "      <td>2</td>\n",
       "      <td>4</td>\n",
       "      <td>1</td>\n",
       "      <td>55.0</td>\n",
       "      <td>6</td>\n",
       "      <td>5</td>\n",
       "    </tr>\n",
       "  </tbody>\n",
       "</table>\n",
       "<p>5 rows × 29 columns</p>\n",
       "</div>"
      ],
      "text/plain": [
       "      game_id  team_id_home HoA_home  won_home settled_in_home  \\\n",
       "0  2011030221             4     home      True              OT   \n",
       "1  2011030222             4     home     False             REG   \n",
       "2  2011030223             1     home      True              OT   \n",
       "3  2011030224             1     home      True             REG   \n",
       "4  2011030225             4     home     False             REG   \n",
       "\n",
       "    head_coach_home  goals_home  shots_home  hits_home  pim_home  ...  \\\n",
       "0  Peter Laviolette           4          36         27         6  ...   \n",
       "1  Peter Laviolette           1          20         24        32  ...   \n",
       "2      Peter DeBoer           4          31         30        10  ...   \n",
       "3      Peter DeBoer           4          43         19         4  ...   \n",
       "4  Peter Laviolette           1          28         38         8  ...   \n",
       "\n",
       "    head_coach_away  goals_away  shots_away  hits_away  pim_away  \\\n",
       "0      Peter DeBoer           3          26         31        12   \n",
       "1      Peter DeBoer           4          35         32        12   \n",
       "2  Peter Laviolette           3          28         28         4   \n",
       "3  Peter Laviolette           2          22         23        10   \n",
       "4      Peter DeBoer           3          30         26         2   \n",
       "\n",
       "   powerPlayOpportunities_away powerPlayGoals_away  faceOffWinPercentage_away  \\\n",
       "0                            3                   1                       44.9   \n",
       "1                            4                   0                       50.9   \n",
       "2                            5                   1                       50.8   \n",
       "3                            2                   1                       62.5   \n",
       "4                            4                   1                       55.0   \n",
       "\n",
       "  giveaways_away takeaways_away  \n",
       "0              6              7  \n",
       "1              8              7  \n",
       "2              2              1  \n",
       "3             20              5  \n",
       "4              6              5  \n",
       "\n",
       "[5 rows x 29 columns]"
      ]
     },
     "execution_count": 8,
     "metadata": {},
     "output_type": "execute_result"
    }
   ],
   "source": [
    "games.head()"
   ]
  },
  {
   "cell_type": "code",
   "execution_count": 9,
   "metadata": {},
   "outputs": [
    {
     "name": "stdout",
     "output_type": "stream",
     "text": [
      "Index(['game_id', 'team_id_home', 'HoA_home', 'won_home', 'settled_in_home',\n",
      "       'head_coach_home', 'goals_home', 'shots_home', 'hits_home', 'pim_home',\n",
      "       'powerPlayOpportunities_home', 'powerPlayGoals_home',\n",
      "       'faceOffWinPercentage_home', 'giveaways_home', 'takeaways_home',\n",
      "       'team_id_away', 'HoA_away', 'won_away', 'settled_in_away',\n",
      "       'head_coach_away', 'goals_away', 'shots_away', 'hits_away', 'pim_away',\n",
      "       'powerPlayOpportunities_away', 'powerPlayGoals_away',\n",
      "       'faceOffWinPercentage_away', 'giveaways_away', 'takeaways_away'],\n",
      "      dtype='object')\n"
     ]
    }
   ],
   "source": [
    "print(games.columns)"
   ]
  },
  {
   "cell_type": "code",
   "execution_count": 10,
   "metadata": {},
   "outputs": [],
   "source": [
    "relevant_columns = ['game_id', 'won_home', 'settled_in_home', 'shots_home', 'hits_home', 'pim_home',\n",
    "                   'powerPlayOpportunities_home', 'faceOffWinPercentage_home', 'giveaways_home', 'takeaways_home', \n",
    "                   'shots_away', 'hits_away', 'pim_away','powerPlayOpportunities_away', 'giveaways_away', 'takeaways_away']"
   ]
  },
  {
   "cell_type": "code",
   "execution_count": 11,
   "metadata": {},
   "outputs": [],
   "source": [
    "games = games.loc[:, relevant_columns]"
   ]
  },
  {
   "cell_type": "code",
   "execution_count": 12,
   "metadata": {},
   "outputs": [
    {
     "data": {
      "text/html": [
       "<div>\n",
       "<style scoped>\n",
       "    .dataframe tbody tr th:only-of-type {\n",
       "        vertical-align: middle;\n",
       "    }\n",
       "\n",
       "    .dataframe tbody tr th {\n",
       "        vertical-align: top;\n",
       "    }\n",
       "\n",
       "    .dataframe thead th {\n",
       "        text-align: right;\n",
       "    }\n",
       "</style>\n",
       "<table border=\"1\" class=\"dataframe\">\n",
       "  <thead>\n",
       "    <tr style=\"text-align: right;\">\n",
       "      <th></th>\n",
       "      <th>game_id</th>\n",
       "      <th>won_home</th>\n",
       "      <th>settled_in_home</th>\n",
       "      <th>shots_home</th>\n",
       "      <th>hits_home</th>\n",
       "      <th>pim_home</th>\n",
       "      <th>powerPlayOpportunities_home</th>\n",
       "      <th>faceOffWinPercentage_home</th>\n",
       "      <th>giveaways_home</th>\n",
       "      <th>takeaways_home</th>\n",
       "      <th>shots_away</th>\n",
       "      <th>hits_away</th>\n",
       "      <th>pim_away</th>\n",
       "      <th>powerPlayOpportunities_away</th>\n",
       "      <th>giveaways_away</th>\n",
       "      <th>takeaways_away</th>\n",
       "    </tr>\n",
       "  </thead>\n",
       "  <tbody>\n",
       "    <tr>\n",
       "      <th>0</th>\n",
       "      <td>2011030221</td>\n",
       "      <td>True</td>\n",
       "      <td>OT</td>\n",
       "      <td>36</td>\n",
       "      <td>27</td>\n",
       "      <td>6</td>\n",
       "      <td>6</td>\n",
       "      <td>55.1</td>\n",
       "      <td>13</td>\n",
       "      <td>4</td>\n",
       "      <td>26</td>\n",
       "      <td>31</td>\n",
       "      <td>12</td>\n",
       "      <td>3</td>\n",
       "      <td>6</td>\n",
       "      <td>7</td>\n",
       "    </tr>\n",
       "    <tr>\n",
       "      <th>1</th>\n",
       "      <td>2011030222</td>\n",
       "      <td>False</td>\n",
       "      <td>REG</td>\n",
       "      <td>20</td>\n",
       "      <td>24</td>\n",
       "      <td>32</td>\n",
       "      <td>5</td>\n",
       "      <td>49.1</td>\n",
       "      <td>9</td>\n",
       "      <td>6</td>\n",
       "      <td>35</td>\n",
       "      <td>32</td>\n",
       "      <td>12</td>\n",
       "      <td>4</td>\n",
       "      <td>8</td>\n",
       "      <td>7</td>\n",
       "    </tr>\n",
       "    <tr>\n",
       "      <th>2</th>\n",
       "      <td>2011030223</td>\n",
       "      <td>True</td>\n",
       "      <td>OT</td>\n",
       "      <td>31</td>\n",
       "      <td>30</td>\n",
       "      <td>10</td>\n",
       "      <td>2</td>\n",
       "      <td>49.2</td>\n",
       "      <td>11</td>\n",
       "      <td>4</td>\n",
       "      <td>28</td>\n",
       "      <td>28</td>\n",
       "      <td>4</td>\n",
       "      <td>5</td>\n",
       "      <td>2</td>\n",
       "      <td>1</td>\n",
       "    </tr>\n",
       "    <tr>\n",
       "      <th>3</th>\n",
       "      <td>2011030224</td>\n",
       "      <td>True</td>\n",
       "      <td>REG</td>\n",
       "      <td>43</td>\n",
       "      <td>19</td>\n",
       "      <td>4</td>\n",
       "      <td>5</td>\n",
       "      <td>37.5</td>\n",
       "      <td>5</td>\n",
       "      <td>3</td>\n",
       "      <td>22</td>\n",
       "      <td>23</td>\n",
       "      <td>10</td>\n",
       "      <td>2</td>\n",
       "      <td>20</td>\n",
       "      <td>5</td>\n",
       "    </tr>\n",
       "    <tr>\n",
       "      <th>4</th>\n",
       "      <td>2011030225</td>\n",
       "      <td>False</td>\n",
       "      <td>REG</td>\n",
       "      <td>28</td>\n",
       "      <td>38</td>\n",
       "      <td>8</td>\n",
       "      <td>1</td>\n",
       "      <td>45.0</td>\n",
       "      <td>14</td>\n",
       "      <td>7</td>\n",
       "      <td>30</td>\n",
       "      <td>26</td>\n",
       "      <td>2</td>\n",
       "      <td>4</td>\n",
       "      <td>6</td>\n",
       "      <td>5</td>\n",
       "    </tr>\n",
       "  </tbody>\n",
       "</table>\n",
       "</div>"
      ],
      "text/plain": [
       "      game_id  won_home settled_in_home  shots_home  hits_home  pim_home  \\\n",
       "0  2011030221      True              OT          36         27         6   \n",
       "1  2011030222     False             REG          20         24        32   \n",
       "2  2011030223      True              OT          31         30        10   \n",
       "3  2011030224      True             REG          43         19         4   \n",
       "4  2011030225     False             REG          28         38         8   \n",
       "\n",
       "   powerPlayOpportunities_home  faceOffWinPercentage_home  giveaways_home  \\\n",
       "0                            6                       55.1              13   \n",
       "1                            5                       49.1               9   \n",
       "2                            2                       49.2              11   \n",
       "3                            5                       37.5               5   \n",
       "4                            1                       45.0              14   \n",
       "\n",
       "   takeaways_home  shots_away  hits_away  pim_away  \\\n",
       "0               4          26         31        12   \n",
       "1               6          35         32        12   \n",
       "2               4          28         28         4   \n",
       "3               3          22         23        10   \n",
       "4               7          30         26         2   \n",
       "\n",
       "   powerPlayOpportunities_away  giveaways_away  takeaways_away  \n",
       "0                            3               6               7  \n",
       "1                            4               8               7  \n",
       "2                            5               2               1  \n",
       "3                            2              20               5  \n",
       "4                            4               6               5  "
      ]
     },
     "execution_count": 12,
     "metadata": {},
     "output_type": "execute_result"
    }
   ],
   "source": [
    "games.head()"
   ]
  },
  {
   "cell_type": "code",
   "execution_count": 13,
   "metadata": {},
   "outputs": [],
   "source": [
    "def result(x):\n",
    "    if x[1] == 'OT' or x[1] == 'SO':\n",
    "        return 'b_tie'\n",
    "    elif x[0]:\n",
    "        return 'a_home_win'\n",
    "    else:\n",
    "        return 'c_away_win'"
   ]
  },
  {
   "cell_type": "code",
   "execution_count": 14,
   "metadata": {},
   "outputs": [],
   "source": [
    "games['result'] = games.loc[:,['won_home', 'settled_in_home']].apply(result, axis=1)"
   ]
  },
  {
   "cell_type": "code",
   "execution_count": 20,
   "metadata": {},
   "outputs": [],
   "source": [
    "X = games.loc[:,'shots_home':'takeaways_away'].values\n",
    "y = games['result'].astype('category').cat.codes"
   ]
  },
  {
   "cell_type": "code",
   "execution_count": 22,
   "metadata": {},
   "outputs": [],
   "source": [
    "X_train, X_test, y_train, y_test = train_test_split(X, y, test_size=0.25, random_state=1313)"
   ]
  },
  {
   "cell_type": "code",
   "execution_count": 23,
   "metadata": {},
   "outputs": [
    {
     "name": "stdout",
     "output_type": "stream",
     "text": [
      "(8575, 13) (8575,)\n"
     ]
    }
   ],
   "source": [
    "print(X_train.shape, y_train.shape)"
   ]
  },
  {
   "cell_type": "code",
   "execution_count": 24,
   "metadata": {},
   "outputs": [
    {
     "name": "stderr",
     "output_type": "stream",
     "text": [
      "/home/danielkari/.local/lib/python3.6/site-packages/sklearn/linear_model/logistic.py:433: FutureWarning: Default solver will be changed to 'lbfgs' in 0.22. Specify a solver to silence this warning.\n",
      "  FutureWarning)\n",
      "/home/danielkari/.local/lib/python3.6/site-packages/sklearn/linear_model/logistic.py:460: FutureWarning: Default multi_class will be changed to 'auto' in 0.22. Specify the multi_class option to silence this warning.\n",
      "  \"this warning.\", FutureWarning)\n"
     ]
    }
   ],
   "source": [
    "model_logistic = LogisticRegression(random_state=1313).fit(X_train, y_train)"
   ]
  },
  {
   "cell_type": "code",
   "execution_count": 25,
   "metadata": {},
   "outputs": [
    {
     "name": "stdout",
     "output_type": "stream",
     "text": [
      "0.5082196572228052\n"
     ]
    }
   ],
   "source": [
    "print(model_logistic.score(X_test, y_test))"
   ]
  },
  {
   "cell_type": "code",
   "execution_count": 27,
   "metadata": {},
   "outputs": [],
   "source": [
    "y_pred_logi = model_logistic.predict(X_test)"
   ]
  },
  {
   "cell_type": "code",
   "execution_count": 30,
   "metadata": {},
   "outputs": [
    {
     "name": "stdout",
     "output_type": "stream",
     "text": [
      "1691\n",
      "203\n",
      "965\n"
     ]
    }
   ],
   "source": [
    "print(np.sum(np.equal(y_pred_logi, 0)))\n",
    "print(np.sum(np.equal(y_pred_logi, 1)))\n",
    "print(np.sum(np.equal(y_pred_logi, 2)))"
   ]
  },
  {
   "cell_type": "code",
   "execution_count": 32,
   "metadata": {},
   "outputs": [],
   "source": [
    "def confusion_matrix(y_test, y_pred, classes):\n",
    "    con_mat = tf.math.confusion_matrix(y_test.argmax(axis=1), y_pred.argmax(axis=1)).numpy()\n",
    "    con_mat_norm = np.around(con_mat.astype('float') / con_mat.sum(axis=1)[:, np.newaxis], decimals=2)\n",
    "    con_mat_df = pd.DataFrame(con_mat_norm, index=classes, columns=classes)\n",
    "    \n",
    "    figure = plt.figure(figsize=(4, 4))\n",
    "    sns.heatmap(con_mat_df, annot=True, cmap=plt.cm.coolwarm)\n",
    "\n",
    "    plt.ylabel('True label')\n",
    "    plt.xlabel('Predicted label')\n",
    "    plt.show()"
   ]
  },
  {
   "cell_type": "code",
   "execution_count": 38,
   "metadata": {},
   "outputs": [
    {
     "name": "stdout",
     "output_type": "stream",
     "text": [
      "              precision    recall  f1-score   support\n",
      "\n",
      "           0       0.51      0.72      0.60      1201\n",
      "           1       0.48      0.14      0.22       695\n",
      "           2       0.50      0.50      0.50       963\n",
      "\n",
      "   micro avg       0.51      0.51      0.51      2859\n",
      "   macro avg       0.50      0.46      0.44      2859\n",
      "weighted avg       0.50      0.51      0.48      2859\n",
      "\n"
     ]
    }
   ],
   "source": [
    "classes = ['home win REG', 'OT/SO', 'away win REG']\n",
    "print(classification_report(y_test, y_pred_logi))"
   ]
  },
  {
   "cell_type": "code",
   "execution_count": 40,
   "metadata": {},
   "outputs": [
    {
     "name": "stdout",
     "output_type": "stream",
     "text": [
      "[[870  54 277]\n",
      " [394  98 203]\n",
      " [427  51 485]]\n"
     ]
    }
   ],
   "source": [
    "print(confusion_matrix(y_test, y_pred_logi))"
   ]
  },
  {
   "cell_type": "code",
   "execution_count": 46,
   "metadata": {},
   "outputs": [],
   "source": [
    "model = tf.keras.models.Sequential([\n",
    "  tf.keras.layers.Dense(512, activation='relu'),\n",
    "  tf.keras.layers.Dense(256, activation='relu'),\n",
    "  tf.keras.layers.Dense(128, activation='relu'),\n",
    "  tf.keras.layers.Dropout(0.5),  \n",
    "  tf.keras.layers.Dense(3, activation='softmax')\n",
    "])\n",
    "model.compile(optimizer='adam',\n",
    "              loss='categorical_crossentropy',\n",
    "              metrics=['accuracy'])"
   ]
  },
  {
   "cell_type": "code",
   "execution_count": 47,
   "metadata": {},
   "outputs": [
    {
     "name": "stdout",
     "output_type": "stream",
     "text": [
      "Epoch 1/10\n",
      "8575/8575 [==============================] - 1s 160us/sample - loss: 1.1551 - acc: 0.4181\n",
      "Epoch 2/10\n",
      "8575/8575 [==============================] - 1s 126us/sample - loss: 1.0562 - acc: 0.4461\n",
      "Epoch 3/10\n",
      "8575/8575 [==============================] - 1s 131us/sample - loss: 1.0448 - acc: 0.4657\n",
      "Epoch 4/10\n",
      "8575/8575 [==============================] - 1s 131us/sample - loss: 1.0390 - acc: 0.4715\n",
      "Epoch 5/10\n",
      "8575/8575 [==============================] - 1s 132us/sample - loss: 1.0353 - acc: 0.4699\n",
      "Epoch 6/10\n",
      "8575/8575 [==============================] - 1s 147us/sample - loss: 1.0320 - acc: 0.4781\n",
      "Epoch 7/10\n",
      "8575/8575 [==============================] - 1s 142us/sample - loss: 1.0300 - acc: 0.4833\n",
      "Epoch 8/10\n",
      "8575/8575 [==============================] - 1s 138us/sample - loss: 1.0234 - acc: 0.4929\n",
      "Epoch 9/10\n",
      "8575/8575 [==============================] - 1s 136us/sample - loss: 1.0229 - acc: 0.4858\n",
      "Epoch 10/10\n",
      "8575/8575 [==============================] - 1s 137us/sample - loss: 1.0222 - acc: 0.4898\n",
      "2859/2859 [==============================] - 0s 81us/sample - loss: 1.0163 - acc: 0.4904\n"
     ]
    },
    {
     "data": {
      "text/plain": [
       "[1.0163273110845032, 0.49038124]"
      ]
     },
     "execution_count": 47,
     "metadata": {},
     "output_type": "execute_result"
    }
   ],
   "source": [
    "model.fit(X_train, y_train, epochs=10)\n",
    "model.evaluate(X_test, y_test)"
   ]
  },
  {
   "cell_type": "code",
   "execution_count": 41,
   "metadata": {},
   "outputs": [],
   "source": [
    "y_pred = model.predict(X_test)"
   ]
  },
  {
   "cell_type": "code",
   "execution_count": 37,
   "metadata": {},
   "outputs": [
    {
     "name": "stdout",
     "output_type": "stream",
     "text": [
      "1100\n",
      "612\n",
      "1147\n"
     ]
    }
   ],
   "source": [
    "print(np.sum(np.equal(y_pred.argmax(axis=1), 0)))\n",
    "print(np.sum(np.equal(y_pred.argmax(axis=1), 1)))\n",
    "print(np.sum(np.equal(y_pred.argmax(axis=1), 2)))"
   ]
  },
  {
   "cell_type": "code",
   "execution_count": null,
   "metadata": {},
   "outputs": [],
   "source": []
  }
 ],
 "metadata": {
  "kernelspec": {
   "display_name": "Python 3",
   "language": "python",
   "name": "python3"
  },
  "language_info": {
   "codemirror_mode": {
    "name": "ipython",
    "version": 3
   },
   "file_extension": ".py",
   "mimetype": "text/x-python",
   "name": "python",
   "nbconvert_exporter": "python",
   "pygments_lexer": "ipython3",
   "version": "3.6.8"
  }
 },
 "nbformat": 4,
 "nbformat_minor": 2
}
